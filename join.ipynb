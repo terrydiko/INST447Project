{
 "cells": [
  {
   "cell_type": "code",
   "execution_count": 27,
   "metadata": {},
   "outputs": [],
   "source": [
    "# !pip install folium"
   ]
  },
  {
   "cell_type": "code",
   "execution_count": 1,
   "metadata": {},
   "outputs": [],
   "source": [
    "import pandas as pd \n",
    "import folium"
   ]
  },
  {
   "cell_type": "code",
   "execution_count": 3,
   "metadata": {},
   "outputs": [
    {
     "output_type": "execute_result",
     "data": {
      "text/plain": [
       "       report_number driver_at_fault speed_limit vehicle_year\n",
       "0        MCP3239001B             Yes          15         2006\n",
       "1        MCP3290000G             Yes          40         2006\n",
       "2        MCP3283000M             Yes          30         2018\n",
       "3        MCP2892009B              No          35         2013\n",
       "4        MCP2892009B             Yes          35            0\n",
       "...              ...             ...         ...          ...\n",
       "123287   MCP2783000G              No          40         2002\n",
       "123288   MCP2686000D              No          40         2007\n",
       "123289   MCP2686000D             Yes          40         2010\n",
       "123290   MCP11520005             Yes          35         2008\n",
       "123291   MCP11520005              No          35         1993\n",
       "\n",
       "[123292 rows x 4 columns]"
      ],
      "text/html": "<div>\n<style scoped>\n    .dataframe tbody tr th:only-of-type {\n        vertical-align: middle;\n    }\n\n    .dataframe tbody tr th {\n        vertical-align: top;\n    }\n\n    .dataframe thead th {\n        text-align: right;\n    }\n</style>\n<table border=\"1\" class=\"dataframe\">\n  <thead>\n    <tr style=\"text-align: right;\">\n      <th></th>\n      <th>report_number</th>\n      <th>driver_at_fault</th>\n      <th>speed_limit</th>\n      <th>vehicle_year</th>\n    </tr>\n  </thead>\n  <tbody>\n    <tr>\n      <th>0</th>\n      <td>MCP3239001B</td>\n      <td>Yes</td>\n      <td>15</td>\n      <td>2006</td>\n    </tr>\n    <tr>\n      <th>1</th>\n      <td>MCP3290000G</td>\n      <td>Yes</td>\n      <td>40</td>\n      <td>2006</td>\n    </tr>\n    <tr>\n      <th>2</th>\n      <td>MCP3283000M</td>\n      <td>Yes</td>\n      <td>30</td>\n      <td>2018</td>\n    </tr>\n    <tr>\n      <th>3</th>\n      <td>MCP2892009B</td>\n      <td>No</td>\n      <td>35</td>\n      <td>2013</td>\n    </tr>\n    <tr>\n      <th>4</th>\n      <td>MCP2892009B</td>\n      <td>Yes</td>\n      <td>35</td>\n      <td>0</td>\n    </tr>\n    <tr>\n      <th>...</th>\n      <td>...</td>\n      <td>...</td>\n      <td>...</td>\n      <td>...</td>\n    </tr>\n    <tr>\n      <th>123287</th>\n      <td>MCP2783000G</td>\n      <td>No</td>\n      <td>40</td>\n      <td>2002</td>\n    </tr>\n    <tr>\n      <th>123288</th>\n      <td>MCP2686000D</td>\n      <td>No</td>\n      <td>40</td>\n      <td>2007</td>\n    </tr>\n    <tr>\n      <th>123289</th>\n      <td>MCP2686000D</td>\n      <td>Yes</td>\n      <td>40</td>\n      <td>2010</td>\n    </tr>\n    <tr>\n      <th>123290</th>\n      <td>MCP11520005</td>\n      <td>Yes</td>\n      <td>35</td>\n      <td>2008</td>\n    </tr>\n    <tr>\n      <th>123291</th>\n      <td>MCP11520005</td>\n      <td>No</td>\n      <td>35</td>\n      <td>1993</td>\n    </tr>\n  </tbody>\n</table>\n<p>123292 rows × 4 columns</p>\n</div>"
     },
     "metadata": {},
     "execution_count": 3
    }
   ],
   "source": [
    "\n",
    "drivers = pd.read_csv(\"https://raw.githubusercontent.com/terrydiko/INST447Project/main/Drivers.csv\", encoding='utf-8', dtype=\"str\")\n",
    "drivers"
   ]
  },
  {
   "cell_type": "code",
   "execution_count": 4,
   "metadata": {},
   "outputs": [
    {
     "output_type": "execute_result",
     "data": {
      "text/plain": [
       "      report_number               agency_name       acrs_report_type  \\\n",
       "0       MCP3239001B  Montgomery County Police           Injury Crash   \n",
       "1       MCP3290000G  Montgomery County Police  Property Damage Crash   \n",
       "2       MCP3283000M  Montgomery County Police  Property Damage Crash   \n",
       "3       MCP2892009B  Montgomery County Police  Property Damage Crash   \n",
       "4       MCP2899004S  Montgomery County Police  Property Damage Crash   \n",
       "...             ...                       ...                    ...   \n",
       "69553   MCP23000002  Montgomery County Police  Property Damage Crash   \n",
       "69554   MCP2674000D  Montgomery County Police  Property Damage Crash   \n",
       "69555   MCP2783000G  Montgomery County Police           Injury Crash   \n",
       "69556   MCP2686000D  Montgomery County Police  Property Damage Crash   \n",
       "69557   MCP11520005  Montgomery County Police  Property Damage Crash   \n",
       "\n",
       "               crash_date_time direction weather     latitude     longitude  \n",
       "0      2021-04-28T21:09:00.000       NaN   CLEAR  39.04605063  -76.99075732  \n",
       "1      2021-04-28T21:01:00.000     South   CLEAR    39.059336    -76.944363  \n",
       "2      2021-04-28T20:37:00.000      East   CLEAR      39.0471    -77.225175  \n",
       "3      2021-04-28T17:58:00.000     South   CLEAR     39.01532    -77.042505  \n",
       "4      2021-04-28T17:34:00.000     South   CLEAR    39.139095  -77.26846667  \n",
       "...                        ...       ...     ...          ...           ...  \n",
       "69553  2015-01-01T02:00:00.000     North   CLEAR    39.148678    -77.093848  \n",
       "69554  2015-01-01T01:26:00.000     North   CLEAR    39.158059    -77.204349  \n",
       "69555  2015-01-01T01:14:00.000      East   CLEAR  39.09621667  -77.10980333  \n",
       "69556  2015-01-01T01:10:00.000     South     NaN     39.19661  -77.26554667  \n",
       "69557  2015-01-01T00:30:00.000     North   CLEAR  39.02200107  -77.10267305  \n",
       "\n",
       "[69558 rows x 8 columns]"
      ],
      "text/html": "<div>\n<style scoped>\n    .dataframe tbody tr th:only-of-type {\n        vertical-align: middle;\n    }\n\n    .dataframe tbody tr th {\n        vertical-align: top;\n    }\n\n    .dataframe thead th {\n        text-align: right;\n    }\n</style>\n<table border=\"1\" class=\"dataframe\">\n  <thead>\n    <tr style=\"text-align: right;\">\n      <th></th>\n      <th>report_number</th>\n      <th>agency_name</th>\n      <th>acrs_report_type</th>\n      <th>crash_date_time</th>\n      <th>direction</th>\n      <th>weather</th>\n      <th>latitude</th>\n      <th>longitude</th>\n    </tr>\n  </thead>\n  <tbody>\n    <tr>\n      <th>0</th>\n      <td>MCP3239001B</td>\n      <td>Montgomery County Police</td>\n      <td>Injury Crash</td>\n      <td>2021-04-28T21:09:00.000</td>\n      <td>NaN</td>\n      <td>CLEAR</td>\n      <td>39.04605063</td>\n      <td>-76.99075732</td>\n    </tr>\n    <tr>\n      <th>1</th>\n      <td>MCP3290000G</td>\n      <td>Montgomery County Police</td>\n      <td>Property Damage Crash</td>\n      <td>2021-04-28T21:01:00.000</td>\n      <td>South</td>\n      <td>CLEAR</td>\n      <td>39.059336</td>\n      <td>-76.944363</td>\n    </tr>\n    <tr>\n      <th>2</th>\n      <td>MCP3283000M</td>\n      <td>Montgomery County Police</td>\n      <td>Property Damage Crash</td>\n      <td>2021-04-28T20:37:00.000</td>\n      <td>East</td>\n      <td>CLEAR</td>\n      <td>39.0471</td>\n      <td>-77.225175</td>\n    </tr>\n    <tr>\n      <th>3</th>\n      <td>MCP2892009B</td>\n      <td>Montgomery County Police</td>\n      <td>Property Damage Crash</td>\n      <td>2021-04-28T17:58:00.000</td>\n      <td>South</td>\n      <td>CLEAR</td>\n      <td>39.01532</td>\n      <td>-77.042505</td>\n    </tr>\n    <tr>\n      <th>4</th>\n      <td>MCP2899004S</td>\n      <td>Montgomery County Police</td>\n      <td>Property Damage Crash</td>\n      <td>2021-04-28T17:34:00.000</td>\n      <td>South</td>\n      <td>CLEAR</td>\n      <td>39.139095</td>\n      <td>-77.26846667</td>\n    </tr>\n    <tr>\n      <th>...</th>\n      <td>...</td>\n      <td>...</td>\n      <td>...</td>\n      <td>...</td>\n      <td>...</td>\n      <td>...</td>\n      <td>...</td>\n      <td>...</td>\n    </tr>\n    <tr>\n      <th>69553</th>\n      <td>MCP23000002</td>\n      <td>Montgomery County Police</td>\n      <td>Property Damage Crash</td>\n      <td>2015-01-01T02:00:00.000</td>\n      <td>North</td>\n      <td>CLEAR</td>\n      <td>39.148678</td>\n      <td>-77.093848</td>\n    </tr>\n    <tr>\n      <th>69554</th>\n      <td>MCP2674000D</td>\n      <td>Montgomery County Police</td>\n      <td>Property Damage Crash</td>\n      <td>2015-01-01T01:26:00.000</td>\n      <td>North</td>\n      <td>CLEAR</td>\n      <td>39.158059</td>\n      <td>-77.204349</td>\n    </tr>\n    <tr>\n      <th>69555</th>\n      <td>MCP2783000G</td>\n      <td>Montgomery County Police</td>\n      <td>Injury Crash</td>\n      <td>2015-01-01T01:14:00.000</td>\n      <td>East</td>\n      <td>CLEAR</td>\n      <td>39.09621667</td>\n      <td>-77.10980333</td>\n    </tr>\n    <tr>\n      <th>69556</th>\n      <td>MCP2686000D</td>\n      <td>Montgomery County Police</td>\n      <td>Property Damage Crash</td>\n      <td>2015-01-01T01:10:00.000</td>\n      <td>South</td>\n      <td>NaN</td>\n      <td>39.19661</td>\n      <td>-77.26554667</td>\n    </tr>\n    <tr>\n      <th>69557</th>\n      <td>MCP11520005</td>\n      <td>Montgomery County Police</td>\n      <td>Property Damage Crash</td>\n      <td>2015-01-01T00:30:00.000</td>\n      <td>North</td>\n      <td>CLEAR</td>\n      <td>39.02200107</td>\n      <td>-77.10267305</td>\n    </tr>\n  </tbody>\n</table>\n<p>69558 rows × 8 columns</p>\n</div>"
     },
     "metadata": {},
     "execution_count": 4
    }
   ],
   "source": [
    "incidents = pd.read_csv(\"https://raw.githubusercontent.com/terrydiko/INST447Project/main/Incidents.csv\", encoding= 'utf-8', dtype=\"str\")\n",
    "incidents"
   ]
  },
  {
   "cell_type": "code",
   "execution_count": 6,
   "metadata": {},
   "outputs": [
    {
     "output_type": "execute_result",
     "data": {
      "text/plain": [
       "       report_number               agency_name       acrs_report_type  \\\n",
       "1        MCP3290000G  Montgomery County Police  Property Damage Crash   \n",
       "2        MCP3283000M  Montgomery County Police  Property Damage Crash   \n",
       "3        MCP2892009B  Montgomery County Police  Property Damage Crash   \n",
       "5        MCP2899004S  Montgomery County Police  Property Damage Crash   \n",
       "6        MCP2864003Y  Montgomery County Police  Property Damage Crash   \n",
       "...              ...                       ...                    ...   \n",
       "123285   MCP2674000D  Montgomery County Police  Property Damage Crash   \n",
       "123286   MCP2783000G  Montgomery County Police           Injury Crash   \n",
       "123287   MCP2783000G  Montgomery County Police           Injury Crash   \n",
       "123290   MCP11520005  Montgomery County Police  Property Damage Crash   \n",
       "123291   MCP11520005  Montgomery County Police  Property Damage Crash   \n",
       "\n",
       "                crash_date_time direction weather     latitude     longitude  \\\n",
       "1       2021-04-28T21:01:00.000     South   CLEAR    39.059336    -76.944363   \n",
       "2       2021-04-28T20:37:00.000      East   CLEAR      39.0471    -77.225175   \n",
       "3       2021-04-28T17:58:00.000     South   CLEAR     39.01532    -77.042505   \n",
       "5       2021-04-28T17:34:00.000     South   CLEAR    39.139095  -77.26846667   \n",
       "6       2021-04-28T16:26:00.000      West   CLEAR  39.10029167  -77.18490833   \n",
       "...                         ...       ...     ...          ...           ...   \n",
       "123285  2015-01-01T01:26:00.000     North   CLEAR    39.158059    -77.204349   \n",
       "123286  2015-01-01T01:14:00.000      East   CLEAR  39.09621667  -77.10980333   \n",
       "123287  2015-01-01T01:14:00.000      East   CLEAR  39.09621667  -77.10980333   \n",
       "123290  2015-01-01T00:30:00.000     North   CLEAR  39.02200107  -77.10267305   \n",
       "123291  2015-01-01T00:30:00.000     North   CLEAR  39.02200107  -77.10267305   \n",
       "\n",
       "       driver_at_fault speed_limit  vehicle_year  \n",
       "1                  Yes          40          2006  \n",
       "2                  Yes          30          2018  \n",
       "3                   No          35          2013  \n",
       "5                  Yes          55          2015  \n",
       "6                  Yes          40          2006  \n",
       "...                ...         ...           ...  \n",
       "123285              No          35          2014  \n",
       "123286             Yes          40          1999  \n",
       "123287              No          40          2002  \n",
       "123290             Yes          35          2008  \n",
       "123291              No          35          1993  \n",
       "\n",
       "[101035 rows x 11 columns]"
      ],
      "text/html": "<div>\n<style scoped>\n    .dataframe tbody tr th:only-of-type {\n        vertical-align: middle;\n    }\n\n    .dataframe tbody tr th {\n        vertical-align: top;\n    }\n\n    .dataframe thead th {\n        text-align: right;\n    }\n</style>\n<table border=\"1\" class=\"dataframe\">\n  <thead>\n    <tr style=\"text-align: right;\">\n      <th></th>\n      <th>report_number</th>\n      <th>agency_name</th>\n      <th>acrs_report_type</th>\n      <th>crash_date_time</th>\n      <th>direction</th>\n      <th>weather</th>\n      <th>latitude</th>\n      <th>longitude</th>\n      <th>driver_at_fault</th>\n      <th>speed_limit</th>\n      <th>vehicle_year</th>\n    </tr>\n  </thead>\n  <tbody>\n    <tr>\n      <th>1</th>\n      <td>MCP3290000G</td>\n      <td>Montgomery County Police</td>\n      <td>Property Damage Crash</td>\n      <td>2021-04-28T21:01:00.000</td>\n      <td>South</td>\n      <td>CLEAR</td>\n      <td>39.059336</td>\n      <td>-76.944363</td>\n      <td>Yes</td>\n      <td>40</td>\n      <td>2006</td>\n    </tr>\n    <tr>\n      <th>2</th>\n      <td>MCP3283000M</td>\n      <td>Montgomery County Police</td>\n      <td>Property Damage Crash</td>\n      <td>2021-04-28T20:37:00.000</td>\n      <td>East</td>\n      <td>CLEAR</td>\n      <td>39.0471</td>\n      <td>-77.225175</td>\n      <td>Yes</td>\n      <td>30</td>\n      <td>2018</td>\n    </tr>\n    <tr>\n      <th>3</th>\n      <td>MCP2892009B</td>\n      <td>Montgomery County Police</td>\n      <td>Property Damage Crash</td>\n      <td>2021-04-28T17:58:00.000</td>\n      <td>South</td>\n      <td>CLEAR</td>\n      <td>39.01532</td>\n      <td>-77.042505</td>\n      <td>No</td>\n      <td>35</td>\n      <td>2013</td>\n    </tr>\n    <tr>\n      <th>5</th>\n      <td>MCP2899004S</td>\n      <td>Montgomery County Police</td>\n      <td>Property Damage Crash</td>\n      <td>2021-04-28T17:34:00.000</td>\n      <td>South</td>\n      <td>CLEAR</td>\n      <td>39.139095</td>\n      <td>-77.26846667</td>\n      <td>Yes</td>\n      <td>55</td>\n      <td>2015</td>\n    </tr>\n    <tr>\n      <th>6</th>\n      <td>MCP2864003Y</td>\n      <td>Montgomery County Police</td>\n      <td>Property Damage Crash</td>\n      <td>2021-04-28T16:26:00.000</td>\n      <td>West</td>\n      <td>CLEAR</td>\n      <td>39.10029167</td>\n      <td>-77.18490833</td>\n      <td>Yes</td>\n      <td>40</td>\n      <td>2006</td>\n    </tr>\n    <tr>\n      <th>...</th>\n      <td>...</td>\n      <td>...</td>\n      <td>...</td>\n      <td>...</td>\n      <td>...</td>\n      <td>...</td>\n      <td>...</td>\n      <td>...</td>\n      <td>...</td>\n      <td>...</td>\n      <td>...</td>\n    </tr>\n    <tr>\n      <th>123285</th>\n      <td>MCP2674000D</td>\n      <td>Montgomery County Police</td>\n      <td>Property Damage Crash</td>\n      <td>2015-01-01T01:26:00.000</td>\n      <td>North</td>\n      <td>CLEAR</td>\n      <td>39.158059</td>\n      <td>-77.204349</td>\n      <td>No</td>\n      <td>35</td>\n      <td>2014</td>\n    </tr>\n    <tr>\n      <th>123286</th>\n      <td>MCP2783000G</td>\n      <td>Montgomery County Police</td>\n      <td>Injury Crash</td>\n      <td>2015-01-01T01:14:00.000</td>\n      <td>East</td>\n      <td>CLEAR</td>\n      <td>39.09621667</td>\n      <td>-77.10980333</td>\n      <td>Yes</td>\n      <td>40</td>\n      <td>1999</td>\n    </tr>\n    <tr>\n      <th>123287</th>\n      <td>MCP2783000G</td>\n      <td>Montgomery County Police</td>\n      <td>Injury Crash</td>\n      <td>2015-01-01T01:14:00.000</td>\n      <td>East</td>\n      <td>CLEAR</td>\n      <td>39.09621667</td>\n      <td>-77.10980333</td>\n      <td>No</td>\n      <td>40</td>\n      <td>2002</td>\n    </tr>\n    <tr>\n      <th>123290</th>\n      <td>MCP11520005</td>\n      <td>Montgomery County Police</td>\n      <td>Property Damage Crash</td>\n      <td>2015-01-01T00:30:00.000</td>\n      <td>North</td>\n      <td>CLEAR</td>\n      <td>39.02200107</td>\n      <td>-77.10267305</td>\n      <td>Yes</td>\n      <td>35</td>\n      <td>2008</td>\n    </tr>\n    <tr>\n      <th>123291</th>\n      <td>MCP11520005</td>\n      <td>Montgomery County Police</td>\n      <td>Property Damage Crash</td>\n      <td>2015-01-01T00:30:00.000</td>\n      <td>North</td>\n      <td>CLEAR</td>\n      <td>39.02200107</td>\n      <td>-77.10267305</td>\n      <td>No</td>\n      <td>35</td>\n      <td>1993</td>\n    </tr>\n  </tbody>\n</table>\n<p>101035 rows × 11 columns</p>\n</div>"
     },
     "metadata": {},
     "execution_count": 6
    }
   ],
   "source": [
    "merge_data = incidents.merge(drivers, on='report_number', how='inner')\n",
    "merge_data[\"vehicle_year\"] = merge_data[\"vehicle_year\"].apply(lambda x : int(x))\n",
    "merge_data = merge_data.dropna()\n",
    "merge_data = merge_data.query(\"vehicle_year >= 1960 and vehicle_year <= 2021\")\n",
    "merge_data = merge_data.query(\"direction != 'Unknown'\")\n",
    "merge_data = merge_data.query(\"weather not in ['OTHER','UNKNOWN']\")\n",
    "\n",
    "merge_data\n",
    "# Project Focus/Goal\n",
    "# What factors have the biggest influence in car accidents?\n",
    "# Factors: Year of Vehicle, Time of Accident, Weather, Number of Lanes, Speed Limit\n"
   ]
  },
  {
   "cell_type": "code",
   "execution_count": 7,
   "metadata": {},
   "outputs": [
    {
     "output_type": "execute_result",
     "data": {
      "text/plain": [
       "[1960,\n",
       " 1963,\n",
       " 1965,\n",
       " 1966,\n",
       " 1967,\n",
       " 1968,\n",
       " 1969,\n",
       " 1970,\n",
       " 1971,\n",
       " 1972,\n",
       " 1974,\n",
       " 1975,\n",
       " 1976,\n",
       " 1977,\n",
       " 1978,\n",
       " 1979,\n",
       " 1980,\n",
       " 1981,\n",
       " 1982,\n",
       " 1983,\n",
       " 1984,\n",
       " 1985,\n",
       " 1986,\n",
       " 1987,\n",
       " 1988,\n",
       " 1989,\n",
       " 1990,\n",
       " 1991,\n",
       " 1992,\n",
       " 1993,\n",
       " 1994,\n",
       " 1995,\n",
       " 1996,\n",
       " 1997,\n",
       " 1998,\n",
       " 1999,\n",
       " 2000,\n",
       " 2001,\n",
       " 2002,\n",
       " 2003,\n",
       " 2004,\n",
       " 2005,\n",
       " 2006,\n",
       " 2007,\n",
       " 2008,\n",
       " 2009,\n",
       " 2010,\n",
       " 2011,\n",
       " 2012,\n",
       " 2013,\n",
       " 2014,\n",
       " 2015,\n",
       " 2016,\n",
       " 2017,\n",
       " 2018,\n",
       " 2019,\n",
       " 2020,\n",
       " 2021]"
      ]
     },
     "metadata": {},
     "execution_count": 7
    }
   ],
   "source": [
    "# Vehicle Year Unique Values\n",
    "sorted(merge_data[\"vehicle_year\"].unique())"
   ]
  },
  {
   "cell_type": "code",
   "execution_count": 8,
   "metadata": {},
   "outputs": [
    {
     "output_type": "execute_result",
     "data": {
      "text/plain": [
       "['East', 'North', 'South', 'West']"
      ]
     },
     "metadata": {},
     "execution_count": 8
    }
   ],
   "source": [
    "# Direction Unique Values\n",
    "sorted(merge_data[\"direction\"].unique())"
   ]
  },
  {
   "cell_type": "code",
   "execution_count": 9,
   "metadata": {},
   "outputs": [
    {
     "output_type": "execute_result",
     "data": {
      "text/plain": [
       "['BLOWING SAND, SOIL, DIRT',\n",
       " 'BLOWING SNOW',\n",
       " 'CLEAR',\n",
       " 'CLOUDY',\n",
       " 'FOGGY',\n",
       " 'RAINING',\n",
       " 'SEVERE WINDS',\n",
       " 'SLEET',\n",
       " 'SNOW',\n",
       " 'WINTRY MIX']"
      ]
     },
     "metadata": {},
     "execution_count": 9
    }
   ],
   "source": [
    "# Weather Unique Values\n",
    "sorted(merge_data[\"weather\"].unique())"
   ]
  },
  {
   "cell_type": "code",
   "execution_count": 10,
   "metadata": {},
   "outputs": [],
   "source": [
    "import matplotlib.pyplot as plt\n",
    "import numpy as \n",
    "%matplotlib inline"
   ]
  },
  {
   "cell_type": "code",
   "execution_count": 22,
   "metadata": {},
   "outputs": [
    {
     "output_type": "execute_result",
     "data": {
      "text/plain": [
       "   vehicle_year  num_incidents\n",
       "38         2002           3067\n",
       "39         2003           3803\n",
       "40         2004           4309\n",
       "41         2005           4522\n",
       "42         2006           5115\n",
       "43         2007           5363\n",
       "44         2008           5211\n",
       "45         2009           4478\n",
       "46         2010           4821\n",
       "47         2011           5539\n",
       "48         2012           5986\n",
       "49         2013           6901\n",
       "50         2014           7216\n",
       "51         2015           7280\n",
       "52         2016           6319\n",
       "53         2017           4646\n",
       "54         2018           2896\n",
       "55         2019           1791\n",
       "56         2020            651\n",
       "57         2021             84"
      ],
      "text/html": "<div>\n<style scoped>\n    .dataframe tbody tr th:only-of-type {\n        vertical-align: middle;\n    }\n\n    .dataframe tbody tr th {\n        vertical-align: top;\n    }\n\n    .dataframe thead th {\n        text-align: right;\n    }\n</style>\n<table border=\"1\" class=\"dataframe\">\n  <thead>\n    <tr style=\"text-align: right;\">\n      <th></th>\n      <th>vehicle_year</th>\n      <th>num_incidents</th>\n    </tr>\n  </thead>\n  <tbody>\n    <tr>\n      <th>38</th>\n      <td>2002</td>\n      <td>3067</td>\n    </tr>\n    <tr>\n      <th>39</th>\n      <td>2003</td>\n      <td>3803</td>\n    </tr>\n    <tr>\n      <th>40</th>\n      <td>2004</td>\n      <td>4309</td>\n    </tr>\n    <tr>\n      <th>41</th>\n      <td>2005</td>\n      <td>4522</td>\n    </tr>\n    <tr>\n      <th>42</th>\n      <td>2006</td>\n      <td>5115</td>\n    </tr>\n    <tr>\n      <th>43</th>\n      <td>2007</td>\n      <td>5363</td>\n    </tr>\n    <tr>\n      <th>44</th>\n      <td>2008</td>\n      <td>5211</td>\n    </tr>\n    <tr>\n      <th>45</th>\n      <td>2009</td>\n      <td>4478</td>\n    </tr>\n    <tr>\n      <th>46</th>\n      <td>2010</td>\n      <td>4821</td>\n    </tr>\n    <tr>\n      <th>47</th>\n      <td>2011</td>\n      <td>5539</td>\n    </tr>\n    <tr>\n      <th>48</th>\n      <td>2012</td>\n      <td>5986</td>\n    </tr>\n    <tr>\n      <th>49</th>\n      <td>2013</td>\n      <td>6901</td>\n    </tr>\n    <tr>\n      <th>50</th>\n      <td>2014</td>\n      <td>7216</td>\n    </tr>\n    <tr>\n      <th>51</th>\n      <td>2015</td>\n      <td>7280</td>\n    </tr>\n    <tr>\n      <th>52</th>\n      <td>2016</td>\n      <td>6319</td>\n    </tr>\n    <tr>\n      <th>53</th>\n      <td>2017</td>\n      <td>4646</td>\n    </tr>\n    <tr>\n      <th>54</th>\n      <td>2018</td>\n      <td>2896</td>\n    </tr>\n    <tr>\n      <th>55</th>\n      <td>2019</td>\n      <td>1791</td>\n    </tr>\n    <tr>\n      <th>56</th>\n      <td>2020</td>\n      <td>651</td>\n    </tr>\n    <tr>\n      <th>57</th>\n      <td>2021</td>\n      <td>84</td>\n    </tr>\n  </tbody>\n</table>\n</div>"
     },
     "metadata": {},
     "execution_count": 22
    }
   ],
   "source": [
    "# Vehicle Year\n",
    "year = merge_data[[\"report_number\", \"vehicle_year\"]]\n",
    "year = year.groupby(\"vehicle_year\").count().reset_index()\n",
    "year.columns = [\"vehicle_year\", \"num_incidents\"]\n",
    "year = year.sort_values(by=\"vehicle_year\", ascending=False)\n",
    "year = year.head(20).sort_values(by=\"vehicle_year\")\n",
    "year[\"vehicle_year\"] = year[\"vehicle_year\"].apply(lambda x : str(x))\n",
    "year"
   ]
  },
  {
   "cell_type": "code",
   "execution_count": 24,
   "metadata": {},
   "outputs": [
    {
     "output_type": "display_data",
     "data": {
      "text/plain": "<Figure size 432x288 with 1 Axes>",
      "image/svg+xml": "<?xml version=\"1.0\" encoding=\"utf-8\" standalone=\"no\"?>\r\n<!DOCTYPE svg PUBLIC \"-//W3C//DTD SVG 1.1//EN\"\r\n  \"http://www.w3.org/Graphics/SVG/1.1/DTD/svg11.dtd\">\r\n<!-- Created with matplotlib (https://matplotlib.org/) -->\r\n<svg height=\"292.475585pt\" version=\"1.1\" viewBox=\"0 0 395.328125 292.475585\" width=\"395.328125pt\" xmlns=\"http://www.w3.org/2000/svg\" xmlns:xlink=\"http://www.w3.org/1999/xlink\">\r\n <metadata>\r\n  <rdf:RDF xmlns:cc=\"http://creativecommons.org/ns#\" xmlns:dc=\"http://purl.org/dc/elements/1.1/\" xmlns:rdf=\"http://www.w3.org/1999/02/22-rdf-syntax-ns#\">\r\n   <cc:Work>\r\n    <dc:type rdf:resource=\"http://purl.org/dc/dcmitype/StillImage\"/>\r\n    <dc:date>2021-05-09T00:42:22.906595</dc:date>\r\n    <dc:format>image/svg+xml</dc:format>\r\n    <dc:creator>\r\n     <cc:Agent>\r\n      <dc:title>Matplotlib v3.3.2, https://matplotlib.org/</dc:title>\r\n     </cc:Agent>\r\n    </dc:creator>\r\n   </cc:Work>\r\n  </rdf:RDF>\r\n </metadata>\r\n <defs>\r\n  <style type=\"text/css\">*{stroke-linecap:butt;stroke-linejoin:round;}</style>\r\n </defs>\r\n <g id=\"figure_1\">\r\n  <g id=\"patch_1\">\r\n   <path d=\"M 0 292.475585 \r\nL 395.328125 292.475585 \r\nL 395.328125 0 \r\nL 0 0 \r\nz\r\n\" style=\"fill:none;\"/>\r\n  </g>\r\n  <g id=\"axes_1\">\r\n   <g id=\"patch_2\">\r\n    <path d=\"M 53.328125 239.758125 \r\nL 388.128125 239.758125 \r\nL 388.128125 22.318125 \r\nL 53.328125 22.318125 \r\nz\r\n\" style=\"fill:#ffffff;\"/>\r\n   </g>\r\n   <g id=\"matplotlib.axis_1\">\r\n    <g id=\"xtick_1\">\r\n     <g id=\"line2d_1\">\r\n      <defs>\r\n       <path d=\"M 0 0 \r\nL 0 3.5 \r\n\" id=\"mf91f41c638\" style=\"stroke:#000000;stroke-width:0.8;\"/>\r\n      </defs>\r\n      <g>\r\n       <use style=\"stroke:#000000;stroke-width:0.8;\" x=\"68.546307\" xlink:href=\"#mf91f41c638\" y=\"239.758125\"/>\r\n      </g>\r\n     </g>\r\n     <g id=\"text_1\">\r\n      <!-- 2002 -->\r\n      <g transform=\"translate(61.499546 270.126899)rotate(-45)scale(0.1 -0.1)\">\r\n       <defs>\r\n        <path d=\"M 19.1875 8.296875 \r\nL 53.609375 8.296875 \r\nL 53.609375 0 \r\nL 7.328125 0 \r\nL 7.328125 8.296875 \r\nQ 12.9375 14.109375 22.625 23.890625 \r\nQ 32.328125 33.6875 34.8125 36.53125 \r\nQ 39.546875 41.84375 41.421875 45.53125 \r\nQ 43.3125 49.21875 43.3125 52.78125 \r\nQ 43.3125 58.59375 39.234375 62.25 \r\nQ 35.15625 65.921875 28.609375 65.921875 \r\nQ 23.96875 65.921875 18.8125 64.3125 \r\nQ 13.671875 62.703125 7.8125 59.421875 \r\nL 7.8125 69.390625 \r\nQ 13.765625 71.78125 18.9375 73 \r\nQ 24.125 74.21875 28.421875 74.21875 \r\nQ 39.75 74.21875 46.484375 68.546875 \r\nQ 53.21875 62.890625 53.21875 53.421875 \r\nQ 53.21875 48.921875 51.53125 44.890625 \r\nQ 49.859375 40.875 45.40625 35.40625 \r\nQ 44.1875 33.984375 37.640625 27.21875 \r\nQ 31.109375 20.453125 19.1875 8.296875 \r\nz\r\n\" id=\"DejaVuSans-50\"/>\r\n        <path d=\"M 31.78125 66.40625 \r\nQ 24.171875 66.40625 20.328125 58.90625 \r\nQ 16.5 51.421875 16.5 36.375 \r\nQ 16.5 21.390625 20.328125 13.890625 \r\nQ 24.171875 6.390625 31.78125 6.390625 \r\nQ 39.453125 6.390625 43.28125 13.890625 \r\nQ 47.125 21.390625 47.125 36.375 \r\nQ 47.125 51.421875 43.28125 58.90625 \r\nQ 39.453125 66.40625 31.78125 66.40625 \r\nz\r\nM 31.78125 74.21875 \r\nQ 44.046875 74.21875 50.515625 64.515625 \r\nQ 56.984375 54.828125 56.984375 36.375 \r\nQ 56.984375 17.96875 50.515625 8.265625 \r\nQ 44.046875 -1.421875 31.78125 -1.421875 \r\nQ 19.53125 -1.421875 13.0625 8.265625 \r\nQ 6.59375 17.96875 6.59375 36.375 \r\nQ 6.59375 54.828125 13.0625 64.515625 \r\nQ 19.53125 74.21875 31.78125 74.21875 \r\nz\r\n\" id=\"DejaVuSans-48\"/>\r\n       </defs>\r\n       <use xlink:href=\"#DejaVuSans-50\"/>\r\n       <use x=\"63.623047\" xlink:href=\"#DejaVuSans-48\"/>\r\n       <use x=\"127.246094\" xlink:href=\"#DejaVuSans-48\"/>\r\n       <use x=\"190.869141\" xlink:href=\"#DejaVuSans-50\"/>\r\n      </g>\r\n     </g>\r\n    </g>\r\n    <g id=\"xtick_2\">\r\n     <g id=\"line2d_2\">\r\n      <g>\r\n       <use style=\"stroke:#000000;stroke-width:0.8;\" x=\"84.565446\" xlink:href=\"#mf91f41c638\" y=\"239.758125\"/>\r\n      </g>\r\n     </g>\r\n     <g id=\"text_2\">\r\n      <!-- 2003 -->\r\n      <g transform=\"translate(77.518685 270.126899)rotate(-45)scale(0.1 -0.1)\">\r\n       <defs>\r\n        <path d=\"M 40.578125 39.3125 \r\nQ 47.65625 37.796875 51.625 33 \r\nQ 55.609375 28.21875 55.609375 21.1875 \r\nQ 55.609375 10.40625 48.1875 4.484375 \r\nQ 40.765625 -1.421875 27.09375 -1.421875 \r\nQ 22.515625 -1.421875 17.65625 -0.515625 \r\nQ 12.796875 0.390625 7.625 2.203125 \r\nL 7.625 11.71875 \r\nQ 11.71875 9.328125 16.59375 8.109375 \r\nQ 21.484375 6.890625 26.8125 6.890625 \r\nQ 36.078125 6.890625 40.9375 10.546875 \r\nQ 45.796875 14.203125 45.796875 21.1875 \r\nQ 45.796875 27.640625 41.28125 31.265625 \r\nQ 36.765625 34.90625 28.71875 34.90625 \r\nL 20.21875 34.90625 \r\nL 20.21875 43.015625 \r\nL 29.109375 43.015625 \r\nQ 36.375 43.015625 40.234375 45.921875 \r\nQ 44.09375 48.828125 44.09375 54.296875 \r\nQ 44.09375 59.90625 40.109375 62.90625 \r\nQ 36.140625 65.921875 28.71875 65.921875 \r\nQ 24.65625 65.921875 20.015625 65.03125 \r\nQ 15.375 64.15625 9.8125 62.3125 \r\nL 9.8125 71.09375 \r\nQ 15.4375 72.65625 20.34375 73.4375 \r\nQ 25.25 74.21875 29.59375 74.21875 \r\nQ 40.828125 74.21875 47.359375 69.109375 \r\nQ 53.90625 64.015625 53.90625 55.328125 \r\nQ 53.90625 49.265625 50.4375 45.09375 \r\nQ 46.96875 40.921875 40.578125 39.3125 \r\nz\r\n\" id=\"DejaVuSans-51\"/>\r\n       </defs>\r\n       <use xlink:href=\"#DejaVuSans-50\"/>\r\n       <use x=\"63.623047\" xlink:href=\"#DejaVuSans-48\"/>\r\n       <use x=\"127.246094\" xlink:href=\"#DejaVuSans-48\"/>\r\n       <use x=\"190.869141\" xlink:href=\"#DejaVuSans-51\"/>\r\n      </g>\r\n     </g>\r\n    </g>\r\n    <g id=\"xtick_3\">\r\n     <g id=\"line2d_3\">\r\n      <g>\r\n       <use style=\"stroke:#000000;stroke-width:0.8;\" x=\"100.584584\" xlink:href=\"#mf91f41c638\" y=\"239.758125\"/>\r\n      </g>\r\n     </g>\r\n     <g id=\"text_3\">\r\n      <!-- 2004 -->\r\n      <g transform=\"translate(93.537823 270.126899)rotate(-45)scale(0.1 -0.1)\">\r\n       <defs>\r\n        <path d=\"M 37.796875 64.3125 \r\nL 12.890625 25.390625 \r\nL 37.796875 25.390625 \r\nz\r\nM 35.203125 72.90625 \r\nL 47.609375 72.90625 \r\nL 47.609375 25.390625 \r\nL 58.015625 25.390625 \r\nL 58.015625 17.1875 \r\nL 47.609375 17.1875 \r\nL 47.609375 0 \r\nL 37.796875 0 \r\nL 37.796875 17.1875 \r\nL 4.890625 17.1875 \r\nL 4.890625 26.703125 \r\nz\r\n\" id=\"DejaVuSans-52\"/>\r\n       </defs>\r\n       <use xlink:href=\"#DejaVuSans-50\"/>\r\n       <use x=\"63.623047\" xlink:href=\"#DejaVuSans-48\"/>\r\n       <use x=\"127.246094\" xlink:href=\"#DejaVuSans-48\"/>\r\n       <use x=\"190.869141\" xlink:href=\"#DejaVuSans-52\"/>\r\n      </g>\r\n     </g>\r\n    </g>\r\n    <g id=\"xtick_4\">\r\n     <g id=\"line2d_4\">\r\n      <g>\r\n       <use style=\"stroke:#000000;stroke-width:0.8;\" x=\"116.603723\" xlink:href=\"#mf91f41c638\" y=\"239.758125\"/>\r\n      </g>\r\n     </g>\r\n     <g id=\"text_4\">\r\n      <!-- 2005 -->\r\n      <g transform=\"translate(109.556962 270.126899)rotate(-45)scale(0.1 -0.1)\">\r\n       <defs>\r\n        <path d=\"M 10.796875 72.90625 \r\nL 49.515625 72.90625 \r\nL 49.515625 64.59375 \r\nL 19.828125 64.59375 \r\nL 19.828125 46.734375 \r\nQ 21.96875 47.46875 24.109375 47.828125 \r\nQ 26.265625 48.1875 28.421875 48.1875 \r\nQ 40.625 48.1875 47.75 41.5 \r\nQ 54.890625 34.8125 54.890625 23.390625 \r\nQ 54.890625 11.625 47.5625 5.09375 \r\nQ 40.234375 -1.421875 26.90625 -1.421875 \r\nQ 22.3125 -1.421875 17.546875 -0.640625 \r\nQ 12.796875 0.140625 7.71875 1.703125 \r\nL 7.71875 11.625 \r\nQ 12.109375 9.234375 16.796875 8.0625 \r\nQ 21.484375 6.890625 26.703125 6.890625 \r\nQ 35.15625 6.890625 40.078125 11.328125 \r\nQ 45.015625 15.765625 45.015625 23.390625 \r\nQ 45.015625 31 40.078125 35.4375 \r\nQ 35.15625 39.890625 26.703125 39.890625 \r\nQ 22.75 39.890625 18.8125 39.015625 \r\nQ 14.890625 38.140625 10.796875 36.28125 \r\nz\r\n\" id=\"DejaVuSans-53\"/>\r\n       </defs>\r\n       <use xlink:href=\"#DejaVuSans-50\"/>\r\n       <use x=\"63.623047\" xlink:href=\"#DejaVuSans-48\"/>\r\n       <use x=\"127.246094\" xlink:href=\"#DejaVuSans-48\"/>\r\n       <use x=\"190.869141\" xlink:href=\"#DejaVuSans-53\"/>\r\n      </g>\r\n     </g>\r\n    </g>\r\n    <g id=\"xtick_5\">\r\n     <g id=\"line2d_5\">\r\n      <g>\r\n       <use style=\"stroke:#000000;stroke-width:0.8;\" x=\"132.622862\" xlink:href=\"#mf91f41c638\" y=\"239.758125\"/>\r\n      </g>\r\n     </g>\r\n     <g id=\"text_5\">\r\n      <!-- 2006 -->\r\n      <g transform=\"translate(125.576101 270.126899)rotate(-45)scale(0.1 -0.1)\">\r\n       <defs>\r\n        <path d=\"M 33.015625 40.375 \r\nQ 26.375 40.375 22.484375 35.828125 \r\nQ 18.609375 31.296875 18.609375 23.390625 \r\nQ 18.609375 15.53125 22.484375 10.953125 \r\nQ 26.375 6.390625 33.015625 6.390625 \r\nQ 39.65625 6.390625 43.53125 10.953125 \r\nQ 47.40625 15.53125 47.40625 23.390625 \r\nQ 47.40625 31.296875 43.53125 35.828125 \r\nQ 39.65625 40.375 33.015625 40.375 \r\nz\r\nM 52.59375 71.296875 \r\nL 52.59375 62.3125 \r\nQ 48.875 64.0625 45.09375 64.984375 \r\nQ 41.3125 65.921875 37.59375 65.921875 \r\nQ 27.828125 65.921875 22.671875 59.328125 \r\nQ 17.53125 52.734375 16.796875 39.40625 \r\nQ 19.671875 43.65625 24.015625 45.921875 \r\nQ 28.375 48.1875 33.59375 48.1875 \r\nQ 44.578125 48.1875 50.953125 41.515625 \r\nQ 57.328125 34.859375 57.328125 23.390625 \r\nQ 57.328125 12.15625 50.6875 5.359375 \r\nQ 44.046875 -1.421875 33.015625 -1.421875 \r\nQ 20.359375 -1.421875 13.671875 8.265625 \r\nQ 6.984375 17.96875 6.984375 36.375 \r\nQ 6.984375 53.65625 15.1875 63.9375 \r\nQ 23.390625 74.21875 37.203125 74.21875 \r\nQ 40.921875 74.21875 44.703125 73.484375 \r\nQ 48.484375 72.75 52.59375 71.296875 \r\nz\r\n\" id=\"DejaVuSans-54\"/>\r\n       </defs>\r\n       <use xlink:href=\"#DejaVuSans-50\"/>\r\n       <use x=\"63.623047\" xlink:href=\"#DejaVuSans-48\"/>\r\n       <use x=\"127.246094\" xlink:href=\"#DejaVuSans-48\"/>\r\n       <use x=\"190.869141\" xlink:href=\"#DejaVuSans-54\"/>\r\n      </g>\r\n     </g>\r\n    </g>\r\n    <g id=\"xtick_6\">\r\n     <g id=\"line2d_6\">\r\n      <g>\r\n       <use style=\"stroke:#000000;stroke-width:0.8;\" x=\"148.642001\" xlink:href=\"#mf91f41c638\" y=\"239.758125\"/>\r\n      </g>\r\n     </g>\r\n     <g id=\"text_6\">\r\n      <!-- 2007 -->\r\n      <g transform=\"translate(141.59524 270.126899)rotate(-45)scale(0.1 -0.1)\">\r\n       <defs>\r\n        <path d=\"M 8.203125 72.90625 \r\nL 55.078125 72.90625 \r\nL 55.078125 68.703125 \r\nL 28.609375 0 \r\nL 18.3125 0 \r\nL 43.21875 64.59375 \r\nL 8.203125 64.59375 \r\nz\r\n\" id=\"DejaVuSans-55\"/>\r\n       </defs>\r\n       <use xlink:href=\"#DejaVuSans-50\"/>\r\n       <use x=\"63.623047\" xlink:href=\"#DejaVuSans-48\"/>\r\n       <use x=\"127.246094\" xlink:href=\"#DejaVuSans-48\"/>\r\n       <use x=\"190.869141\" xlink:href=\"#DejaVuSans-55\"/>\r\n      </g>\r\n     </g>\r\n    </g>\r\n    <g id=\"xtick_7\">\r\n     <g id=\"line2d_7\">\r\n      <g>\r\n       <use style=\"stroke:#000000;stroke-width:0.8;\" x=\"164.661139\" xlink:href=\"#mf91f41c638\" y=\"239.758125\"/>\r\n      </g>\r\n     </g>\r\n     <g id=\"text_7\">\r\n      <!-- 2008 -->\r\n      <g transform=\"translate(157.614378 270.126899)rotate(-45)scale(0.1 -0.1)\">\r\n       <defs>\r\n        <path d=\"M 31.78125 34.625 \r\nQ 24.75 34.625 20.71875 30.859375 \r\nQ 16.703125 27.09375 16.703125 20.515625 \r\nQ 16.703125 13.921875 20.71875 10.15625 \r\nQ 24.75 6.390625 31.78125 6.390625 \r\nQ 38.8125 6.390625 42.859375 10.171875 \r\nQ 46.921875 13.96875 46.921875 20.515625 \r\nQ 46.921875 27.09375 42.890625 30.859375 \r\nQ 38.875 34.625 31.78125 34.625 \r\nz\r\nM 21.921875 38.8125 \r\nQ 15.578125 40.375 12.03125 44.71875 \r\nQ 8.5 49.078125 8.5 55.328125 \r\nQ 8.5 64.0625 14.71875 69.140625 \r\nQ 20.953125 74.21875 31.78125 74.21875 \r\nQ 42.671875 74.21875 48.875 69.140625 \r\nQ 55.078125 64.0625 55.078125 55.328125 \r\nQ 55.078125 49.078125 51.53125 44.71875 \r\nQ 48 40.375 41.703125 38.8125 \r\nQ 48.828125 37.15625 52.796875 32.3125 \r\nQ 56.78125 27.484375 56.78125 20.515625 \r\nQ 56.78125 9.90625 50.3125 4.234375 \r\nQ 43.84375 -1.421875 31.78125 -1.421875 \r\nQ 19.734375 -1.421875 13.25 4.234375 \r\nQ 6.78125 9.90625 6.78125 20.515625 \r\nQ 6.78125 27.484375 10.78125 32.3125 \r\nQ 14.796875 37.15625 21.921875 38.8125 \r\nz\r\nM 18.3125 54.390625 \r\nQ 18.3125 48.734375 21.84375 45.5625 \r\nQ 25.390625 42.390625 31.78125 42.390625 \r\nQ 38.140625 42.390625 41.71875 45.5625 \r\nQ 45.3125 48.734375 45.3125 54.390625 \r\nQ 45.3125 60.0625 41.71875 63.234375 \r\nQ 38.140625 66.40625 31.78125 66.40625 \r\nQ 25.390625 66.40625 21.84375 63.234375 \r\nQ 18.3125 60.0625 18.3125 54.390625 \r\nz\r\n\" id=\"DejaVuSans-56\"/>\r\n       </defs>\r\n       <use xlink:href=\"#DejaVuSans-50\"/>\r\n       <use x=\"63.623047\" xlink:href=\"#DejaVuSans-48\"/>\r\n       <use x=\"127.246094\" xlink:href=\"#DejaVuSans-48\"/>\r\n       <use x=\"190.869141\" xlink:href=\"#DejaVuSans-56\"/>\r\n      </g>\r\n     </g>\r\n    </g>\r\n    <g id=\"xtick_8\">\r\n     <g id=\"line2d_8\">\r\n      <g>\r\n       <use style=\"stroke:#000000;stroke-width:0.8;\" x=\"180.680278\" xlink:href=\"#mf91f41c638\" y=\"239.758125\"/>\r\n      </g>\r\n     </g>\r\n     <g id=\"text_8\">\r\n      <!-- 2009 -->\r\n      <g transform=\"translate(173.633517 270.126899)rotate(-45)scale(0.1 -0.1)\">\r\n       <defs>\r\n        <path d=\"M 10.984375 1.515625 \r\nL 10.984375 10.5 \r\nQ 14.703125 8.734375 18.5 7.8125 \r\nQ 22.3125 6.890625 25.984375 6.890625 \r\nQ 35.75 6.890625 40.890625 13.453125 \r\nQ 46.046875 20.015625 46.78125 33.40625 \r\nQ 43.953125 29.203125 39.59375 26.953125 \r\nQ 35.25 24.703125 29.984375 24.703125 \r\nQ 19.046875 24.703125 12.671875 31.3125 \r\nQ 6.296875 37.9375 6.296875 49.421875 \r\nQ 6.296875 60.640625 12.9375 67.421875 \r\nQ 19.578125 74.21875 30.609375 74.21875 \r\nQ 43.265625 74.21875 49.921875 64.515625 \r\nQ 56.59375 54.828125 56.59375 36.375 \r\nQ 56.59375 19.140625 48.40625 8.859375 \r\nQ 40.234375 -1.421875 26.421875 -1.421875 \r\nQ 22.703125 -1.421875 18.890625 -0.6875 \r\nQ 15.09375 0.046875 10.984375 1.515625 \r\nz\r\nM 30.609375 32.421875 \r\nQ 37.25 32.421875 41.125 36.953125 \r\nQ 45.015625 41.5 45.015625 49.421875 \r\nQ 45.015625 57.28125 41.125 61.84375 \r\nQ 37.25 66.40625 30.609375 66.40625 \r\nQ 23.96875 66.40625 20.09375 61.84375 \r\nQ 16.21875 57.28125 16.21875 49.421875 \r\nQ 16.21875 41.5 20.09375 36.953125 \r\nQ 23.96875 32.421875 30.609375 32.421875 \r\nz\r\n\" id=\"DejaVuSans-57\"/>\r\n       </defs>\r\n       <use xlink:href=\"#DejaVuSans-50\"/>\r\n       <use x=\"63.623047\" xlink:href=\"#DejaVuSans-48\"/>\r\n       <use x=\"127.246094\" xlink:href=\"#DejaVuSans-48\"/>\r\n       <use x=\"190.869141\" xlink:href=\"#DejaVuSans-57\"/>\r\n      </g>\r\n     </g>\r\n    </g>\r\n    <g id=\"xtick_9\">\r\n     <g id=\"line2d_9\">\r\n      <g>\r\n       <use style=\"stroke:#000000;stroke-width:0.8;\" x=\"196.699417\" xlink:href=\"#mf91f41c638\" y=\"239.758125\"/>\r\n      </g>\r\n     </g>\r\n     <g id=\"text_9\">\r\n      <!-- 2010 -->\r\n      <g transform=\"translate(189.652656 270.126899)rotate(-45)scale(0.1 -0.1)\">\r\n       <defs>\r\n        <path d=\"M 12.40625 8.296875 \r\nL 28.515625 8.296875 \r\nL 28.515625 63.921875 \r\nL 10.984375 60.40625 \r\nL 10.984375 69.390625 \r\nL 28.421875 72.90625 \r\nL 38.28125 72.90625 \r\nL 38.28125 8.296875 \r\nL 54.390625 8.296875 \r\nL 54.390625 0 \r\nL 12.40625 0 \r\nz\r\n\" id=\"DejaVuSans-49\"/>\r\n       </defs>\r\n       <use xlink:href=\"#DejaVuSans-50\"/>\r\n       <use x=\"63.623047\" xlink:href=\"#DejaVuSans-48\"/>\r\n       <use x=\"127.246094\" xlink:href=\"#DejaVuSans-49\"/>\r\n       <use x=\"190.869141\" xlink:href=\"#DejaVuSans-48\"/>\r\n      </g>\r\n     </g>\r\n    </g>\r\n    <g id=\"xtick_10\">\r\n     <g id=\"line2d_10\">\r\n      <g>\r\n       <use style=\"stroke:#000000;stroke-width:0.8;\" x=\"212.718556\" xlink:href=\"#mf91f41c638\" y=\"239.758125\"/>\r\n      </g>\r\n     </g>\r\n     <g id=\"text_10\">\r\n      <!-- 2011 -->\r\n      <g transform=\"translate(205.671795 270.126899)rotate(-45)scale(0.1 -0.1)\">\r\n       <use xlink:href=\"#DejaVuSans-50\"/>\r\n       <use x=\"63.623047\" xlink:href=\"#DejaVuSans-48\"/>\r\n       <use x=\"127.246094\" xlink:href=\"#DejaVuSans-49\"/>\r\n       <use x=\"190.869141\" xlink:href=\"#DejaVuSans-49\"/>\r\n      </g>\r\n     </g>\r\n    </g>\r\n    <g id=\"xtick_11\">\r\n     <g id=\"line2d_11\">\r\n      <g>\r\n       <use style=\"stroke:#000000;stroke-width:0.8;\" x=\"228.737694\" xlink:href=\"#mf91f41c638\" y=\"239.758125\"/>\r\n      </g>\r\n     </g>\r\n     <g id=\"text_11\">\r\n      <!-- 2012 -->\r\n      <g transform=\"translate(221.690933 270.126899)rotate(-45)scale(0.1 -0.1)\">\r\n       <use xlink:href=\"#DejaVuSans-50\"/>\r\n       <use x=\"63.623047\" xlink:href=\"#DejaVuSans-48\"/>\r\n       <use x=\"127.246094\" xlink:href=\"#DejaVuSans-49\"/>\r\n       <use x=\"190.869141\" xlink:href=\"#DejaVuSans-50\"/>\r\n      </g>\r\n     </g>\r\n    </g>\r\n    <g id=\"xtick_12\">\r\n     <g id=\"line2d_12\">\r\n      <g>\r\n       <use style=\"stroke:#000000;stroke-width:0.8;\" x=\"244.756833\" xlink:href=\"#mf91f41c638\" y=\"239.758125\"/>\r\n      </g>\r\n     </g>\r\n     <g id=\"text_12\">\r\n      <!-- 2013 -->\r\n      <g transform=\"translate(237.710072 270.126899)rotate(-45)scale(0.1 -0.1)\">\r\n       <use xlink:href=\"#DejaVuSans-50\"/>\r\n       <use x=\"63.623047\" xlink:href=\"#DejaVuSans-48\"/>\r\n       <use x=\"127.246094\" xlink:href=\"#DejaVuSans-49\"/>\r\n       <use x=\"190.869141\" xlink:href=\"#DejaVuSans-51\"/>\r\n      </g>\r\n     </g>\r\n    </g>\r\n    <g id=\"xtick_13\">\r\n     <g id=\"line2d_13\">\r\n      <g>\r\n       <use style=\"stroke:#000000;stroke-width:0.8;\" x=\"260.775972\" xlink:href=\"#mf91f41c638\" y=\"239.758125\"/>\r\n      </g>\r\n     </g>\r\n     <g id=\"text_13\">\r\n      <!-- 2014 -->\r\n      <g transform=\"translate(253.729211 270.126899)rotate(-45)scale(0.1 -0.1)\">\r\n       <use xlink:href=\"#DejaVuSans-50\"/>\r\n       <use x=\"63.623047\" xlink:href=\"#DejaVuSans-48\"/>\r\n       <use x=\"127.246094\" xlink:href=\"#DejaVuSans-49\"/>\r\n       <use x=\"190.869141\" xlink:href=\"#DejaVuSans-52\"/>\r\n      </g>\r\n     </g>\r\n    </g>\r\n    <g id=\"xtick_14\">\r\n     <g id=\"line2d_14\">\r\n      <g>\r\n       <use style=\"stroke:#000000;stroke-width:0.8;\" x=\"276.795111\" xlink:href=\"#mf91f41c638\" y=\"239.758125\"/>\r\n      </g>\r\n     </g>\r\n     <g id=\"text_14\">\r\n      <!-- 2015 -->\r\n      <g transform=\"translate(269.74835 270.126899)rotate(-45)scale(0.1 -0.1)\">\r\n       <use xlink:href=\"#DejaVuSans-50\"/>\r\n       <use x=\"63.623047\" xlink:href=\"#DejaVuSans-48\"/>\r\n       <use x=\"127.246094\" xlink:href=\"#DejaVuSans-49\"/>\r\n       <use x=\"190.869141\" xlink:href=\"#DejaVuSans-53\"/>\r\n      </g>\r\n     </g>\r\n    </g>\r\n    <g id=\"xtick_15\">\r\n     <g id=\"line2d_15\">\r\n      <g>\r\n       <use style=\"stroke:#000000;stroke-width:0.8;\" x=\"292.814249\" xlink:href=\"#mf91f41c638\" y=\"239.758125\"/>\r\n      </g>\r\n     </g>\r\n     <g id=\"text_15\">\r\n      <!-- 2016 -->\r\n      <g transform=\"translate(285.767488 270.126899)rotate(-45)scale(0.1 -0.1)\">\r\n       <use xlink:href=\"#DejaVuSans-50\"/>\r\n       <use x=\"63.623047\" xlink:href=\"#DejaVuSans-48\"/>\r\n       <use x=\"127.246094\" xlink:href=\"#DejaVuSans-49\"/>\r\n       <use x=\"190.869141\" xlink:href=\"#DejaVuSans-54\"/>\r\n      </g>\r\n     </g>\r\n    </g>\r\n    <g id=\"xtick_16\">\r\n     <g id=\"line2d_16\">\r\n      <g>\r\n       <use style=\"stroke:#000000;stroke-width:0.8;\" x=\"308.833388\" xlink:href=\"#mf91f41c638\" y=\"239.758125\"/>\r\n      </g>\r\n     </g>\r\n     <g id=\"text_16\">\r\n      <!-- 2017 -->\r\n      <g transform=\"translate(301.786627 270.126899)rotate(-45)scale(0.1 -0.1)\">\r\n       <use xlink:href=\"#DejaVuSans-50\"/>\r\n       <use x=\"63.623047\" xlink:href=\"#DejaVuSans-48\"/>\r\n       <use x=\"127.246094\" xlink:href=\"#DejaVuSans-49\"/>\r\n       <use x=\"190.869141\" xlink:href=\"#DejaVuSans-55\"/>\r\n      </g>\r\n     </g>\r\n    </g>\r\n    <g id=\"xtick_17\">\r\n     <g id=\"line2d_17\">\r\n      <g>\r\n       <use style=\"stroke:#000000;stroke-width:0.8;\" x=\"324.852527\" xlink:href=\"#mf91f41c638\" y=\"239.758125\"/>\r\n      </g>\r\n     </g>\r\n     <g id=\"text_17\">\r\n      <!-- 2018 -->\r\n      <g transform=\"translate(317.805766 270.126899)rotate(-45)scale(0.1 -0.1)\">\r\n       <use xlink:href=\"#DejaVuSans-50\"/>\r\n       <use x=\"63.623047\" xlink:href=\"#DejaVuSans-48\"/>\r\n       <use x=\"127.246094\" xlink:href=\"#DejaVuSans-49\"/>\r\n       <use x=\"190.869141\" xlink:href=\"#DejaVuSans-56\"/>\r\n      </g>\r\n     </g>\r\n    </g>\r\n    <g id=\"xtick_18\">\r\n     <g id=\"line2d_18\">\r\n      <g>\r\n       <use style=\"stroke:#000000;stroke-width:0.8;\" x=\"340.871666\" xlink:href=\"#mf91f41c638\" y=\"239.758125\"/>\r\n      </g>\r\n     </g>\r\n     <g id=\"text_18\">\r\n      <!-- 2019 -->\r\n      <g transform=\"translate(333.824905 270.126899)rotate(-45)scale(0.1 -0.1)\">\r\n       <use xlink:href=\"#DejaVuSans-50\"/>\r\n       <use x=\"63.623047\" xlink:href=\"#DejaVuSans-48\"/>\r\n       <use x=\"127.246094\" xlink:href=\"#DejaVuSans-49\"/>\r\n       <use x=\"190.869141\" xlink:href=\"#DejaVuSans-57\"/>\r\n      </g>\r\n     </g>\r\n    </g>\r\n    <g id=\"xtick_19\">\r\n     <g id=\"line2d_19\">\r\n      <g>\r\n       <use style=\"stroke:#000000;stroke-width:0.8;\" x=\"356.890804\" xlink:href=\"#mf91f41c638\" y=\"239.758125\"/>\r\n      </g>\r\n     </g>\r\n     <g id=\"text_19\">\r\n      <!-- 2020 -->\r\n      <g transform=\"translate(349.844043 270.126899)rotate(-45)scale(0.1 -0.1)\">\r\n       <use xlink:href=\"#DejaVuSans-50\"/>\r\n       <use x=\"63.623047\" xlink:href=\"#DejaVuSans-48\"/>\r\n       <use x=\"127.246094\" xlink:href=\"#DejaVuSans-50\"/>\r\n       <use x=\"190.869141\" xlink:href=\"#DejaVuSans-48\"/>\r\n      </g>\r\n     </g>\r\n    </g>\r\n    <g id=\"xtick_20\">\r\n     <g id=\"line2d_20\">\r\n      <g>\r\n       <use style=\"stroke:#000000;stroke-width:0.8;\" x=\"372.909943\" xlink:href=\"#mf91f41c638\" y=\"239.758125\"/>\r\n      </g>\r\n     </g>\r\n     <g id=\"text_20\">\r\n      <!-- 2021 -->\r\n      <g transform=\"translate(365.863182 270.126899)rotate(-45)scale(0.1 -0.1)\">\r\n       <use xlink:href=\"#DejaVuSans-50\"/>\r\n       <use x=\"63.623047\" xlink:href=\"#DejaVuSans-48\"/>\r\n       <use x=\"127.246094\" xlink:href=\"#DejaVuSans-50\"/>\r\n       <use x=\"190.869141\" xlink:href=\"#DejaVuSans-49\"/>\r\n      </g>\r\n     </g>\r\n    </g>\r\n    <g id=\"text_21\">\r\n     <!-- Vehicle Year -->\r\n     <g transform=\"translate(190.669531 283.195898)scale(0.1 -0.1)\">\r\n      <defs>\r\n       <path d=\"M 28.609375 0 \r\nL 0.78125 72.90625 \r\nL 11.078125 72.90625 \r\nL 34.1875 11.53125 \r\nL 57.328125 72.90625 \r\nL 67.578125 72.90625 \r\nL 39.796875 0 \r\nz\r\n\" id=\"DejaVuSans-86\"/>\r\n       <path d=\"M 56.203125 29.59375 \r\nL 56.203125 25.203125 \r\nL 14.890625 25.203125 \r\nQ 15.484375 15.921875 20.484375 11.0625 \r\nQ 25.484375 6.203125 34.421875 6.203125 \r\nQ 39.59375 6.203125 44.453125 7.46875 \r\nQ 49.3125 8.734375 54.109375 11.28125 \r\nL 54.109375 2.78125 \r\nQ 49.265625 0.734375 44.1875 -0.34375 \r\nQ 39.109375 -1.421875 33.890625 -1.421875 \r\nQ 20.796875 -1.421875 13.15625 6.1875 \r\nQ 5.515625 13.8125 5.515625 26.8125 \r\nQ 5.515625 40.234375 12.765625 48.109375 \r\nQ 20.015625 56 32.328125 56 \r\nQ 43.359375 56 49.78125 48.890625 \r\nQ 56.203125 41.796875 56.203125 29.59375 \r\nz\r\nM 47.21875 32.234375 \r\nQ 47.125 39.59375 43.09375 43.984375 \r\nQ 39.0625 48.390625 32.421875 48.390625 \r\nQ 24.90625 48.390625 20.390625 44.140625 \r\nQ 15.875 39.890625 15.1875 32.171875 \r\nz\r\n\" id=\"DejaVuSans-101\"/>\r\n       <path d=\"M 54.890625 33.015625 \r\nL 54.890625 0 \r\nL 45.90625 0 \r\nL 45.90625 32.71875 \r\nQ 45.90625 40.484375 42.875 44.328125 \r\nQ 39.84375 48.1875 33.796875 48.1875 \r\nQ 26.515625 48.1875 22.3125 43.546875 \r\nQ 18.109375 38.921875 18.109375 30.90625 \r\nL 18.109375 0 \r\nL 9.078125 0 \r\nL 9.078125 75.984375 \r\nL 18.109375 75.984375 \r\nL 18.109375 46.1875 \r\nQ 21.34375 51.125 25.703125 53.5625 \r\nQ 30.078125 56 35.796875 56 \r\nQ 45.21875 56 50.046875 50.171875 \r\nQ 54.890625 44.34375 54.890625 33.015625 \r\nz\r\n\" id=\"DejaVuSans-104\"/>\r\n       <path d=\"M 9.421875 54.6875 \r\nL 18.40625 54.6875 \r\nL 18.40625 0 \r\nL 9.421875 0 \r\nz\r\nM 9.421875 75.984375 \r\nL 18.40625 75.984375 \r\nL 18.40625 64.59375 \r\nL 9.421875 64.59375 \r\nz\r\n\" id=\"DejaVuSans-105\"/>\r\n       <path d=\"M 48.78125 52.59375 \r\nL 48.78125 44.1875 \r\nQ 44.96875 46.296875 41.140625 47.34375 \r\nQ 37.3125 48.390625 33.40625 48.390625 \r\nQ 24.65625 48.390625 19.8125 42.84375 \r\nQ 14.984375 37.3125 14.984375 27.296875 \r\nQ 14.984375 17.28125 19.8125 11.734375 \r\nQ 24.65625 6.203125 33.40625 6.203125 \r\nQ 37.3125 6.203125 41.140625 7.25 \r\nQ 44.96875 8.296875 48.78125 10.40625 \r\nL 48.78125 2.09375 \r\nQ 45.015625 0.34375 40.984375 -0.53125 \r\nQ 36.96875 -1.421875 32.421875 -1.421875 \r\nQ 20.0625 -1.421875 12.78125 6.34375 \r\nQ 5.515625 14.109375 5.515625 27.296875 \r\nQ 5.515625 40.671875 12.859375 48.328125 \r\nQ 20.21875 56 33.015625 56 \r\nQ 37.15625 56 41.109375 55.140625 \r\nQ 45.0625 54.296875 48.78125 52.59375 \r\nz\r\n\" id=\"DejaVuSans-99\"/>\r\n       <path d=\"M 9.421875 75.984375 \r\nL 18.40625 75.984375 \r\nL 18.40625 0 \r\nL 9.421875 0 \r\nz\r\n\" id=\"DejaVuSans-108\"/>\r\n       <path id=\"DejaVuSans-32\"/>\r\n       <path d=\"M -0.203125 72.90625 \r\nL 10.40625 72.90625 \r\nL 30.609375 42.921875 \r\nL 50.6875 72.90625 \r\nL 61.28125 72.90625 \r\nL 35.5 34.71875 \r\nL 35.5 0 \r\nL 25.59375 0 \r\nL 25.59375 34.71875 \r\nz\r\n\" id=\"DejaVuSans-89\"/>\r\n       <path d=\"M 34.28125 27.484375 \r\nQ 23.390625 27.484375 19.1875 25 \r\nQ 14.984375 22.515625 14.984375 16.5 \r\nQ 14.984375 11.71875 18.140625 8.90625 \r\nQ 21.296875 6.109375 26.703125 6.109375 \r\nQ 34.1875 6.109375 38.703125 11.40625 \r\nQ 43.21875 16.703125 43.21875 25.484375 \r\nL 43.21875 27.484375 \r\nz\r\nM 52.203125 31.203125 \r\nL 52.203125 0 \r\nL 43.21875 0 \r\nL 43.21875 8.296875 \r\nQ 40.140625 3.328125 35.546875 0.953125 \r\nQ 30.953125 -1.421875 24.3125 -1.421875 \r\nQ 15.921875 -1.421875 10.953125 3.296875 \r\nQ 6 8.015625 6 15.921875 \r\nQ 6 25.140625 12.171875 29.828125 \r\nQ 18.359375 34.515625 30.609375 34.515625 \r\nL 43.21875 34.515625 \r\nL 43.21875 35.40625 \r\nQ 43.21875 41.609375 39.140625 45 \r\nQ 35.0625 48.390625 27.6875 48.390625 \r\nQ 23 48.390625 18.546875 47.265625 \r\nQ 14.109375 46.140625 10.015625 43.890625 \r\nL 10.015625 52.203125 \r\nQ 14.9375 54.109375 19.578125 55.046875 \r\nQ 24.21875 56 28.609375 56 \r\nQ 40.484375 56 46.34375 49.84375 \r\nQ 52.203125 43.703125 52.203125 31.203125 \r\nz\r\n\" id=\"DejaVuSans-97\"/>\r\n       <path d=\"M 41.109375 46.296875 \r\nQ 39.59375 47.171875 37.8125 47.578125 \r\nQ 36.03125 48 33.890625 48 \r\nQ 26.265625 48 22.1875 43.046875 \r\nQ 18.109375 38.09375 18.109375 28.8125 \r\nL 18.109375 0 \r\nL 9.078125 0 \r\nL 9.078125 54.6875 \r\nL 18.109375 54.6875 \r\nL 18.109375 46.1875 \r\nQ 20.953125 51.171875 25.484375 53.578125 \r\nQ 30.03125 56 36.53125 56 \r\nQ 37.453125 56 38.578125 55.875 \r\nQ 39.703125 55.765625 41.0625 55.515625 \r\nz\r\n\" id=\"DejaVuSans-114\"/>\r\n      </defs>\r\n      <use xlink:href=\"#DejaVuSans-86\"/>\r\n      <use x=\"60.658203\" xlink:href=\"#DejaVuSans-101\"/>\r\n      <use x=\"122.181641\" xlink:href=\"#DejaVuSans-104\"/>\r\n      <use x=\"185.560547\" xlink:href=\"#DejaVuSans-105\"/>\r\n      <use x=\"213.34375\" xlink:href=\"#DejaVuSans-99\"/>\r\n      <use x=\"268.324219\" xlink:href=\"#DejaVuSans-108\"/>\r\n      <use x=\"296.107422\" xlink:href=\"#DejaVuSans-101\"/>\r\n      <use x=\"357.630859\" xlink:href=\"#DejaVuSans-32\"/>\r\n      <use x=\"389.417969\" xlink:href=\"#DejaVuSans-89\"/>\r\n      <use x=\"437.251953\" xlink:href=\"#DejaVuSans-101\"/>\r\n      <use x=\"498.775391\" xlink:href=\"#DejaVuSans-97\"/>\r\n      <use x=\"560.054688\" xlink:href=\"#DejaVuSans-114\"/>\r\n     </g>\r\n    </g>\r\n   </g>\r\n   <g id=\"matplotlib.axis_2\">\r\n    <g id=\"ytick_1\">\r\n     <g id=\"line2d_21\">\r\n      <defs>\r\n       <path d=\"M 0 0 \r\nL -3.5 0 \r\n\" id=\"mfe3ccf56ca\" style=\"stroke:#000000;stroke-width:0.8;\"/>\r\n      </defs>\r\n      <g>\r\n       <use style=\"stroke:#000000;stroke-width:0.8;\" x=\"53.328125\" xlink:href=\"#mfe3ccf56ca\" y=\"232.181952\"/>\r\n      </g>\r\n     </g>\r\n     <g id=\"text_22\">\r\n      <!-- 0 -->\r\n      <g transform=\"translate(39.965625 235.981171)scale(0.1 -0.1)\">\r\n       <use xlink:href=\"#DejaVuSans-48\"/>\r\n      </g>\r\n     </g>\r\n    </g>\r\n    <g id=\"ytick_2\">\r\n     <g id=\"line2d_22\">\r\n      <g>\r\n       <use style=\"stroke:#000000;stroke-width:0.8;\" x=\"53.328125\" xlink:href=\"#mfe3ccf56ca\" y=\"204.712146\"/>\r\n      </g>\r\n     </g>\r\n     <g id=\"text_23\">\r\n      <!-- 1000 -->\r\n      <g transform=\"translate(20.878125 208.511365)scale(0.1 -0.1)\">\r\n       <use xlink:href=\"#DejaVuSans-49\"/>\r\n       <use x=\"63.623047\" xlink:href=\"#DejaVuSans-48\"/>\r\n       <use x=\"127.246094\" xlink:href=\"#DejaVuSans-48\"/>\r\n       <use x=\"190.869141\" xlink:href=\"#DejaVuSans-48\"/>\r\n      </g>\r\n     </g>\r\n    </g>\r\n    <g id=\"ytick_3\">\r\n     <g id=\"line2d_23\">\r\n      <g>\r\n       <use style=\"stroke:#000000;stroke-width:0.8;\" x=\"53.328125\" xlink:href=\"#mfe3ccf56ca\" y=\"177.242339\"/>\r\n      </g>\r\n     </g>\r\n     <g id=\"text_24\">\r\n      <!-- 2000 -->\r\n      <g transform=\"translate(20.878125 181.041558)scale(0.1 -0.1)\">\r\n       <use xlink:href=\"#DejaVuSans-50\"/>\r\n       <use x=\"63.623047\" xlink:href=\"#DejaVuSans-48\"/>\r\n       <use x=\"127.246094\" xlink:href=\"#DejaVuSans-48\"/>\r\n       <use x=\"190.869141\" xlink:href=\"#DejaVuSans-48\"/>\r\n      </g>\r\n     </g>\r\n    </g>\r\n    <g id=\"ytick_4\">\r\n     <g id=\"line2d_24\">\r\n      <g>\r\n       <use style=\"stroke:#000000;stroke-width:0.8;\" x=\"53.328125\" xlink:href=\"#mfe3ccf56ca\" y=\"149.772533\"/>\r\n      </g>\r\n     </g>\r\n     <g id=\"text_25\">\r\n      <!-- 3000 -->\r\n      <g transform=\"translate(20.878125 153.571752)scale(0.1 -0.1)\">\r\n       <use xlink:href=\"#DejaVuSans-51\"/>\r\n       <use x=\"63.623047\" xlink:href=\"#DejaVuSans-48\"/>\r\n       <use x=\"127.246094\" xlink:href=\"#DejaVuSans-48\"/>\r\n       <use x=\"190.869141\" xlink:href=\"#DejaVuSans-48\"/>\r\n      </g>\r\n     </g>\r\n    </g>\r\n    <g id=\"ytick_5\">\r\n     <g id=\"line2d_25\">\r\n      <g>\r\n       <use style=\"stroke:#000000;stroke-width:0.8;\" x=\"53.328125\" xlink:href=\"#mfe3ccf56ca\" y=\"122.302727\"/>\r\n      </g>\r\n     </g>\r\n     <g id=\"text_26\">\r\n      <!-- 4000 -->\r\n      <g transform=\"translate(20.878125 126.101945)scale(0.1 -0.1)\">\r\n       <use xlink:href=\"#DejaVuSans-52\"/>\r\n       <use x=\"63.623047\" xlink:href=\"#DejaVuSans-48\"/>\r\n       <use x=\"127.246094\" xlink:href=\"#DejaVuSans-48\"/>\r\n       <use x=\"190.869141\" xlink:href=\"#DejaVuSans-48\"/>\r\n      </g>\r\n     </g>\r\n    </g>\r\n    <g id=\"ytick_6\">\r\n     <g id=\"line2d_26\">\r\n      <g>\r\n       <use style=\"stroke:#000000;stroke-width:0.8;\" x=\"53.328125\" xlink:href=\"#mfe3ccf56ca\" y=\"94.83292\"/>\r\n      </g>\r\n     </g>\r\n     <g id=\"text_27\">\r\n      <!-- 5000 -->\r\n      <g transform=\"translate(20.878125 98.632139)scale(0.1 -0.1)\">\r\n       <use xlink:href=\"#DejaVuSans-53\"/>\r\n       <use x=\"63.623047\" xlink:href=\"#DejaVuSans-48\"/>\r\n       <use x=\"127.246094\" xlink:href=\"#DejaVuSans-48\"/>\r\n       <use x=\"190.869141\" xlink:href=\"#DejaVuSans-48\"/>\r\n      </g>\r\n     </g>\r\n    </g>\r\n    <g id=\"ytick_7\">\r\n     <g id=\"line2d_27\">\r\n      <g>\r\n       <use style=\"stroke:#000000;stroke-width:0.8;\" x=\"53.328125\" xlink:href=\"#mfe3ccf56ca\" y=\"67.363114\"/>\r\n      </g>\r\n     </g>\r\n     <g id=\"text_28\">\r\n      <!-- 6000 -->\r\n      <g transform=\"translate(20.878125 71.162332)scale(0.1 -0.1)\">\r\n       <use xlink:href=\"#DejaVuSans-54\"/>\r\n       <use x=\"63.623047\" xlink:href=\"#DejaVuSans-48\"/>\r\n       <use x=\"127.246094\" xlink:href=\"#DejaVuSans-48\"/>\r\n       <use x=\"190.869141\" xlink:href=\"#DejaVuSans-48\"/>\r\n      </g>\r\n     </g>\r\n    </g>\r\n    <g id=\"ytick_8\">\r\n     <g id=\"line2d_28\">\r\n      <g>\r\n       <use style=\"stroke:#000000;stroke-width:0.8;\" x=\"53.328125\" xlink:href=\"#mfe3ccf56ca\" y=\"39.893307\"/>\r\n      </g>\r\n     </g>\r\n     <g id=\"text_29\">\r\n      <!-- 7000 -->\r\n      <g transform=\"translate(20.878125 43.692526)scale(0.1 -0.1)\">\r\n       <use xlink:href=\"#DejaVuSans-55\"/>\r\n       <use x=\"63.623047\" xlink:href=\"#DejaVuSans-48\"/>\r\n       <use x=\"127.246094\" xlink:href=\"#DejaVuSans-48\"/>\r\n       <use x=\"190.869141\" xlink:href=\"#DejaVuSans-48\"/>\r\n      </g>\r\n     </g>\r\n    </g>\r\n    <g id=\"text_30\">\r\n     <!-- Number of Incidents -->\r\n     <g transform=\"translate(14.798438 181.888125)rotate(-90)scale(0.1 -0.1)\">\r\n      <defs>\r\n       <path d=\"M 9.8125 72.90625 \r\nL 23.09375 72.90625 \r\nL 55.421875 11.921875 \r\nL 55.421875 72.90625 \r\nL 64.984375 72.90625 \r\nL 64.984375 0 \r\nL 51.703125 0 \r\nL 19.390625 60.984375 \r\nL 19.390625 0 \r\nL 9.8125 0 \r\nz\r\n\" id=\"DejaVuSans-78\"/>\r\n       <path d=\"M 8.5 21.578125 \r\nL 8.5 54.6875 \r\nL 17.484375 54.6875 \r\nL 17.484375 21.921875 \r\nQ 17.484375 14.15625 20.5 10.265625 \r\nQ 23.53125 6.390625 29.59375 6.390625 \r\nQ 36.859375 6.390625 41.078125 11.03125 \r\nQ 45.3125 15.671875 45.3125 23.6875 \r\nL 45.3125 54.6875 \r\nL 54.296875 54.6875 \r\nL 54.296875 0 \r\nL 45.3125 0 \r\nL 45.3125 8.40625 \r\nQ 42.046875 3.421875 37.71875 1 \r\nQ 33.40625 -1.421875 27.6875 -1.421875 \r\nQ 18.265625 -1.421875 13.375 4.4375 \r\nQ 8.5 10.296875 8.5 21.578125 \r\nz\r\nM 31.109375 56 \r\nz\r\n\" id=\"DejaVuSans-117\"/>\r\n       <path d=\"M 52 44.1875 \r\nQ 55.375 50.25 60.0625 53.125 \r\nQ 64.75 56 71.09375 56 \r\nQ 79.640625 56 84.28125 50.015625 \r\nQ 88.921875 44.046875 88.921875 33.015625 \r\nL 88.921875 0 \r\nL 79.890625 0 \r\nL 79.890625 32.71875 \r\nQ 79.890625 40.578125 77.09375 44.375 \r\nQ 74.3125 48.1875 68.609375 48.1875 \r\nQ 61.625 48.1875 57.5625 43.546875 \r\nQ 53.515625 38.921875 53.515625 30.90625 \r\nL 53.515625 0 \r\nL 44.484375 0 \r\nL 44.484375 32.71875 \r\nQ 44.484375 40.625 41.703125 44.40625 \r\nQ 38.921875 48.1875 33.109375 48.1875 \r\nQ 26.21875 48.1875 22.15625 43.53125 \r\nQ 18.109375 38.875 18.109375 30.90625 \r\nL 18.109375 0 \r\nL 9.078125 0 \r\nL 9.078125 54.6875 \r\nL 18.109375 54.6875 \r\nL 18.109375 46.1875 \r\nQ 21.1875 51.21875 25.484375 53.609375 \r\nQ 29.78125 56 35.6875 56 \r\nQ 41.65625 56 45.828125 52.96875 \r\nQ 50 49.953125 52 44.1875 \r\nz\r\n\" id=\"DejaVuSans-109\"/>\r\n       <path d=\"M 48.6875 27.296875 \r\nQ 48.6875 37.203125 44.609375 42.84375 \r\nQ 40.53125 48.484375 33.40625 48.484375 \r\nQ 26.265625 48.484375 22.1875 42.84375 \r\nQ 18.109375 37.203125 18.109375 27.296875 \r\nQ 18.109375 17.390625 22.1875 11.75 \r\nQ 26.265625 6.109375 33.40625 6.109375 \r\nQ 40.53125 6.109375 44.609375 11.75 \r\nQ 48.6875 17.390625 48.6875 27.296875 \r\nz\r\nM 18.109375 46.390625 \r\nQ 20.953125 51.265625 25.265625 53.625 \r\nQ 29.59375 56 35.59375 56 \r\nQ 45.5625 56 51.78125 48.09375 \r\nQ 58.015625 40.1875 58.015625 27.296875 \r\nQ 58.015625 14.40625 51.78125 6.484375 \r\nQ 45.5625 -1.421875 35.59375 -1.421875 \r\nQ 29.59375 -1.421875 25.265625 0.953125 \r\nQ 20.953125 3.328125 18.109375 8.203125 \r\nL 18.109375 0 \r\nL 9.078125 0 \r\nL 9.078125 75.984375 \r\nL 18.109375 75.984375 \r\nz\r\n\" id=\"DejaVuSans-98\"/>\r\n       <path d=\"M 30.609375 48.390625 \r\nQ 23.390625 48.390625 19.1875 42.75 \r\nQ 14.984375 37.109375 14.984375 27.296875 \r\nQ 14.984375 17.484375 19.15625 11.84375 \r\nQ 23.34375 6.203125 30.609375 6.203125 \r\nQ 37.796875 6.203125 41.984375 11.859375 \r\nQ 46.1875 17.53125 46.1875 27.296875 \r\nQ 46.1875 37.015625 41.984375 42.703125 \r\nQ 37.796875 48.390625 30.609375 48.390625 \r\nz\r\nM 30.609375 56 \r\nQ 42.328125 56 49.015625 48.375 \r\nQ 55.71875 40.765625 55.71875 27.296875 \r\nQ 55.71875 13.875 49.015625 6.21875 \r\nQ 42.328125 -1.421875 30.609375 -1.421875 \r\nQ 18.84375 -1.421875 12.171875 6.21875 \r\nQ 5.515625 13.875 5.515625 27.296875 \r\nQ 5.515625 40.765625 12.171875 48.375 \r\nQ 18.84375 56 30.609375 56 \r\nz\r\n\" id=\"DejaVuSans-111\"/>\r\n       <path d=\"M 37.109375 75.984375 \r\nL 37.109375 68.5 \r\nL 28.515625 68.5 \r\nQ 23.6875 68.5 21.796875 66.546875 \r\nQ 19.921875 64.59375 19.921875 59.515625 \r\nL 19.921875 54.6875 \r\nL 34.71875 54.6875 \r\nL 34.71875 47.703125 \r\nL 19.921875 47.703125 \r\nL 19.921875 0 \r\nL 10.890625 0 \r\nL 10.890625 47.703125 \r\nL 2.296875 47.703125 \r\nL 2.296875 54.6875 \r\nL 10.890625 54.6875 \r\nL 10.890625 58.5 \r\nQ 10.890625 67.625 15.140625 71.796875 \r\nQ 19.390625 75.984375 28.609375 75.984375 \r\nz\r\n\" id=\"DejaVuSans-102\"/>\r\n       <path d=\"M 9.8125 72.90625 \r\nL 19.671875 72.90625 \r\nL 19.671875 0 \r\nL 9.8125 0 \r\nz\r\n\" id=\"DejaVuSans-73\"/>\r\n       <path d=\"M 54.890625 33.015625 \r\nL 54.890625 0 \r\nL 45.90625 0 \r\nL 45.90625 32.71875 \r\nQ 45.90625 40.484375 42.875 44.328125 \r\nQ 39.84375 48.1875 33.796875 48.1875 \r\nQ 26.515625 48.1875 22.3125 43.546875 \r\nQ 18.109375 38.921875 18.109375 30.90625 \r\nL 18.109375 0 \r\nL 9.078125 0 \r\nL 9.078125 54.6875 \r\nL 18.109375 54.6875 \r\nL 18.109375 46.1875 \r\nQ 21.34375 51.125 25.703125 53.5625 \r\nQ 30.078125 56 35.796875 56 \r\nQ 45.21875 56 50.046875 50.171875 \r\nQ 54.890625 44.34375 54.890625 33.015625 \r\nz\r\n\" id=\"DejaVuSans-110\"/>\r\n       <path d=\"M 45.40625 46.390625 \r\nL 45.40625 75.984375 \r\nL 54.390625 75.984375 \r\nL 54.390625 0 \r\nL 45.40625 0 \r\nL 45.40625 8.203125 \r\nQ 42.578125 3.328125 38.25 0.953125 \r\nQ 33.9375 -1.421875 27.875 -1.421875 \r\nQ 17.96875 -1.421875 11.734375 6.484375 \r\nQ 5.515625 14.40625 5.515625 27.296875 \r\nQ 5.515625 40.1875 11.734375 48.09375 \r\nQ 17.96875 56 27.875 56 \r\nQ 33.9375 56 38.25 53.625 \r\nQ 42.578125 51.265625 45.40625 46.390625 \r\nz\r\nM 14.796875 27.296875 \r\nQ 14.796875 17.390625 18.875 11.75 \r\nQ 22.953125 6.109375 30.078125 6.109375 \r\nQ 37.203125 6.109375 41.296875 11.75 \r\nQ 45.40625 17.390625 45.40625 27.296875 \r\nQ 45.40625 37.203125 41.296875 42.84375 \r\nQ 37.203125 48.484375 30.078125 48.484375 \r\nQ 22.953125 48.484375 18.875 42.84375 \r\nQ 14.796875 37.203125 14.796875 27.296875 \r\nz\r\n\" id=\"DejaVuSans-100\"/>\r\n       <path d=\"M 18.3125 70.21875 \r\nL 18.3125 54.6875 \r\nL 36.8125 54.6875 \r\nL 36.8125 47.703125 \r\nL 18.3125 47.703125 \r\nL 18.3125 18.015625 \r\nQ 18.3125 11.328125 20.140625 9.421875 \r\nQ 21.96875 7.515625 27.59375 7.515625 \r\nL 36.8125 7.515625 \r\nL 36.8125 0 \r\nL 27.59375 0 \r\nQ 17.1875 0 13.234375 3.875 \r\nQ 9.28125 7.765625 9.28125 18.015625 \r\nL 9.28125 47.703125 \r\nL 2.6875 47.703125 \r\nL 2.6875 54.6875 \r\nL 9.28125 54.6875 \r\nL 9.28125 70.21875 \r\nz\r\n\" id=\"DejaVuSans-116\"/>\r\n       <path d=\"M 44.28125 53.078125 \r\nL 44.28125 44.578125 \r\nQ 40.484375 46.53125 36.375 47.5 \r\nQ 32.28125 48.484375 27.875 48.484375 \r\nQ 21.1875 48.484375 17.84375 46.4375 \r\nQ 14.5 44.390625 14.5 40.28125 \r\nQ 14.5 37.15625 16.890625 35.375 \r\nQ 19.28125 33.59375 26.515625 31.984375 \r\nL 29.59375 31.296875 \r\nQ 39.15625 29.25 43.1875 25.515625 \r\nQ 47.21875 21.78125 47.21875 15.09375 \r\nQ 47.21875 7.46875 41.1875 3.015625 \r\nQ 35.15625 -1.421875 24.609375 -1.421875 \r\nQ 20.21875 -1.421875 15.453125 -0.5625 \r\nQ 10.6875 0.296875 5.421875 2 \r\nL 5.421875 11.28125 \r\nQ 10.40625 8.6875 15.234375 7.390625 \r\nQ 20.0625 6.109375 24.8125 6.109375 \r\nQ 31.15625 6.109375 34.5625 8.28125 \r\nQ 37.984375 10.453125 37.984375 14.40625 \r\nQ 37.984375 18.0625 35.515625 20.015625 \r\nQ 33.0625 21.96875 24.703125 23.78125 \r\nL 21.578125 24.515625 \r\nQ 13.234375 26.265625 9.515625 29.90625 \r\nQ 5.8125 33.546875 5.8125 39.890625 \r\nQ 5.8125 47.609375 11.28125 51.796875 \r\nQ 16.75 56 26.8125 56 \r\nQ 31.78125 56 36.171875 55.265625 \r\nQ 40.578125 54.546875 44.28125 53.078125 \r\nz\r\n\" id=\"DejaVuSans-115\"/>\r\n      </defs>\r\n      <use xlink:href=\"#DejaVuSans-78\"/>\r\n      <use x=\"74.804688\" xlink:href=\"#DejaVuSans-117\"/>\r\n      <use x=\"138.183594\" xlink:href=\"#DejaVuSans-109\"/>\r\n      <use x=\"235.595703\" xlink:href=\"#DejaVuSans-98\"/>\r\n      <use x=\"299.072266\" xlink:href=\"#DejaVuSans-101\"/>\r\n      <use x=\"360.595703\" xlink:href=\"#DejaVuSans-114\"/>\r\n      <use x=\"401.708984\" xlink:href=\"#DejaVuSans-32\"/>\r\n      <use x=\"433.496094\" xlink:href=\"#DejaVuSans-111\"/>\r\n      <use x=\"494.677734\" xlink:href=\"#DejaVuSans-102\"/>\r\n      <use x=\"529.882812\" xlink:href=\"#DejaVuSans-32\"/>\r\n      <use x=\"561.669922\" xlink:href=\"#DejaVuSans-73\"/>\r\n      <use x=\"591.162109\" xlink:href=\"#DejaVuSans-110\"/>\r\n      <use x=\"654.541016\" xlink:href=\"#DejaVuSans-99\"/>\r\n      <use x=\"709.521484\" xlink:href=\"#DejaVuSans-105\"/>\r\n      <use x=\"737.304688\" xlink:href=\"#DejaVuSans-100\"/>\r\n      <use x=\"800.78125\" xlink:href=\"#DejaVuSans-101\"/>\r\n      <use x=\"862.304688\" xlink:href=\"#DejaVuSans-110\"/>\r\n      <use x=\"925.683594\" xlink:href=\"#DejaVuSans-116\"/>\r\n      <use x=\"964.892578\" xlink:href=\"#DejaVuSans-115\"/>\r\n     </g>\r\n    </g>\r\n   </g>\r\n   <g id=\"line2d_29\">\r\n    <defs>\r\n     <path d=\"M 0 -3 \r\nL -3 3 \r\nL 3 3 \r\nz\r\n\" id=\"ma913260dce\" style=\"stroke:#008000;stroke-linejoin:miter;\"/>\r\n    </defs>\r\n    <g clip-path=\"url(#p84f6c9b5cf)\">\r\n     <use style=\"fill:#008000;stroke:#008000;stroke-linejoin:miter;\" x=\"68.546307\" xlink:href=\"#ma913260dce\" y=\"147.932056\"/>\r\n     <use style=\"fill:#008000;stroke:#008000;stroke-linejoin:miter;\" x=\"84.565446\" xlink:href=\"#ma913260dce\" y=\"127.714278\"/>\r\n     <use style=\"fill:#008000;stroke:#008000;stroke-linejoin:miter;\" x=\"100.584584\" xlink:href=\"#ma913260dce\" y=\"113.814556\"/>\r\n     <use style=\"fill:#008000;stroke:#008000;stroke-linejoin:miter;\" x=\"116.603723\" xlink:href=\"#ma913260dce\" y=\"107.963488\"/>\r\n     <use style=\"fill:#008000;stroke:#008000;stroke-linejoin:miter;\" x=\"132.622862\" xlink:href=\"#ma913260dce\" y=\"91.673892\"/>\r\n     <use style=\"fill:#008000;stroke:#008000;stroke-linejoin:miter;\" x=\"148.642001\" xlink:href=\"#ma913260dce\" y=\"84.86138\"/>\r\n     <use style=\"fill:#008000;stroke:#008000;stroke-linejoin:miter;\" x=\"164.661139\" xlink:href=\"#ma913260dce\" y=\"89.036791\"/>\r\n     <use style=\"fill:#008000;stroke:#008000;stroke-linejoin:miter;\" x=\"180.680278\" xlink:href=\"#ma913260dce\" y=\"109.172159\"/>\r\n     <use style=\"fill:#008000;stroke:#008000;stroke-linejoin:miter;\" x=\"196.699417\" xlink:href=\"#ma913260dce\" y=\"99.750015\"/>\r\n     <use style=\"fill:#008000;stroke:#008000;stroke-linejoin:miter;\" x=\"212.718556\" xlink:href=\"#ma913260dce\" y=\"80.026694\"/>\r\n     <use style=\"fill:#008000;stroke:#008000;stroke-linejoin:miter;\" x=\"228.737694\" xlink:href=\"#ma913260dce\" y=\"67.747691\"/>\r\n     <use style=\"fill:#008000;stroke:#008000;stroke-linejoin:miter;\" x=\"244.756833\" xlink:href=\"#ma913260dce\" y=\"42.612818\"/>\r\n     <use style=\"fill:#008000;stroke:#008000;stroke-linejoin:miter;\" x=\"260.775972\" xlink:href=\"#ma913260dce\" y=\"33.959829\"/>\r\n     <use style=\"fill:#008000;stroke:#008000;stroke-linejoin:miter;\" x=\"276.795111\" xlink:href=\"#ma913260dce\" y=\"32.201761\"/>\r\n     <use style=\"fill:#008000;stroke:#008000;stroke-linejoin:miter;\" x=\"292.814249\" xlink:href=\"#ma913260dce\" y=\"58.600245\"/>\r\n     <use style=\"fill:#008000;stroke:#008000;stroke-linejoin:miter;\" x=\"308.833388\" xlink:href=\"#ma913260dce\" y=\"104.557232\"/>\r\n     <use style=\"fill:#008000;stroke:#008000;stroke-linejoin:miter;\" x=\"324.852527\" xlink:href=\"#ma913260dce\" y=\"152.629393\"/>\r\n     <use style=\"fill:#008000;stroke:#008000;stroke-linejoin:miter;\" x=\"340.871666\" xlink:href=\"#ma913260dce\" y=\"182.983529\"/>\r\n     <use style=\"fill:#008000;stroke:#008000;stroke-linejoin:miter;\" x=\"356.890804\" xlink:href=\"#ma913260dce\" y=\"214.299108\"/>\r\n     <use style=\"fill:#008000;stroke:#008000;stroke-linejoin:miter;\" x=\"372.909943\" xlink:href=\"#ma913260dce\" y=\"229.874489\"/>\r\n    </g>\r\n   </g>\r\n   <g id=\"patch_3\">\r\n    <path d=\"M 53.328125 239.758125 \r\nL 53.328125 22.318125 \r\n\" style=\"fill:none;stroke:#000000;stroke-linecap:square;stroke-linejoin:miter;stroke-width:0.8;\"/>\r\n   </g>\r\n   <g id=\"patch_4\">\r\n    <path d=\"M 388.128125 239.758125 \r\nL 388.128125 22.318125 \r\n\" style=\"fill:none;stroke:#000000;stroke-linecap:square;stroke-linejoin:miter;stroke-width:0.8;\"/>\r\n   </g>\r\n   <g id=\"patch_5\">\r\n    <path d=\"M 53.328125 239.758125 \r\nL 388.128125 239.758125 \r\n\" style=\"fill:none;stroke:#000000;stroke-linecap:square;stroke-linejoin:miter;stroke-width:0.8;\"/>\r\n   </g>\r\n   <g id=\"patch_6\">\r\n    <path d=\"M 53.328125 22.318125 \r\nL 388.128125 22.318125 \r\n\" style=\"fill:none;stroke:#000000;stroke-linecap:square;stroke-linejoin:miter;stroke-width:0.8;\"/>\r\n   </g>\r\n   <g id=\"text_31\">\r\n    <!-- Top 20 Vehicle Years Involved In Incidents -->\r\n    <g transform=\"translate(95.831563 16.318125)scale(0.12 -0.12)\">\r\n     <defs>\r\n      <path d=\"M -0.296875 72.90625 \r\nL 61.375 72.90625 \r\nL 61.375 64.59375 \r\nL 35.5 64.59375 \r\nL 35.5 0 \r\nL 25.59375 0 \r\nL 25.59375 64.59375 \r\nL -0.296875 64.59375 \r\nz\r\n\" id=\"DejaVuSans-84\"/>\r\n      <path d=\"M 18.109375 8.203125 \r\nL 18.109375 -20.796875 \r\nL 9.078125 -20.796875 \r\nL 9.078125 54.6875 \r\nL 18.109375 54.6875 \r\nL 18.109375 46.390625 \r\nQ 20.953125 51.265625 25.265625 53.625 \r\nQ 29.59375 56 35.59375 56 \r\nQ 45.5625 56 51.78125 48.09375 \r\nQ 58.015625 40.1875 58.015625 27.296875 \r\nQ 58.015625 14.40625 51.78125 6.484375 \r\nQ 45.5625 -1.421875 35.59375 -1.421875 \r\nQ 29.59375 -1.421875 25.265625 0.953125 \r\nQ 20.953125 3.328125 18.109375 8.203125 \r\nz\r\nM 48.6875 27.296875 \r\nQ 48.6875 37.203125 44.609375 42.84375 \r\nQ 40.53125 48.484375 33.40625 48.484375 \r\nQ 26.265625 48.484375 22.1875 42.84375 \r\nQ 18.109375 37.203125 18.109375 27.296875 \r\nQ 18.109375 17.390625 22.1875 11.75 \r\nQ 26.265625 6.109375 33.40625 6.109375 \r\nQ 40.53125 6.109375 44.609375 11.75 \r\nQ 48.6875 17.390625 48.6875 27.296875 \r\nz\r\n\" id=\"DejaVuSans-112\"/>\r\n      <path d=\"M 2.984375 54.6875 \r\nL 12.5 54.6875 \r\nL 29.59375 8.796875 \r\nL 46.6875 54.6875 \r\nL 56.203125 54.6875 \r\nL 35.6875 0 \r\nL 23.484375 0 \r\nz\r\n\" id=\"DejaVuSans-118\"/>\r\n     </defs>\r\n     <use xlink:href=\"#DejaVuSans-84\"/>\r\n     <use x=\"44.083984\" xlink:href=\"#DejaVuSans-111\"/>\r\n     <use x=\"105.265625\" xlink:href=\"#DejaVuSans-112\"/>\r\n     <use x=\"168.742188\" xlink:href=\"#DejaVuSans-32\"/>\r\n     <use x=\"200.529297\" xlink:href=\"#DejaVuSans-50\"/>\r\n     <use x=\"264.152344\" xlink:href=\"#DejaVuSans-48\"/>\r\n     <use x=\"327.775391\" xlink:href=\"#DejaVuSans-32\"/>\r\n     <use x=\"359.5625\" xlink:href=\"#DejaVuSans-86\"/>\r\n     <use x=\"420.220703\" xlink:href=\"#DejaVuSans-101\"/>\r\n     <use x=\"481.744141\" xlink:href=\"#DejaVuSans-104\"/>\r\n     <use x=\"545.123047\" xlink:href=\"#DejaVuSans-105\"/>\r\n     <use x=\"572.90625\" xlink:href=\"#DejaVuSans-99\"/>\r\n     <use x=\"627.886719\" xlink:href=\"#DejaVuSans-108\"/>\r\n     <use x=\"655.669922\" xlink:href=\"#DejaVuSans-101\"/>\r\n     <use x=\"717.193359\" xlink:href=\"#DejaVuSans-32\"/>\r\n     <use x=\"748.980469\" xlink:href=\"#DejaVuSans-89\"/>\r\n     <use x=\"796.814453\" xlink:href=\"#DejaVuSans-101\"/>\r\n     <use x=\"858.337891\" xlink:href=\"#DejaVuSans-97\"/>\r\n     <use x=\"919.617188\" xlink:href=\"#DejaVuSans-114\"/>\r\n     <use x=\"960.730469\" xlink:href=\"#DejaVuSans-115\"/>\r\n     <use x=\"1012.830078\" xlink:href=\"#DejaVuSans-32\"/>\r\n     <use x=\"1044.617188\" xlink:href=\"#DejaVuSans-73\"/>\r\n     <use x=\"1074.109375\" xlink:href=\"#DejaVuSans-110\"/>\r\n     <use x=\"1137.488281\" xlink:href=\"#DejaVuSans-118\"/>\r\n     <use x=\"1196.667969\" xlink:href=\"#DejaVuSans-111\"/>\r\n     <use x=\"1257.849609\" xlink:href=\"#DejaVuSans-108\"/>\r\n     <use x=\"1285.632812\" xlink:href=\"#DejaVuSans-118\"/>\r\n     <use x=\"1344.8125\" xlink:href=\"#DejaVuSans-101\"/>\r\n     <use x=\"1406.335938\" xlink:href=\"#DejaVuSans-100\"/>\r\n     <use x=\"1469.8125\" xlink:href=\"#DejaVuSans-32\"/>\r\n     <use x=\"1501.599609\" xlink:href=\"#DejaVuSans-73\"/>\r\n     <use x=\"1531.091797\" xlink:href=\"#DejaVuSans-110\"/>\r\n     <use x=\"1594.470703\" xlink:href=\"#DejaVuSans-32\"/>\r\n     <use x=\"1626.257812\" xlink:href=\"#DejaVuSans-73\"/>\r\n     <use x=\"1655.75\" xlink:href=\"#DejaVuSans-110\"/>\r\n     <use x=\"1719.128906\" xlink:href=\"#DejaVuSans-99\"/>\r\n     <use x=\"1774.109375\" xlink:href=\"#DejaVuSans-105\"/>\r\n     <use x=\"1801.892578\" xlink:href=\"#DejaVuSans-100\"/>\r\n     <use x=\"1865.369141\" xlink:href=\"#DejaVuSans-101\"/>\r\n     <use x=\"1926.892578\" xlink:href=\"#DejaVuSans-110\"/>\r\n     <use x=\"1990.271484\" xlink:href=\"#DejaVuSans-116\"/>\r\n     <use x=\"2029.480469\" xlink:href=\"#DejaVuSans-115\"/>\r\n    </g>\r\n   </g>\r\n  </g>\r\n </g>\r\n <defs>\r\n  <clipPath id=\"p84f6c9b5cf\">\r\n   <rect height=\"217.44\" width=\"334.8\" x=\"53.328125\" y=\"22.318125\"/>\r\n  </clipPath>\r\n </defs>\r\n</svg>\r\n",
      "image/png": "[encoded data removed]"
     },
     "metadata": {
      "needs_background": "light"
     }
    }
   ],
   "source": [
    "plt.plot(year[\"vehicle_year\"], year[\"num_incidents\"], 'g^')\n",
    "\n",
    "plt.title('Top 20 Vehicle Years Involved In Incidents')\n",
    "plt.xlabel('Vehicle Year')\n",
    "plt.ylabel('Number of Incidents')\n",
    "\n",
    "plt.xticks(rotation=45)\n",
    "plt.show()"
   ]
  },
  {
   "cell_type": "code",
   "execution_count": 27,
   "metadata": {},
   "outputs": [
    {
     "output_type": "execute_result",
     "data": {
      "text/plain": [
       "                    weather  num_incidents\n",
       "0  BLOWING SAND, SOIL, DIRT             15\n",
       "1              BLOWING SNOW             91\n",
       "2                     CLEAR          72849\n",
       "3                    CLOUDY          11725\n",
       "4                     FOGGY            460\n",
       "5                   RAINING          14133\n",
       "6              SEVERE WINDS            106\n",
       "7                     SLEET            171\n",
       "8                      SNOW           1151\n",
       "9                WINTRY MIX            334"
      ],
      "text/html": "<div>\n<style scoped>\n    .dataframe tbody tr th:only-of-type {\n        vertical-align: middle;\n    }\n\n    .dataframe tbody tr th {\n        vertical-align: top;\n    }\n\n    .dataframe thead th {\n        text-align: right;\n    }\n</style>\n<table border=\"1\" class=\"dataframe\">\n  <thead>\n    <tr style=\"text-align: right;\">\n      <th></th>\n      <th>weather</th>\n      <th>num_incidents</th>\n    </tr>\n  </thead>\n  <tbody>\n    <tr>\n      <th>0</th>\n      <td>BLOWING SAND, SOIL, DIRT</td>\n      <td>15</td>\n    </tr>\n    <tr>\n      <th>1</th>\n      <td>BLOWING SNOW</td>\n      <td>91</td>\n    </tr>\n    <tr>\n      <th>2</th>\n      <td>CLEAR</td>\n      <td>72849</td>\n    </tr>\n    <tr>\n      <th>3</th>\n      <td>CLOUDY</td>\n      <td>11725</td>\n    </tr>\n    <tr>\n      <th>4</th>\n      <td>FOGGY</td>\n      <td>460</td>\n    </tr>\n    <tr>\n      <th>5</th>\n      <td>RAINING</td>\n      <td>14133</td>\n    </tr>\n    <tr>\n      <th>6</th>\n      <td>SEVERE WINDS</td>\n      <td>106</td>\n    </tr>\n    <tr>\n      <th>7</th>\n      <td>SLEET</td>\n      <td>171</td>\n    </tr>\n    <tr>\n      <th>8</th>\n      <td>SNOW</td>\n      <td>1151</td>\n    </tr>\n    <tr>\n      <th>9</th>\n      <td>WINTRY MIX</td>\n      <td>334</td>\n    </tr>\n  </tbody>\n</table>\n</div>"
     },
     "metadata": {},
     "execution_count": 27
    }
   ],
   "source": [
    "# Weather\n",
    "weather = merge_data[[\"report_number\", \"weather\"]]\n",
    "weather = weather.groupby(\"weather\").count().reset_index()\n",
    "weather.columns = [\"weather\", \"num_incidents\"]\n",
    "weather = weather.sort_values(by=\"weather\")\n",
    "weather"
   ]
  },
  {
   "cell_type": "code",
   "execution_count": 43,
   "metadata": {},
   "outputs": [
    {
     "output_type": "error",
     "ename": "NameError",
     "evalue": "name 'x' is not defined",
     "traceback": [
      "\u001b[1;31m---------------------------------------------------------------------------\u001b[0m",
      "\u001b[1;31mNameError\u001b[0m                                 Traceback (most recent call last)",
      "\u001b[1;32m<ipython-input-43-bb8d4929048d>\u001b[0m in \u001b[0;36m<module>\u001b[1;34m\u001b[0m\n\u001b[0;32m      5\u001b[0m \u001b[0max\u001b[0m\u001b[1;33m.\u001b[0m\u001b[0mbarh\u001b[0m\u001b[1;33m(\u001b[0m\u001b[0mweather\u001b[0m\u001b[1;33m[\u001b[0m\u001b[1;34m\"weather\"\u001b[0m\u001b[1;33m]\u001b[0m\u001b[1;33m,\u001b[0m \u001b[0mweather\u001b[0m\u001b[1;33m[\u001b[0m\u001b[1;34m\"num_incidents\"\u001b[0m\u001b[1;33m]\u001b[0m\u001b[1;33m,\u001b[0m \u001b[0mwidth\u001b[0m\u001b[1;33m)\u001b[0m\u001b[1;33m\u001b[0m\u001b[1;33m\u001b[0m\u001b[0m\n\u001b[0;32m      6\u001b[0m \u001b[0max\u001b[0m\u001b[1;33m.\u001b[0m\u001b[0mset_yticks\u001b[0m\u001b[1;33m(\u001b[0m\u001b[0mind\u001b[0m\u001b[1;33m+\u001b[0m\u001b[0mwidth\u001b[0m\u001b[1;33m/\u001b[0m\u001b[1;36m2\u001b[0m\u001b[1;33m)\u001b[0m\u001b[1;33m\u001b[0m\u001b[1;33m\u001b[0m\u001b[0m\n\u001b[1;32m----> 7\u001b[1;33m \u001b[0max\u001b[0m\u001b[1;33m.\u001b[0m\u001b[0mset_yticklabels\u001b[0m\u001b[1;33m(\u001b[0m\u001b[0mx\u001b[0m\u001b[1;33m,\u001b[0m \u001b[0mminor\u001b[0m\u001b[1;33m=\u001b[0m\u001b[1;32mFalse\u001b[0m\u001b[1;33m)\u001b[0m\u001b[1;33m\u001b[0m\u001b[1;33m\u001b[0m\u001b[0m\n\u001b[0m\u001b[0;32m      8\u001b[0m \u001b[1;32mfor\u001b[0m \u001b[0mi\u001b[0m\u001b[1;33m,\u001b[0m \u001b[0mv\u001b[0m \u001b[1;32min\u001b[0m \u001b[0menumerate\u001b[0m\u001b[1;33m(\u001b[0m\u001b[0mweather\u001b[0m\u001b[1;33m[\u001b[0m\u001b[1;34m\"num_incidents\"\u001b[0m\u001b[1;33m]\u001b[0m\u001b[1;33m)\u001b[0m\u001b[1;33m:\u001b[0m\u001b[1;33m\u001b[0m\u001b[1;33m\u001b[0m\u001b[0m\n\u001b[0;32m      9\u001b[0m     \u001b[0max\u001b[0m\u001b[1;33m.\u001b[0m\u001b[0mtext\u001b[0m\u001b[1;33m(\u001b[0m\u001b[0mv\u001b[0m \u001b[1;33m+\u001b[0m \u001b[1;36m3\u001b[0m\u001b[1;33m,\u001b[0m \u001b[0mi\u001b[0m \u001b[1;33m+\u001b[0m \u001b[1;36m.25\u001b[0m\u001b[1;33m,\u001b[0m \u001b[0mstr\u001b[0m\u001b[1;33m(\u001b[0m\u001b[0mv\u001b[0m\u001b[1;33m)\u001b[0m\u001b[1;33m,\u001b[0m \u001b[0mcolor\u001b[0m\u001b[1;33m=\u001b[0m\u001b[1;34m'blue'\u001b[0m\u001b[1;33m,\u001b[0m \u001b[0mfontweight\u001b[0m\u001b[1;33m=\u001b[0m\u001b[1;34m'bold'\u001b[0m\u001b[1;33m)\u001b[0m\u001b[1;33m\u001b[0m\u001b[1;33m\u001b[0m\u001b[0m\n",
      "\u001b[1;31mNameError\u001b[0m: name 'x' is not defined"
     ]
    }
   ],
   "source": [
    "fig, ax = plt.subplots()\n",
    "\n",
    "width = 0.75\n",
    "ind = np.arange(len(weather[\"num_incidents\"]))\n",
    "ax.barh(weather[\"weather\"], weather[\"num_incidents\"], width)\n",
    "ax.set_yticks(ind+width/2)\n",
    "ax.set_yticklabels(x, minor=False)\n",
    "for i, v in enumerate(weather[\"num_incidents\"]):\n",
    "    ax.text(v + 3, i + .25, str(v), color='blue', fontweight='bold')\n",
    "\n",
    "plt.title('Top 20 Vehicle Years Involved In Incidents')\n",
    "plt.xlabel('Vehicle Year')\n",
    "plt.ylabel('Number of Incidents')\n",
    "\n",
    "plt.xticks(rotation=90)\n",
    "plt.show()"
   ]
  },
  {
   "cell_type": "code",
   "execution_count": 10,
   "metadata": {},
   "outputs": [],
   "source": [
    "#x_y = []\n",
    "#for index in range(0, len(incidents['Y'])):\n",
    "#    x_y.append([float(incidents['Y'][index]), float(incidents['X'][index])])\n",
    "#x_y[:10]"
   ]
  },
  {
   "cell_type": "code",
   "execution_count": 11,
   "metadata": {},
   "outputs": [],
   "source": [
    "#m = folium.Map(location=[38.86948278, -76.96897301], default_zoom_start=200)\n",
    "\n",
    "#for xy in x_y:\n",
    "#    folium.Marker(location=xy, popup='You found a crash').add_to(m)\n",
    "\n",
    "#m"
   ]
  },
  {
   "cell_type": "code",
   "execution_count": 10,
   "metadata": {},
   "outputs": [
    {
     "output_type": "execute_result",
     "data": {
      "text/plain": [
       "               ENFORCEMENT  Number-of-Accident\n",
       "0  OVERSIZED SAFETY CAMERA                   2\n",
       "1  RED LIGHT SAFETY CAMERA                1027\n",
       "2      SPEED SAFETY CAMERA                 255\n",
       "3  STOP SIGN SAFETY CAMERA                  10"
      ],
      "text/html": "<div>\n<style scoped>\n    .dataframe tbody tr th:only-of-type {\n        vertical-align: middle;\n    }\n\n    .dataframe tbody tr th {\n        vertical-align: top;\n    }\n\n    .dataframe thead th {\n        text-align: right;\n    }\n</style>\n<table border=\"1\" class=\"dataframe\">\n  <thead>\n    <tr style=\"text-align: right;\">\n      <th></th>\n      <th>ENFORCEMENT</th>\n      <th>Number-of-Accident</th>\n    </tr>\n  </thead>\n  <tbody>\n    <tr>\n      <th>0</th>\n      <td>OVERSIZED SAFETY CAMERA</td>\n      <td>2</td>\n    </tr>\n    <tr>\n      <th>1</th>\n      <td>RED LIGHT SAFETY CAMERA</td>\n      <td>1027</td>\n    </tr>\n    <tr>\n      <th>2</th>\n      <td>SPEED SAFETY CAMERA</td>\n      <td>255</td>\n    </tr>\n    <tr>\n      <th>3</th>\n      <td>STOP SIGN SAFETY CAMERA</td>\n      <td>10</td>\n    </tr>\n  </tbody>\n</table>\n</div>"
     },
     "metadata": {},
     "execution_count": 10
    }
   ],
   "source": [
    "enforment = merge_crash[['ENFORCEMENT', 'TODATE']].groupby('ENFORCEMENT').agg('count').reset_index()\n",
    "enforment.columns = ['ENFORCEMENT', 'Number-of-Accident']\n",
    "enforment"
   ]
  }
 ],
 "metadata": {
  "kernelspec": {
   "name": "python385jvsc74a57bd008db6ecd098049e967c1cdaceda8b9102a677ce0a57d8e46dd692f46d2089ba4",
   "display_name": "Python 3.8.5 64-bit (conda)"
  },
  "language_info": {
   "codemirror_mode": {
    "name": "ipython",
    "version": 3
   },
   "file_extension": ".py",
   "mimetype": "text/x-python",
   "name": "python",
   "nbconvert_exporter": "python",
   "pygments_lexer": "ipython3",
   "version": "3.8.5"
  },
  "metadata": {
   "interpreter": {
    "hash": "95431f8c529e4652c9995a33554ba2830eb83c66db779a866a9902a4ccb8a213"
   }
  }
 },
 "nbformat": 4,
 "nbformat_minor": 2
}
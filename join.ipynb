{
 "metadata": {
  "language_info": {
   "codemirror_mode": {
    "name": "ipython",
    "version": 3
   },
   "file_extension": ".py",
   "mimetype": "text/x-python",
   "name": "python",
   "nbconvert_exporter": "python",
   "pygments_lexer": "ipython3",
   "version": "3.9.1"
  },
  "orig_nbformat": 2,
  "kernelspec": {
   "name": "python391jvsc74a57bd0881d357266a0e254ecf8f567fbc9758bdaf492fe2eaf8777e7b9953523e4462b",
   "display_name": "Python 3.9.1 64-bit ('terry': virtualenv)"
  }
 },
 "nbformat": 4,
 "nbformat_minor": 2,
 "cells": [
  {
   "cell_type": "code",
   "execution_count": 26,
   "metadata": {},
   "outputs": [],
   "source": [
    "import pandas as pd \n",
    "import folium\n"
   ]
  },
  {
   "cell_type": "code",
   "execution_count": 16,
   "metadata": {},
   "outputs": [
    {
     "output_type": "execute_result",
     "data": {
      "text/plain": [
       "     OBJECTID  ID              ENFORCEMENT  \\\n",
       "0         108  48      SPEED SAFETY CAMERA   \n",
       "1         109  51      SPEED SAFETY CAMERA   \n",
       "2         110  54      SPEED SAFETY CAMERA   \n",
       "3         111   1  RED LIGHT SAFETY CAMERA   \n",
       "4         112   9      SPEED SAFETY CAMERA   \n",
       "..        ...  ..                      ...   \n",
       "122       103  25  RED LIGHT SAFETY CAMERA   \n",
       "123       104  26  RED LIGHT SAFETY CAMERA   \n",
       "124       105  27  RED LIGHT SAFETY CAMERA   \n",
       "125       106  28  RED LIGHT SAFETY CAMERA   \n",
       "126       107  29  RED LIGHT SAFETY CAMERA   \n",
       "\n",
       "                                ADDRESS   MARID  \n",
       "0          2600 blk Lincoln Road NE n/b  801075  \n",
       "1     3900 blk South Dakota Ave NE se/b  806707  \n",
       "2     3900 blk South Dakota Ave NE nw/b  806707  \n",
       "3                14th St s/b @ U St NW   903573  \n",
       "4          5500 blk E Capitol St SE e/b  808208  \n",
       "..                                  ...     ...  \n",
       "122               K St e/b @ 27th St NW  900014  \n",
       "123               14th St n/b @ K St NW  900719  \n",
       "124    Independence Ave e/b @ 3rd St SW  903234  \n",
       "125   Connecticut Ave s/b @ Nebraska NW  906932  \n",
       "126  Connecticut Ave s/b @ Porter St NW  904041  \n",
       "\n",
       "[127 rows x 5 columns]"
      ],
      "text/html": "<div>\n<style scoped>\n    .dataframe tbody tr th:only-of-type {\n        vertical-align: middle;\n    }\n\n    .dataframe tbody tr th {\n        vertical-align: top;\n    }\n\n    .dataframe thead th {\n        text-align: right;\n    }\n</style>\n<table border=\"1\" class=\"dataframe\">\n  <thead>\n    <tr style=\"text-align: right;\">\n      <th></th>\n      <th>OBJECTID</th>\n      <th>ID</th>\n      <th>ENFORCEMENT</th>\n      <th>ADDRESS</th>\n      <th>MARID</th>\n    </tr>\n  </thead>\n  <tbody>\n    <tr>\n      <th>0</th>\n      <td>108</td>\n      <td>48</td>\n      <td>SPEED SAFETY CAMERA</td>\n      <td>2600 blk Lincoln Road NE n/b</td>\n      <td>801075</td>\n    </tr>\n    <tr>\n      <th>1</th>\n      <td>109</td>\n      <td>51</td>\n      <td>SPEED SAFETY CAMERA</td>\n      <td>3900 blk South Dakota Ave NE se/b</td>\n      <td>806707</td>\n    </tr>\n    <tr>\n      <th>2</th>\n      <td>110</td>\n      <td>54</td>\n      <td>SPEED SAFETY CAMERA</td>\n      <td>3900 blk South Dakota Ave NE nw/b</td>\n      <td>806707</td>\n    </tr>\n    <tr>\n      <th>3</th>\n      <td>111</td>\n      <td>1</td>\n      <td>RED LIGHT SAFETY CAMERA</td>\n      <td>14th St s/b @ U St NW</td>\n      <td>903573</td>\n    </tr>\n    <tr>\n      <th>4</th>\n      <td>112</td>\n      <td>9</td>\n      <td>SPEED SAFETY CAMERA</td>\n      <td>5500 blk E Capitol St SE e/b</td>\n      <td>808208</td>\n    </tr>\n    <tr>\n      <th>...</th>\n      <td>...</td>\n      <td>...</td>\n      <td>...</td>\n      <td>...</td>\n      <td>...</td>\n    </tr>\n    <tr>\n      <th>122</th>\n      <td>103</td>\n      <td>25</td>\n      <td>RED LIGHT SAFETY CAMERA</td>\n      <td>K St e/b @ 27th St NW</td>\n      <td>900014</td>\n    </tr>\n    <tr>\n      <th>123</th>\n      <td>104</td>\n      <td>26</td>\n      <td>RED LIGHT SAFETY CAMERA</td>\n      <td>14th St n/b @ K St NW</td>\n      <td>900719</td>\n    </tr>\n    <tr>\n      <th>124</th>\n      <td>105</td>\n      <td>27</td>\n      <td>RED LIGHT SAFETY CAMERA</td>\n      <td>Independence Ave e/b @ 3rd St SW</td>\n      <td>903234</td>\n    </tr>\n    <tr>\n      <th>125</th>\n      <td>106</td>\n      <td>28</td>\n      <td>RED LIGHT SAFETY CAMERA</td>\n      <td>Connecticut Ave s/b @ Nebraska NW</td>\n      <td>906932</td>\n    </tr>\n    <tr>\n      <th>126</th>\n      <td>107</td>\n      <td>29</td>\n      <td>RED LIGHT SAFETY CAMERA</td>\n      <td>Connecticut Ave s/b @ Porter St NW</td>\n      <td>904041</td>\n    </tr>\n  </tbody>\n</table>\n<p>127 rows × 5 columns</p>\n</div>"
     },
     "metadata": {},
     "execution_count": 16
    }
   ],
   "source": [
    "\n",
    "camera = pd.read_csv(\"Cameras.csv\", encoding='utf-8')\n",
    "camera"
   ]
  },
  {
   "cell_type": "code",
   "execution_count": 17,
   "metadata": {},
   "outputs": [
    {
     "output_type": "execute_result",
     "data": {
      "text/plain": [
       "                   X            Y   OBJECTID   CRIMEID       CCN  \\\n",
       "0       -77.00242493  38.96565803  201586244  28746957  21049470   \n",
       "1       -76.95382255  38.91880061  201586245  28746961  21049502   \n",
       "2       -77.01137465  38.88217541  201586246  28747545  21049511   \n",
       "3       -76.96837371  38.85593306  201586247  28747566  21049524   \n",
       "4       -76.94429099   38.8908907  201586248  28747568  21049507   \n",
       "...              ...          ...        ...       ...       ...   \n",
       "247745  -76.99140943   38.8347284  201834293  28742870  21047619   \n",
       "247746  -76.98329309  38.85328338  201834294  28742880  21044855   \n",
       "247747  -77.00148456  38.82143175  201834295  28742694  21047397   \n",
       "247748  -77.00896431  38.90739029  201834296  28742887  21047611   \n",
       "247749  -76.92165117   38.8998098  201834297  28742893  21047641   \n",
       "\n",
       "                    REPORTDATE ROUTEID MEASURE OFFSET STREETSEGID  \\\n",
       "0       2021/04/19 05:02:24+00       0       0   3.47        <NA>   \n",
       "1       2021/04/19 07:35:41+00       0       0   2.16        <NA>   \n",
       "2       2021/04/19 06:03:52+00       0       0   9.05        <NA>   \n",
       "3       2021/04/19 07:50:20+00       0       0   22.6        <NA>   \n",
       "4       2021/04/19 08:10:38+00       0       0   28.1        <NA>   \n",
       "...                        ...     ...     ...    ...         ...   \n",
       "247745  2021/04/15 00:27:33+00       0       0  31.83        <NA>   \n",
       "247746  2021/04/15 00:57:17+00       0       0   8.25        <NA>   \n",
       "247747  2021/04/14 16:44:58+00       0       0  36.97        <NA>   \n",
       "247748  2021/04/15 01:14:47+00       0       0   2.74        <NA>   \n",
       "247749  2021/04/15 01:27:18+00       0       0   4.82        <NA>   \n",
       "\n",
       "                      FROMDATE                  TODATE   MARID  \\\n",
       "0       2021/04/18 04:00:00+00  1970/01/01 00:00:00+00    3698   \n",
       "1       2021/04/18 04:00:00+00  1970/01/01 00:00:00+00  295060   \n",
       "2       2021/04/18 04:00:00+00  1970/01/01 00:00:00+00  309458   \n",
       "3       2021/04/19 04:00:00+00  1970/01/01 00:00:00+00   44035   \n",
       "4       2021/04/18 04:00:00+00  1970/01/01 00:00:00+00  288108   \n",
       "...                        ...                     ...     ...   \n",
       "247745  2021/04/14 04:00:00+00  1970/01/01 00:00:00+00  278456   \n",
       "247746  2021/04/08 04:00:00+00  1970/01/01 00:00:00+00   46332   \n",
       "247747  2021/04/14 04:00:00+00  1970/01/01 00:00:00+00  276659   \n",
       "247748  2021/04/14 04:00:00+00  1970/01/01 00:00:00+00   30849   \n",
       "247749  2021/04/14 04:00:00+00  1970/01/01 00:00:00+00   79949   \n",
       "\n",
       "                                      ADDRESS  \n",
       "0                      6200 EASTERN AVENUE NE  \n",
       "1                     3600 NEW YORK AVENUE NE  \n",
       "2                INTERSTATE 395 INTERSTATE BN  \n",
       "3                         2833 28TH STREET SE  \n",
       "4                         4100 AMES STREET NE  \n",
       "...                                       ...  \n",
       "247745                   4000 WHEELER ROAD SE  \n",
       "247746  STANTON ROAD SE & SUITLAND PARKWAY SE  \n",
       "247747           4675 SOUTH CAPITOL STREET SW  \n",
       "247748                  38 NEW YORK AVENUE NE  \n",
       "247749                     809 55TH STREET NE  \n",
       "\n",
       "[247750 rows x 14 columns]"
      ],
      "text/html": "<div>\n<style scoped>\n    .dataframe tbody tr th:only-of-type {\n        vertical-align: middle;\n    }\n\n    .dataframe tbody tr th {\n        vertical-align: top;\n    }\n\n    .dataframe thead th {\n        text-align: right;\n    }\n</style>\n<table border=\"1\" class=\"dataframe\">\n  <thead>\n    <tr style=\"text-align: right;\">\n      <th></th>\n      <th>X</th>\n      <th>Y</th>\n      <th>OBJECTID</th>\n      <th>CRIMEID</th>\n      <th>CCN</th>\n      <th>REPORTDATE</th>\n      <th>ROUTEID</th>\n      <th>MEASURE</th>\n      <th>OFFSET</th>\n      <th>STREETSEGID</th>\n      <th>FROMDATE</th>\n      <th>TODATE</th>\n      <th>MARID</th>\n      <th>ADDRESS</th>\n    </tr>\n  </thead>\n  <tbody>\n    <tr>\n      <th>0</th>\n      <td>-77.00242493</td>\n      <td>38.96565803</td>\n      <td>201586244</td>\n      <td>28746957</td>\n      <td>21049470</td>\n      <td>2021/04/19 05:02:24+00</td>\n      <td>0</td>\n      <td>0</td>\n      <td>3.47</td>\n      <td>&lt;NA&gt;</td>\n      <td>2021/04/18 04:00:00+00</td>\n      <td>1970/01/01 00:00:00+00</td>\n      <td>3698</td>\n      <td>6200 EASTERN AVENUE NE</td>\n    </tr>\n    <tr>\n      <th>1</th>\n      <td>-76.95382255</td>\n      <td>38.91880061</td>\n      <td>201586245</td>\n      <td>28746961</td>\n      <td>21049502</td>\n      <td>2021/04/19 07:35:41+00</td>\n      <td>0</td>\n      <td>0</td>\n      <td>2.16</td>\n      <td>&lt;NA&gt;</td>\n      <td>2021/04/18 04:00:00+00</td>\n      <td>1970/01/01 00:00:00+00</td>\n      <td>295060</td>\n      <td>3600 NEW YORK AVENUE NE</td>\n    </tr>\n    <tr>\n      <th>2</th>\n      <td>-77.01137465</td>\n      <td>38.88217541</td>\n      <td>201586246</td>\n      <td>28747545</td>\n      <td>21049511</td>\n      <td>2021/04/19 06:03:52+00</td>\n      <td>0</td>\n      <td>0</td>\n      <td>9.05</td>\n      <td>&lt;NA&gt;</td>\n      <td>2021/04/18 04:00:00+00</td>\n      <td>1970/01/01 00:00:00+00</td>\n      <td>309458</td>\n      <td>INTERSTATE 395 INTERSTATE BN</td>\n    </tr>\n    <tr>\n      <th>3</th>\n      <td>-76.96837371</td>\n      <td>38.85593306</td>\n      <td>201586247</td>\n      <td>28747566</td>\n      <td>21049524</td>\n      <td>2021/04/19 07:50:20+00</td>\n      <td>0</td>\n      <td>0</td>\n      <td>22.6</td>\n      <td>&lt;NA&gt;</td>\n      <td>2021/04/19 04:00:00+00</td>\n      <td>1970/01/01 00:00:00+00</td>\n      <td>44035</td>\n      <td>2833 28TH STREET SE</td>\n    </tr>\n    <tr>\n      <th>4</th>\n      <td>-76.94429099</td>\n      <td>38.8908907</td>\n      <td>201586248</td>\n      <td>28747568</td>\n      <td>21049507</td>\n      <td>2021/04/19 08:10:38+00</td>\n      <td>0</td>\n      <td>0</td>\n      <td>28.1</td>\n      <td>&lt;NA&gt;</td>\n      <td>2021/04/18 04:00:00+00</td>\n      <td>1970/01/01 00:00:00+00</td>\n      <td>288108</td>\n      <td>4100 AMES STREET NE</td>\n    </tr>\n    <tr>\n      <th>...</th>\n      <td>...</td>\n      <td>...</td>\n      <td>...</td>\n      <td>...</td>\n      <td>...</td>\n      <td>...</td>\n      <td>...</td>\n      <td>...</td>\n      <td>...</td>\n      <td>...</td>\n      <td>...</td>\n      <td>...</td>\n      <td>...</td>\n      <td>...</td>\n    </tr>\n    <tr>\n      <th>247745</th>\n      <td>-76.99140943</td>\n      <td>38.8347284</td>\n      <td>201834293</td>\n      <td>28742870</td>\n      <td>21047619</td>\n      <td>2021/04/15 00:27:33+00</td>\n      <td>0</td>\n      <td>0</td>\n      <td>31.83</td>\n      <td>&lt;NA&gt;</td>\n      <td>2021/04/14 04:00:00+00</td>\n      <td>1970/01/01 00:00:00+00</td>\n      <td>278456</td>\n      <td>4000 WHEELER ROAD SE</td>\n    </tr>\n    <tr>\n      <th>247746</th>\n      <td>-76.98329309</td>\n      <td>38.85328338</td>\n      <td>201834294</td>\n      <td>28742880</td>\n      <td>21044855</td>\n      <td>2021/04/15 00:57:17+00</td>\n      <td>0</td>\n      <td>0</td>\n      <td>8.25</td>\n      <td>&lt;NA&gt;</td>\n      <td>2021/04/08 04:00:00+00</td>\n      <td>1970/01/01 00:00:00+00</td>\n      <td>46332</td>\n      <td>STANTON ROAD SE &amp; SUITLAND PARKWAY SE</td>\n    </tr>\n    <tr>\n      <th>247747</th>\n      <td>-77.00148456</td>\n      <td>38.82143175</td>\n      <td>201834295</td>\n      <td>28742694</td>\n      <td>21047397</td>\n      <td>2021/04/14 16:44:58+00</td>\n      <td>0</td>\n      <td>0</td>\n      <td>36.97</td>\n      <td>&lt;NA&gt;</td>\n      <td>2021/04/14 04:00:00+00</td>\n      <td>1970/01/01 00:00:00+00</td>\n      <td>276659</td>\n      <td>4675 SOUTH CAPITOL STREET SW</td>\n    </tr>\n    <tr>\n      <th>247748</th>\n      <td>-77.00896431</td>\n      <td>38.90739029</td>\n      <td>201834296</td>\n      <td>28742887</td>\n      <td>21047611</td>\n      <td>2021/04/15 01:14:47+00</td>\n      <td>0</td>\n      <td>0</td>\n      <td>2.74</td>\n      <td>&lt;NA&gt;</td>\n      <td>2021/04/14 04:00:00+00</td>\n      <td>1970/01/01 00:00:00+00</td>\n      <td>30849</td>\n      <td>38 NEW YORK AVENUE NE</td>\n    </tr>\n    <tr>\n      <th>247749</th>\n      <td>-76.92165117</td>\n      <td>38.8998098</td>\n      <td>201834297</td>\n      <td>28742893</td>\n      <td>21047641</td>\n      <td>2021/04/15 01:27:18+00</td>\n      <td>0</td>\n      <td>0</td>\n      <td>4.82</td>\n      <td>&lt;NA&gt;</td>\n      <td>2021/04/14 04:00:00+00</td>\n      <td>1970/01/01 00:00:00+00</td>\n      <td>79949</td>\n      <td>809 55TH STREET NE</td>\n    </tr>\n  </tbody>\n</table>\n<p>247750 rows × 14 columns</p>\n</div>"
     },
     "metadata": {},
     "execution_count": 17
    }
   ],
   "source": [
    "crash = pd.read_csv(\"Crashes.csv\", encoding= 'utf-8',dtype='string')\n",
    "crash"
   ]
  },
  {
   "cell_type": "code",
   "execution_count": 18,
   "metadata": {},
   "outputs": [
    {
     "output_type": "execute_result",
     "data": {
      "text/plain": [
       "                 X            Y OBJECTID_x   CRIMEID       CCN  \\\n",
       "0      -76.9780827  38.93754653  201587003  26624955  12051854   \n",
       "1      -76.9780827  38.93754653  201587003  26624955  12051854   \n",
       "2      -76.9780827  38.93754653  201656001  26596685   8122951   \n",
       "3      -76.9780827  38.93754653  201656001  26596685   8122951   \n",
       "4      -76.9780827  38.93754653  201697743  24172560  12119555   \n",
       "...            ...          ...        ...       ...       ...   \n",
       "1289  -77.07158379  38.95467513  201759876  27661670  18068788   \n",
       "1290   -77.0715613  38.95470049  201768192  25260856  15057222   \n",
       "1291  -76.96897301  38.86948278  201800045  25321500  15118681   \n",
       "1292  -76.96897301  38.86948278  201806173  25035039  13183869   \n",
       "1293  -76.96897301  38.86948278  201817297  26634125  12078261   \n",
       "\n",
       "                  REPORTDATE   ROUTEID  MEASURE OFFSET STREETSEGID  \\\n",
       "0     2012/04/16 05:00:00+00  12081442   2913.3   0.05        5751   \n",
       "1     2012/04/16 05:00:00+00  12081442   2913.3   0.05        5751   \n",
       "2     2008/08/30 05:00:00+00  12081442   2913.3   0.05        5751   \n",
       "3     2008/08/30 05:00:00+00  12081442   2913.3   0.05        5751   \n",
       "4     2012/08/24 05:00:00+00  12081442   2913.3   0.05        5751   \n",
       "...                      ...       ...      ...    ...         ...   \n",
       "1289  2018/04/30 18:59:26+00  11063762  3317.05    0.9        6151   \n",
       "1290  2015/04/22 05:00:00+00  11035552    919.5   0.03       11456   \n",
       "1291  2015/08/02 05:00:00+00  13002702   538.29   0.02       12187   \n",
       "1292  2013/12/24 05:00:00+00  13002702   538.29   0.02       12187   \n",
       "1293  2012/06/06 05:00:00+00  13002702   538.29   0.02       12187   \n",
       "\n",
       "                    FROMDATE                  TODATE   MARID  \\\n",
       "0     2012/04/16 04:00:00+00  1970/01/01 00:00:00+00  806707   \n",
       "1     2012/04/16 04:00:00+00  1970/01/01 00:00:00+00  806707   \n",
       "2     2008/08/30 04:00:00+00  1970/01/01 00:00:00+00  806707   \n",
       "3     2008/08/30 04:00:00+00  1970/01/01 00:00:00+00  806707   \n",
       "4     2012/08/24 04:00:00+00  1970/01/01 00:00:00+00  806707   \n",
       "...                      ...                     ...     ...   \n",
       "1289  2018/04/30 04:00:00+00  1970/01/01 00:00:00+00  902679   \n",
       "1290  2015/04/22 04:00:00+00  1970/01/01 00:00:00+00  902679   \n",
       "1291  2015/08/02 04:00:00+00  1970/01/01 00:00:00+00  903631   \n",
       "1292  2013/12/24 05:00:00+00  1970/01/01 00:00:00+00  903631   \n",
       "1293  2012/06/06 04:00:00+00  1970/01/01 00:00:00+00  903631   \n",
       "\n",
       "                                     ADDRESS_x  OBJECTID_y  ID  \\\n",
       "0                 3900 BLK SOUTH DAKOTA AVE NE         109  51   \n",
       "1                 3900 BLK SOUTH DAKOTA AVE NE         110  54   \n",
       "2              3900 BLOCK SOUTH DAKOTA AVE. NE         109  51   \n",
       "3              3900 BLOCK SOUTH DAKOTA AVE. NE         110  54   \n",
       "4            3900 BLOCK OF SOUTH DAKOTA AVE NE         109  51   \n",
       "...                                        ...         ...  ..   \n",
       "1289  NEBRASKA AVENUE NW & FESSENDEN STREET NW          55  43   \n",
       "1290      FESSENDEN ST NW and  NEBRASKA AVE NW          55  43   \n",
       "1291                   27TH ST SE and  R ST SE          12   6   \n",
       "1292                   27TH ST SE and  R ST SE          12   6   \n",
       "1293                   27TH ST SE and  R ST SE          12   6   \n",
       "\n",
       "                  ENFORCEMENT                            ADDRESS_y  \n",
       "0         SPEED SAFETY CAMERA    3900 blk South Dakota Ave NE se/b  \n",
       "1         SPEED SAFETY CAMERA    3900 blk South Dakota Ave NE nw/b  \n",
       "2         SPEED SAFETY CAMERA    3900 blk South Dakota Ave NE se/b  \n",
       "3         SPEED SAFETY CAMERA    3900 blk South Dakota Ave NE nw/b  \n",
       "4         SPEED SAFETY CAMERA    3900 blk South Dakota Ave NE se/b  \n",
       "...                       ...                                  ...  \n",
       "1289  RED LIGHT SAFETY CAMERA  Nebraska Ave ne/b @ Fessenden St NW  \n",
       "1290  RED LIGHT SAFETY CAMERA  Nebraska Ave ne/b @ Fessenden St NW  \n",
       "1291  STOP SIGN SAFETY CAMERA                27th St n/b @ R St SE  \n",
       "1292  STOP SIGN SAFETY CAMERA                27th St n/b @ R St SE  \n",
       "1293  STOP SIGN SAFETY CAMERA                27th St n/b @ R St SE  \n",
       "\n",
       "[1294 rows x 18 columns]"
      ],
      "text/html": "<div>\n<style scoped>\n    .dataframe tbody tr th:only-of-type {\n        vertical-align: middle;\n    }\n\n    .dataframe tbody tr th {\n        vertical-align: top;\n    }\n\n    .dataframe thead th {\n        text-align: right;\n    }\n</style>\n<table border=\"1\" class=\"dataframe\">\n  <thead>\n    <tr style=\"text-align: right;\">\n      <th></th>\n      <th>X</th>\n      <th>Y</th>\n      <th>OBJECTID_x</th>\n      <th>CRIMEID</th>\n      <th>CCN</th>\n      <th>REPORTDATE</th>\n      <th>ROUTEID</th>\n      <th>MEASURE</th>\n      <th>OFFSET</th>\n      <th>STREETSEGID</th>\n      <th>FROMDATE</th>\n      <th>TODATE</th>\n      <th>MARID</th>\n      <th>ADDRESS_x</th>\n      <th>OBJECTID_y</th>\n      <th>ID</th>\n      <th>ENFORCEMENT</th>\n      <th>ADDRESS_y</th>\n    </tr>\n  </thead>\n  <tbody>\n    <tr>\n      <th>0</th>\n      <td>-76.9780827</td>\n      <td>38.93754653</td>\n      <td>201587003</td>\n      <td>26624955</td>\n      <td>12051854</td>\n      <td>2012/04/16 05:00:00+00</td>\n      <td>12081442</td>\n      <td>2913.3</td>\n      <td>0.05</td>\n      <td>5751</td>\n      <td>2012/04/16 04:00:00+00</td>\n      <td>1970/01/01 00:00:00+00</td>\n      <td>806707</td>\n      <td>3900 BLK SOUTH DAKOTA AVE NE</td>\n      <td>109</td>\n      <td>51</td>\n      <td>SPEED SAFETY CAMERA</td>\n      <td>3900 blk South Dakota Ave NE se/b</td>\n    </tr>\n    <tr>\n      <th>1</th>\n      <td>-76.9780827</td>\n      <td>38.93754653</td>\n      <td>201587003</td>\n      <td>26624955</td>\n      <td>12051854</td>\n      <td>2012/04/16 05:00:00+00</td>\n      <td>12081442</td>\n      <td>2913.3</td>\n      <td>0.05</td>\n      <td>5751</td>\n      <td>2012/04/16 04:00:00+00</td>\n      <td>1970/01/01 00:00:00+00</td>\n      <td>806707</td>\n      <td>3900 BLK SOUTH DAKOTA AVE NE</td>\n      <td>110</td>\n      <td>54</td>\n      <td>SPEED SAFETY CAMERA</td>\n      <td>3900 blk South Dakota Ave NE nw/b</td>\n    </tr>\n    <tr>\n      <th>2</th>\n      <td>-76.9780827</td>\n      <td>38.93754653</td>\n      <td>201656001</td>\n      <td>26596685</td>\n      <td>8122951</td>\n      <td>2008/08/30 05:00:00+00</td>\n      <td>12081442</td>\n      <td>2913.3</td>\n      <td>0.05</td>\n      <td>5751</td>\n      <td>2008/08/30 04:00:00+00</td>\n      <td>1970/01/01 00:00:00+00</td>\n      <td>806707</td>\n      <td>3900 BLOCK SOUTH DAKOTA AVE. NE</td>\n      <td>109</td>\n      <td>51</td>\n      <td>SPEED SAFETY CAMERA</td>\n      <td>3900 blk South Dakota Ave NE se/b</td>\n    </tr>\n    <tr>\n      <th>3</th>\n      <td>-76.9780827</td>\n      <td>38.93754653</td>\n      <td>201656001</td>\n      <td>26596685</td>\n      <td>8122951</td>\n      <td>2008/08/30 05:00:00+00</td>\n      <td>12081442</td>\n      <td>2913.3</td>\n      <td>0.05</td>\n      <td>5751</td>\n      <td>2008/08/30 04:00:00+00</td>\n      <td>1970/01/01 00:00:00+00</td>\n      <td>806707</td>\n      <td>3900 BLOCK SOUTH DAKOTA AVE. NE</td>\n      <td>110</td>\n      <td>54</td>\n      <td>SPEED SAFETY CAMERA</td>\n      <td>3900 blk South Dakota Ave NE nw/b</td>\n    </tr>\n    <tr>\n      <th>4</th>\n      <td>-76.9780827</td>\n      <td>38.93754653</td>\n      <td>201697743</td>\n      <td>24172560</td>\n      <td>12119555</td>\n      <td>2012/08/24 05:00:00+00</td>\n      <td>12081442</td>\n      <td>2913.3</td>\n      <td>0.05</td>\n      <td>5751</td>\n      <td>2012/08/24 04:00:00+00</td>\n      <td>1970/01/01 00:00:00+00</td>\n      <td>806707</td>\n      <td>3900 BLOCK OF SOUTH DAKOTA AVE NE</td>\n      <td>109</td>\n      <td>51</td>\n      <td>SPEED SAFETY CAMERA</td>\n      <td>3900 blk South Dakota Ave NE se/b</td>\n    </tr>\n    <tr>\n      <th>...</th>\n      <td>...</td>\n      <td>...</td>\n      <td>...</td>\n      <td>...</td>\n      <td>...</td>\n      <td>...</td>\n      <td>...</td>\n      <td>...</td>\n      <td>...</td>\n      <td>...</td>\n      <td>...</td>\n      <td>...</td>\n      <td>...</td>\n      <td>...</td>\n      <td>...</td>\n      <td>...</td>\n      <td>...</td>\n      <td>...</td>\n    </tr>\n    <tr>\n      <th>1289</th>\n      <td>-77.07158379</td>\n      <td>38.95467513</td>\n      <td>201759876</td>\n      <td>27661670</td>\n      <td>18068788</td>\n      <td>2018/04/30 18:59:26+00</td>\n      <td>11063762</td>\n      <td>3317.05</td>\n      <td>0.9</td>\n      <td>6151</td>\n      <td>2018/04/30 04:00:00+00</td>\n      <td>1970/01/01 00:00:00+00</td>\n      <td>902679</td>\n      <td>NEBRASKA AVENUE NW &amp; FESSENDEN STREET NW</td>\n      <td>55</td>\n      <td>43</td>\n      <td>RED LIGHT SAFETY CAMERA</td>\n      <td>Nebraska Ave ne/b @ Fessenden St NW</td>\n    </tr>\n    <tr>\n      <th>1290</th>\n      <td>-77.0715613</td>\n      <td>38.95470049</td>\n      <td>201768192</td>\n      <td>25260856</td>\n      <td>15057222</td>\n      <td>2015/04/22 05:00:00+00</td>\n      <td>11035552</td>\n      <td>919.5</td>\n      <td>0.03</td>\n      <td>11456</td>\n      <td>2015/04/22 04:00:00+00</td>\n      <td>1970/01/01 00:00:00+00</td>\n      <td>902679</td>\n      <td>FESSENDEN ST NW and  NEBRASKA AVE NW</td>\n      <td>55</td>\n      <td>43</td>\n      <td>RED LIGHT SAFETY CAMERA</td>\n      <td>Nebraska Ave ne/b @ Fessenden St NW</td>\n    </tr>\n    <tr>\n      <th>1291</th>\n      <td>-76.96897301</td>\n      <td>38.86948278</td>\n      <td>201800045</td>\n      <td>25321500</td>\n      <td>15118681</td>\n      <td>2015/08/02 05:00:00+00</td>\n      <td>13002702</td>\n      <td>538.29</td>\n      <td>0.02</td>\n      <td>12187</td>\n      <td>2015/08/02 04:00:00+00</td>\n      <td>1970/01/01 00:00:00+00</td>\n      <td>903631</td>\n      <td>27TH ST SE and  R ST SE</td>\n      <td>12</td>\n      <td>6</td>\n      <td>STOP SIGN SAFETY CAMERA</td>\n      <td>27th St n/b @ R St SE</td>\n    </tr>\n    <tr>\n      <th>1292</th>\n      <td>-76.96897301</td>\n      <td>38.86948278</td>\n      <td>201806173</td>\n      <td>25035039</td>\n      <td>13183869</td>\n      <td>2013/12/24 05:00:00+00</td>\n      <td>13002702</td>\n      <td>538.29</td>\n      <td>0.02</td>\n      <td>12187</td>\n      <td>2013/12/24 05:00:00+00</td>\n      <td>1970/01/01 00:00:00+00</td>\n      <td>903631</td>\n      <td>27TH ST SE and  R ST SE</td>\n      <td>12</td>\n      <td>6</td>\n      <td>STOP SIGN SAFETY CAMERA</td>\n      <td>27th St n/b @ R St SE</td>\n    </tr>\n    <tr>\n      <th>1293</th>\n      <td>-76.96897301</td>\n      <td>38.86948278</td>\n      <td>201817297</td>\n      <td>26634125</td>\n      <td>12078261</td>\n      <td>2012/06/06 05:00:00+00</td>\n      <td>13002702</td>\n      <td>538.29</td>\n      <td>0.02</td>\n      <td>12187</td>\n      <td>2012/06/06 04:00:00+00</td>\n      <td>1970/01/01 00:00:00+00</td>\n      <td>903631</td>\n      <td>27TH ST SE and  R ST SE</td>\n      <td>12</td>\n      <td>6</td>\n      <td>STOP SIGN SAFETY CAMERA</td>\n      <td>27th St n/b @ R St SE</td>\n    </tr>\n  </tbody>\n</table>\n<p>1294 rows × 18 columns</p>\n</div>"
     },
     "metadata": {},
     "execution_count": 18
    }
   ],
   "source": [
    "merge_crash = crash.merge(camera, on='MARID', how='inner')\n",
    "merge_crash"
   ]
  },
  {
   "cell_type": "code",
   "execution_count": 19,
   "metadata": {},
   "outputs": [],
   "source": [
    "import folium\n"
   ]
  },
  {
   "cell_type": "code",
   "execution_count": 38,
   "metadata": {},
   "outputs": [
    {
     "output_type": "stream",
     "name": "stdout",
     "text": [
      "                 X            Y\n0      -76.9780827  38.93754653\n1      -76.9780827  38.93754653\n2      -76.9780827  38.93754653\n3      -76.9780827  38.93754653\n4      -76.9780827  38.93754653\n...            ...          ...\n1289  -77.07158379  38.95467513\n1290   -77.0715613  38.95470049\n1291  -76.96897301  38.86948278\n1292  -76.96897301  38.86948278\n1293  -76.96897301  38.86948278\n\n[1294 rows x 2 columns]\n                 X            Y\n0      -76.9780827  38.93754653\n1      -76.9780827  38.93754653\n2      -76.9780827  38.93754653\n3      -76.9780827  38.93754653\n4      -76.9780827  38.93754653\n...            ...          ...\n1289  -77.07158379  38.95467513\n1290   -77.0715613  38.95470049\n1291  -76.96897301  38.86948278\n1292  -76.96897301  38.86948278\n1293  -76.96897301  38.86948278\n\n[1294 rows x 2 columns]\n                 X            Y\n0      -76.9780827  38.93754653\n1      -76.9780827  38.93754653\n2      -76.9780827  38.93754653\n3      -76.9780827  38.93754653\n4      -76.9780827  38.93754653\n...            ...          ...\n1289  -77.07158379  38.95467513\n1290   -77.0715613  38.95470049\n1291  -76.96897301  38.86948278\n1292  -76.96897301  38.86948278\n1293  -76.96897301  38.86948278\n\n[1294 rows x 2 columns]\n                 X            Y\n0      -76.9780827  38.93754653\n1      -76.9780827  38.93754653\n2      -76.9780827  38.93754653\n3      -76.9780827  38.93754653\n4      -76.9780827  38.93754653\n...            ...          ...\n1289  -77.07158379  38.95467513\n1290   -77.0715613  38.95470049\n1291  -76.96897301  38.86948278\n1292  -76.96897301  38.86948278\n1293  -76.96897301  38.86948278\n\n[1294 rows x 2 columns]\n                 X            Y\n0      -76.9780827  38.93754653\n1      -76.9780827  38.93754653\n2      -76.9780827  38.93754653\n3      -76.9780827  38.93754653\n4      -76.9780827  38.93754653\n...            ...          ...\n1289  -77.07158379  38.95467513\n1290   -77.0715613  38.95470049\n1291  -76.96897301  38.86948278\n1292  -76.96897301  38.86948278\n1293  -76.96897301  38.86948278\n\n[1294 rows x 2 columns]\n                 X            Y\n0      -76.9780827  38.93754653\n1      -76.9780827  38.93754653\n2      -76.9780827  38.93754653\n3      -76.9780827  38.93754653\n4      -76.9780827  38.93754653\n...            ...          ...\n1289  -77.07158379  38.95467513\n1290   -77.0715613  38.95470049\n1291  -76.96897301  38.86948278\n1292  -76.96897301  38.86948278\n1293  -76.96897301  38.86948278\n\n[1294 rows x 2 columns]\n                 X            Y\n0      -76.9780827  38.93754653\n1      -76.9780827  38.93754653\n2      -76.9780827  38.93754653\n3      -76.9780827  38.93754653\n4      -76.9780827  38.93754653\n...            ...          ...\n1289  -77.07158379  38.95467513\n1290   -77.0715613  38.95470049\n1291  -76.96897301  38.86948278\n1292  -76.96897301  38.86948278\n1293  -76.96897301  38.86948278\n\n[1294 rows x 2 columns]\n                 X            Y\n0      -76.9780827  38.93754653\n1      -76.9780827  38.93754653\n2      -76.9780827  38.93754653\n3      -76.9780827  38.93754653\n4      -76.9780827  38.93754653\n...            ...          ...\n1289  -77.07158379  38.95467513\n1290   -77.0715613  38.95470049\n1291  -76.96897301  38.86948278\n1292  -76.96897301  38.86948278\n1293  -76.96897301  38.86948278\n\n[1294 rows x 2 columns]\n                 X            Y\n0      -76.9780827  38.93754653\n1      -76.9780827  38.93754653\n2      -76.9780827  38.93754653\n3      -76.9780827  38.93754653\n4      -76.9780827  38.93754653\n...            ...          ...\n1289  -77.07158379  38.95467513\n1290   -77.0715613  38.95470049\n1291  -76.96897301  38.86948278\n1292  -76.96897301  38.86948278\n1293  -76.96897301  38.86948278\n\n[1294 rows x 2 columns]\n                 X            Y\n0      -76.9780827  38.93754653\n1      -76.9780827  38.93754653\n2      -76.9780827  38.93754653\n3      -76.9780827  38.93754653\n4      -76.9780827  38.93754653\n...            ...          ...\n1289  -77.07158379  38.95467513\n1290   -77.0715613  38.95470049\n1291  -76.96897301  38.86948278\n1292  -76.96897301  38.86948278\n1293  -76.96897301  38.86948278\n\n[1294 rows x 2 columns]\n                 X            Y\n0      -76.9780827  38.93754653\n1      -76.9780827  38.93754653\n2      -76.9780827  38.93754653\n3      -76.9780827  38.93754653\n4      -76.9780827  38.93754653\n...            ...          ...\n1289  -77.07158379  38.95467513\n1290   -77.0715613  38.95470049\n1291  -76.96897301  38.86948278\n1292  -76.96897301  38.86948278\n1293  -76.96897301  38.86948278\n\n[1294 rows x 2 columns]\n                 X            Y\n0      -76.9780827  38.93754653\n1      -76.9780827  38.93754653\n2      -76.9780827  38.93754653\n3      -76.9780827  38.93754653\n4      -76.9780827  38.93754653\n...            ...          ...\n1289  -77.07158379  38.95467513\n1290   -77.0715613  38.95470049\n1291  -76.96897301  38.86948278\n1292  -76.96897301  38.86948278\n1293  -76.96897301  38.86948278\n\n[1294 rows x 2 columns]\n                 X            Y\n0      -76.9780827  38.93754653\n1      -76.9780827  38.93754653\n2      -76.9780827  38.93754653\n3      -76.9780827  38.93754653\n4      -76.9780827  38.93754653\n...            ...          ...\n1289  -77.07158379  38.95467513\n1290   -77.0715613  38.95470049\n1291  -76.96897301  38.86948278\n1292  -76.96897301  38.86948278\n1293  -76.96897301  38.86948278\n\n[1294 rows x 2 columns]\n                 X            Y\n0      -76.9780827  38.93754653\n1      -76.9780827  38.93754653\n2      -76.9780827  38.93754653\n3      -76.9780827  38.93754653\n4      -76.9780827  38.93754653\n...            ...          ...\n1289  -77.07158379  38.95467513\n1290   -77.0715613  38.95470049\n1291  -76.96897301  38.86948278\n1292  -76.96897301  38.86948278\n1293  -76.96897301  38.86948278\n\n[1294 rows x 2 columns]\n                 X            Y\n0      -76.9780827  38.93754653\n1      -76.9780827  38.93754653\n2      -76.9780827  38.93754653\n3      -76.9780827  38.93754653\n4      -76.9780827  38.93754653\n...            ...          ...\n1289  -77.07158379  38.95467513\n1290   -77.0715613  38.95470049\n1291  -76.96897301  38.86948278\n1292  -76.96897301  38.86948278\n1293  -76.96897301  38.86948278\n\n[1294 rows x 2 columns]\n                 X            Y\n0      -76.9780827  38.93754653\n1      -76.9780827  38.93754653\n2      -76.9780827  38.93754653\n3      -76.9780827  38.93754653\n4      -76.9780827  38.93754653\n...            ...          ...\n1289  -77.07158379  38.95467513\n1290   -77.0715613  38.95470049\n1291  -76.96897301  38.86948278\n1292  -76.96897301  38.86948278\n1293  -76.96897301  38.86948278\n\n[1294 rows x 2 columns]\n                 X            Y\n0      -76.9780827  38.93754653\n1      -76.9780827  38.93754653\n2      -76.9780827  38.93754653\n3      -76.9780827  38.93754653\n4      -76.9780827  38.93754653\n...            ...          ...\n1289  -77.07158379  38.95467513\n1290   -77.0715613  38.95470049\n1291  -76.96897301  38.86948278\n1292  -76.96897301  38.86948278\n1293  -76.96897301  38.86948278\n\n[1294 rows x 2 columns]\n                 X            Y\n0      -76.9780827  38.93754653\n1      -76.9780827  38.93754653\n2      -76.9780827  38.93754653\n3      -76.9780827  38.93754653\n4      -76.9780827  38.93754653\n...            ...          ...\n1289  -77.07158379  38.95467513\n1290   -77.0715613  38.95470049\n1291  -76.96897301  38.86948278\n1292  -76.96897301  38.86948278\n1293  -76.96897301  38.86948278\n\n[1294 rows x 2 columns]\n"
     ]
    }
   ],
   "source": [
    "for item in merge_crash:\n",
    "    print(merge_crash[['X', 'Y']])"
   ]
  },
  {
   "cell_type": "code",
   "execution_count": 42,
   "metadata": {},
   "outputs": [
    {
     "output_type": "execute_result",
     "data": {
      "text/plain": [
       "<folium.folium.Map at 0x22c6f8cfb50>"
      ],
      "text/html": "<div style=\"width:100%;\"><div style=\"position:relative;width:100%;height:0;padding-bottom:60%;\"><span style=\"color:#565656\">Make this Notebook Trusted to load map: File -> Trust Notebook</span><iframe src=\"about:blank\" style=\"position:absolute;width:100%;height:100%;left:0;top:0;border:none !important;\" data-html=%3C%21DOCTYPE%20html%3E%0A%3Chead%3E%20%20%20%20%0A%20%20%20%20%3Cmeta%20http-equiv%3D%22content-type%22%20content%3D%22text/html%3B%20charset%3DUTF-8%22%20/%3E%0A%20%20%20%20%0A%20%20%20%20%20%20%20%20%3Cscript%3E%0A%20%20%20%20%20%20%20%20%20%20%20%20L_NO_TOUCH%20%3D%20false%3B%0A%20%20%20%20%20%20%20%20%20%20%20%20L_DISABLE_3D%20%3D%20false%3B%0A%20%20%20%20%20%20%20%20%3C/script%3E%0A%20%20%20%20%0A%20%20%20%20%3Cstyle%3Ehtml%2C%20body%20%7Bwidth%3A%20100%25%3Bheight%3A%20100%25%3Bmargin%3A%200%3Bpadding%3A%200%3B%7D%3C/style%3E%0A%20%20%20%20%3Cstyle%3E%23map%20%7Bposition%3Aabsolute%3Btop%3A0%3Bbottom%3A0%3Bright%3A0%3Bleft%3A0%3B%7D%3C/style%3E%0A%20%20%20%20%3Cscript%20src%3D%22https%3A//cdn.jsdelivr.net/npm/leaflet%401.6.0/dist/leaflet.js%22%3E%3C/script%3E%0A%20%20%20%20%3Cscript%20src%3D%22https%3A//code.jquery.com/jquery-1.12.4.min.js%22%3E%3C/script%3E%0A%20%20%20%20%3Cscript%20src%3D%22https%3A//maxcdn.bootstrapcdn.com/bootstrap/3.2.0/js/bootstrap.min.js%22%3E%3C/script%3E%0A%20%20%20%20%3Cscript%20src%3D%22https%3A//cdnjs.cloudflare.com/ajax/libs/Leaflet.awesome-markers/2.0.2/leaflet.awesome-markers.js%22%3E%3C/script%3E%0A%20%20%20%20%3Clink%20rel%3D%22stylesheet%22%20href%3D%22https%3A//cdn.jsdelivr.net/npm/leaflet%401.6.0/dist/leaflet.css%22/%3E%0A%20%20%20%20%3Clink%20rel%3D%22stylesheet%22%20href%3D%22https%3A//maxcdn.bootstrapcdn.com/bootstrap/3.2.0/css/bootstrap.min.css%22/%3E%0A%20%20%20%20%3Clink%20rel%3D%22stylesheet%22%20href%3D%22https%3A//maxcdn.bootstrapcdn.com/bootstrap/3.2.0/css/bootstrap-theme.min.css%22/%3E%0A%20%20%20%20%3Clink%20rel%3D%22stylesheet%22%20href%3D%22https%3A//maxcdn.bootstrapcdn.com/font-awesome/4.6.3/css/font-awesome.min.css%22/%3E%0A%20%20%20%20%3Clink%20rel%3D%22stylesheet%22%20href%3D%22https%3A//cdnjs.cloudflare.com/ajax/libs/Leaflet.awesome-markers/2.0.2/leaflet.awesome-markers.css%22/%3E%0A%20%20%20%20%3Clink%20rel%3D%22stylesheet%22%20href%3D%22https%3A//cdn.jsdelivr.net/gh/python-visualization/folium/folium/templates/leaflet.awesome.rotate.min.css%22/%3E%0A%20%20%20%20%0A%20%20%20%20%20%20%20%20%20%20%20%20%3Cmeta%20name%3D%22viewport%22%20content%3D%22width%3Ddevice-width%2C%0A%20%20%20%20%20%20%20%20%20%20%20%20%20%20%20%20initial-scale%3D1.0%2C%20maximum-scale%3D1.0%2C%20user-scalable%3Dno%22%20/%3E%0A%20%20%20%20%20%20%20%20%20%20%20%20%3Cstyle%3E%0A%20%20%20%20%20%20%20%20%20%20%20%20%20%20%20%20%23map_5b7fd837cbc24bc7923301dc4b2cf51c%20%7B%0A%20%20%20%20%20%20%20%20%20%20%20%20%20%20%20%20%20%20%20%20position%3A%20relative%3B%0A%20%20%20%20%20%20%20%20%20%20%20%20%20%20%20%20%20%20%20%20width%3A%20100.0%25%3B%0A%20%20%20%20%20%20%20%20%20%20%20%20%20%20%20%20%20%20%20%20height%3A%20100.0%25%3B%0A%20%20%20%20%20%20%20%20%20%20%20%20%20%20%20%20%20%20%20%20left%3A%200.0%25%3B%0A%20%20%20%20%20%20%20%20%20%20%20%20%20%20%20%20%20%20%20%20top%3A%200.0%25%3B%0A%20%20%20%20%20%20%20%20%20%20%20%20%20%20%20%20%7D%0A%20%20%20%20%20%20%20%20%20%20%20%20%3C/style%3E%0A%20%20%20%20%20%20%20%20%0A%3C/head%3E%0A%3Cbody%3E%20%20%20%20%0A%20%20%20%20%0A%20%20%20%20%20%20%20%20%20%20%20%20%3Cdiv%20class%3D%22folium-map%22%20id%3D%22map_5b7fd837cbc24bc7923301dc4b2cf51c%22%20%3E%3C/div%3E%0A%20%20%20%20%20%20%20%20%0A%3C/body%3E%0A%3Cscript%3E%20%20%20%20%0A%20%20%20%20%0A%20%20%20%20%20%20%20%20%20%20%20%20var%20map_5b7fd837cbc24bc7923301dc4b2cf51c%20%3D%20L.map%28%0A%20%20%20%20%20%20%20%20%20%20%20%20%20%20%20%20%22map_5b7fd837cbc24bc7923301dc4b2cf51c%22%2C%0A%20%20%20%20%20%20%20%20%20%20%20%20%20%20%20%20%7B%0A%20%20%20%20%20%20%20%20%20%20%20%20%20%20%20%20%20%20%20%20center%3A%20%5B38.86948278%2C%20-76.96897301%5D%2C%0A%20%20%20%20%20%20%20%20%20%20%20%20%20%20%20%20%20%20%20%20crs%3A%20L.CRS.EPSG3857%2C%0A%20%20%20%20%20%20%20%20%20%20%20%20%20%20%20%20%20%20%20%20zoom%3A%2010%2C%0A%20%20%20%20%20%20%20%20%20%20%20%20%20%20%20%20%20%20%20%20zoomControl%3A%20true%2C%0A%20%20%20%20%20%20%20%20%20%20%20%20%20%20%20%20%20%20%20%20preferCanvas%3A%20false%2C%0A%20%20%20%20%20%20%20%20%20%20%20%20%20%20%20%20%20%20%20%20defaultZoomStart%3A%20200%2C%0A%20%20%20%20%20%20%20%20%20%20%20%20%20%20%20%20%7D%0A%20%20%20%20%20%20%20%20%20%20%20%20%29%3B%0A%0A%20%20%20%20%20%20%20%20%20%20%20%20%0A%0A%20%20%20%20%20%20%20%20%0A%20%20%20%20%0A%20%20%20%20%20%20%20%20%20%20%20%20var%20tile_layer_cec7fb90212b492f95d32aedba9ff77c%20%3D%20L.tileLayer%28%0A%20%20%20%20%20%20%20%20%20%20%20%20%20%20%20%20%22https%3A//%7Bs%7D.tile.openstreetmap.org/%7Bz%7D/%7Bx%7D/%7By%7D.png%22%2C%0A%20%20%20%20%20%20%20%20%20%20%20%20%20%20%20%20%7B%22attribution%22%3A%20%22Data%20by%20%5Cu0026copy%3B%20%5Cu003ca%20href%3D%5C%22http%3A//openstreetmap.org%5C%22%5Cu003eOpenStreetMap%5Cu003c/a%5Cu003e%2C%20under%20%5Cu003ca%20href%3D%5C%22http%3A//www.openstreetmap.org/copyright%5C%22%5Cu003eODbL%5Cu003c/a%5Cu003e.%22%2C%20%22detectRetina%22%3A%20false%2C%20%22maxNativeZoom%22%3A%2018%2C%20%22maxZoom%22%3A%2018%2C%20%22minZoom%22%3A%200%2C%20%22noWrap%22%3A%20false%2C%20%22opacity%22%3A%201%2C%20%22subdomains%22%3A%20%22abc%22%2C%20%22tms%22%3A%20false%7D%0A%20%20%20%20%20%20%20%20%20%20%20%20%29.addTo%28map_5b7fd837cbc24bc7923301dc4b2cf51c%29%3B%0A%20%20%20%20%20%20%20%20%0A%20%20%20%20%0A%20%20%20%20%20%20%20%20%20%20%20%20var%20marker_1ae3ecd025bc4cc9b077fb1d7e53868d%20%3D%20L.marker%28%0A%20%20%20%20%20%20%20%20%20%20%20%20%20%20%20%20%5B38.86948278%2C%20-76.96897301%5D%2C%0A%20%20%20%20%20%20%20%20%20%20%20%20%20%20%20%20%7B%7D%0A%20%20%20%20%20%20%20%20%20%20%20%20%29.addTo%28map_5b7fd837cbc24bc7923301dc4b2cf51c%29%3B%0A%20%20%20%20%20%20%20%20%0A%20%20%20%20%0A%20%20%20%20%20%20%20%20var%20popup_adcf2e12192745e18cb2129981940b94%20%3D%20L.popup%28%7B%22maxWidth%22%3A%20%22100%25%22%7D%29%3B%0A%0A%20%20%20%20%20%20%20%20%0A%20%20%20%20%20%20%20%20%20%20%20%20var%20html_61b4f5c37a58496eaa91e1844e486a18%20%3D%20%24%28%60%3Cdiv%20id%3D%22html_61b4f5c37a58496eaa91e1844e486a18%22%20style%3D%22width%3A%20100.0%25%3B%20height%3A%20100.0%25%3B%22%3EYou%20found%20a%20crash%3C/div%3E%60%29%5B0%5D%3B%0A%20%20%20%20%20%20%20%20%20%20%20%20popup_adcf2e12192745e18cb2129981940b94.setContent%28html_61b4f5c37a58496eaa91e1844e486a18%29%3B%0A%20%20%20%20%20%20%20%20%0A%0A%20%20%20%20%20%20%20%20marker_1ae3ecd025bc4cc9b077fb1d7e53868d.bindPopup%28popup_adcf2e12192745e18cb2129981940b94%29%0A%20%20%20%20%20%20%20%20%3B%0A%0A%20%20%20%20%20%20%20%20%0A%20%20%20%20%0A%3C/script%3E onload=\"this.contentDocument.open();this.contentDocument.write(    decodeURIComponent(this.getAttribute('data-html')));this.contentDocument.close();\" allowfullscreen webkitallowfullscreen mozallowfullscreen></iframe></div></div>"
     },
     "metadata": {},
     "execution_count": 42
    }
   ],
   "source": [
    "m = folium.Map(location=[38.86948278, -76.96897301], default_zoom_start=200)\n",
    "folium.Marker(location=[38.86948278, -76.96897301], popup='You found a crash').add_to(m)\n",
    "\n",
    "m"
   ]
  },
  {
   "cell_type": "code",
   "execution_count": null,
   "metadata": {},
   "outputs": [],
   "source": []
  }
 ]
}
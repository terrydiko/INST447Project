{
 "cells": [
  {
   "source": [
    "# Project : In Montomery County, MD, what factors have the biggest influence in car accidents?\n",
    "# Factors Analyzed: Hour of Accident, Vehicle Year, Speed Limit, Weather, Direction, Driver Fault \n",
    "\n",
    "### Team - Zamunda Warriors: Amari, Isaac, Nicolas, Terrence\n",
    "### Data provided by [Montgomery County MD](https://data.montgomerycountymd.gov/)"
   ],
   "cell_type": "markdown",
   "metadata": {}
  },
  {
   "cell_type": "code",
   "execution_count": 1,
   "metadata": {},
   "outputs": [
    {
     "output_type": "stream",
     "name": "stdout",
     "text": [
      "Requirement already satisfied: folium in c:\\users\\gabriel isaac feliz\\anaconda3\\lib\\site-packages (0.12.1)\nRequirement already satisfied: branca>=0.3.0 in c:\\users\\gabriel isaac feliz\\anaconda3\\lib\\site-packages (from folium) (0.4.2)\nRequirement already satisfied: numpy in c:\\users\\gabriel isaac feliz\\anaconda3\\lib\\site-packages (from folium) (1.19.2)\nRequirement already satisfied: jinja2>=2.9 in c:\\users\\gabriel isaac feliz\\anaconda3\\lib\\site-packages (from folium) (2.11.2)\nRequirement already satisfied: requests in c:\\users\\gabriel isaac feliz\\anaconda3\\lib\\site-packages (from folium) (2.24.0)\nRequirement already satisfied: MarkupSafe>=0.23 in c:\\users\\gabriel isaac feliz\\anaconda3\\lib\\site-packages (from jinja2>=2.9->folium) (1.1.1)\nRequirement already satisfied: urllib3!=1.25.0,!=1.25.1,<1.26,>=1.21.1 in c:\\users\\gabriel isaac feliz\\anaconda3\\lib\\site-packages (from requests->folium) (1.25.11)\nRequirement already satisfied: certifi>=2017.4.17 in c:\\users\\gabriel isaac feliz\\anaconda3\\lib\\site-packages (from requests->folium) (2020.6.20)\nRequirement already satisfied: chardet<4,>=3.0.2 in c:\\users\\gabriel isaac feliz\\anaconda3\\lib\\site-packages (from requests->folium) (3.0.4)\nRequirement already satisfied: idna<3,>=2.5 in c:\\users\\gabriel isaac feliz\\anaconda3\\lib\\site-packages (from requests->folium) (2.10)\n"
     ]
    }
   ],
   "source": [
    "!pip install folium"
   ]
  },
  {
   "cell_type": "code",
   "execution_count": 2,
   "metadata": {},
   "outputs": [],
   "source": [
    "import pandas as pd \n",
    "import matplotlib.pyplot as plt\n",
    "import numpy as np\n",
    "%matplotlib inline\n",
    "# python3 -m pip install folium"
   ]
  },
  {
   "cell_type": "code",
   "execution_count": 3,
   "metadata": {},
   "outputs": [
    {
     "output_type": "execute_result",
     "data": {
      "text/plain": [
       "       report_number driver_at_fault speed_limit vehicle_year\n",
       "0        MCP3239001B             Yes          15         2006\n",
       "1        MCP3290000G             Yes          40         2006\n",
       "2        MCP3283000M             Yes          30         2018\n",
       "3        MCP2892009B              No          35         2013\n",
       "4        MCP2892009B             Yes          35            0\n",
       "...              ...             ...         ...          ...\n",
       "123287   MCP2783000G              No          40         2002\n",
       "123288   MCP2686000D              No          40         2007\n",
       "123289   MCP2686000D             Yes          40         2010\n",
       "123290   MCP11520005             Yes          35         2008\n",
       "123291   MCP11520005              No          35         1993\n",
       "\n",
       "[123292 rows x 4 columns]"
      ],
      "text/html": "<div>\n<style scoped>\n    .dataframe tbody tr th:only-of-type {\n        vertical-align: middle;\n    }\n\n    .dataframe tbody tr th {\n        vertical-align: top;\n    }\n\n    .dataframe thead th {\n        text-align: right;\n    }\n</style>\n<table border=\"1\" class=\"dataframe\">\n  <thead>\n    <tr style=\"text-align: right;\">\n      <th></th>\n      <th>report_number</th>\n      <th>driver_at_fault</th>\n      <th>speed_limit</th>\n      <th>vehicle_year</th>\n    </tr>\n  </thead>\n  <tbody>\n    <tr>\n      <th>0</th>\n      <td>MCP3239001B</td>\n      <td>Yes</td>\n      <td>15</td>\n      <td>2006</td>\n    </tr>\n    <tr>\n      <th>1</th>\n      <td>MCP3290000G</td>\n      <td>Yes</td>\n      <td>40</td>\n      <td>2006</td>\n    </tr>\n    <tr>\n      <th>2</th>\n      <td>MCP3283000M</td>\n      <td>Yes</td>\n      <td>30</td>\n      <td>2018</td>\n    </tr>\n    <tr>\n      <th>3</th>\n      <td>MCP2892009B</td>\n      <td>No</td>\n      <td>35</td>\n      <td>2013</td>\n    </tr>\n    <tr>\n      <th>4</th>\n      <td>MCP2892009B</td>\n      <td>Yes</td>\n      <td>35</td>\n      <td>0</td>\n    </tr>\n    <tr>\n      <th>...</th>\n      <td>...</td>\n      <td>...</td>\n      <td>...</td>\n      <td>...</td>\n    </tr>\n    <tr>\n      <th>123287</th>\n      <td>MCP2783000G</td>\n      <td>No</td>\n      <td>40</td>\n      <td>2002</td>\n    </tr>\n    <tr>\n      <th>123288</th>\n      <td>MCP2686000D</td>\n      <td>No</td>\n      <td>40</td>\n      <td>2007</td>\n    </tr>\n    <tr>\n      <th>123289</th>\n      <td>MCP2686000D</td>\n      <td>Yes</td>\n      <td>40</td>\n      <td>2010</td>\n    </tr>\n    <tr>\n      <th>123290</th>\n      <td>MCP11520005</td>\n      <td>Yes</td>\n      <td>35</td>\n      <td>2008</td>\n    </tr>\n    <tr>\n      <th>123291</th>\n      <td>MCP11520005</td>\n      <td>No</td>\n      <td>35</td>\n      <td>1993</td>\n    </tr>\n  </tbody>\n</table>\n<p>123292 rows × 4 columns</p>\n</div>"
     },
     "metadata": {},
     "execution_count": 3
    }
   ],
   "source": [
    "#read in driver dataset\n",
    "drivers = pd.read_csv(\"https://raw.githubusercontent.com/terrydiko/INST447Project/main/Drivers.csv\", encoding='utf-8', dtype=\"str\")\n",
    "drivers"
   ]
  },
  {
   "cell_type": "code",
   "execution_count": 4,
   "metadata": {},
   "outputs": [
    {
     "output_type": "execute_result",
     "data": {
      "text/plain": [
       "      report_number               agency_name       acrs_report_type  \\\n",
       "0       MCP3239001B  Montgomery County Police           Injury Crash   \n",
       "1       MCP3290000G  Montgomery County Police  Property Damage Crash   \n",
       "2       MCP3283000M  Montgomery County Police  Property Damage Crash   \n",
       "3       MCP2892009B  Montgomery County Police  Property Damage Crash   \n",
       "4       MCP2899004S  Montgomery County Police  Property Damage Crash   \n",
       "...             ...                       ...                    ...   \n",
       "69553   MCP23000002  Montgomery County Police  Property Damage Crash   \n",
       "69554   MCP2674000D  Montgomery County Police  Property Damage Crash   \n",
       "69555   MCP2783000G  Montgomery County Police           Injury Crash   \n",
       "69556   MCP2686000D  Montgomery County Police  Property Damage Crash   \n",
       "69557   MCP11520005  Montgomery County Police  Property Damage Crash   \n",
       "\n",
       "               crash_date_time direction weather     latitude     longitude  \n",
       "0      2021-04-28T21:09:00.000       NaN   CLEAR  39.04605063  -76.99075732  \n",
       "1      2021-04-28T21:01:00.000     South   CLEAR    39.059336    -76.944363  \n",
       "2      2021-04-28T20:37:00.000      East   CLEAR      39.0471    -77.225175  \n",
       "3      2021-04-28T17:58:00.000     South   CLEAR     39.01532    -77.042505  \n",
       "4      2021-04-28T17:34:00.000     South   CLEAR    39.139095  -77.26846667  \n",
       "...                        ...       ...     ...          ...           ...  \n",
       "69553  2015-01-01T02:00:00.000     North   CLEAR    39.148678    -77.093848  \n",
       "69554  2015-01-01T01:26:00.000     North   CLEAR    39.158059    -77.204349  \n",
       "69555  2015-01-01T01:14:00.000      East   CLEAR  39.09621667  -77.10980333  \n",
       "69556  2015-01-01T01:10:00.000     South     NaN     39.19661  -77.26554667  \n",
       "69557  2015-01-01T00:30:00.000     North   CLEAR  39.02200107  -77.10267305  \n",
       "\n",
       "[69558 rows x 8 columns]"
      ],
      "text/html": "<div>\n<style scoped>\n    .dataframe tbody tr th:only-of-type {\n        vertical-align: middle;\n    }\n\n    .dataframe tbody tr th {\n        vertical-align: top;\n    }\n\n    .dataframe thead th {\n        text-align: right;\n    }\n</style>\n<table border=\"1\" class=\"dataframe\">\n  <thead>\n    <tr style=\"text-align: right;\">\n      <th></th>\n      <th>report_number</th>\n      <th>agency_name</th>\n      <th>acrs_report_type</th>\n      <th>crash_date_time</th>\n      <th>direction</th>\n      <th>weather</th>\n      <th>latitude</th>\n      <th>longitude</th>\n    </tr>\n  </thead>\n  <tbody>\n    <tr>\n      <th>0</th>\n      <td>MCP3239001B</td>\n      <td>Montgomery County Police</td>\n      <td>Injury Crash</td>\n      <td>2021-04-28T21:09:00.000</td>\n      <td>NaN</td>\n      <td>CLEAR</td>\n      <td>39.04605063</td>\n      <td>-76.99075732</td>\n    </tr>\n    <tr>\n      <th>1</th>\n      <td>MCP3290000G</td>\n      <td>Montgomery County Police</td>\n      <td>Property Damage Crash</td>\n      <td>2021-04-28T21:01:00.000</td>\n      <td>South</td>\n      <td>CLEAR</td>\n      <td>39.059336</td>\n      <td>-76.944363</td>\n    </tr>\n    <tr>\n      <th>2</th>\n      <td>MCP3283000M</td>\n      <td>Montgomery County Police</td>\n      <td>Property Damage Crash</td>\n      <td>2021-04-28T20:37:00.000</td>\n      <td>East</td>\n      <td>CLEAR</td>\n      <td>39.0471</td>\n      <td>-77.225175</td>\n    </tr>\n    <tr>\n      <th>3</th>\n      <td>MCP2892009B</td>\n      <td>Montgomery County Police</td>\n      <td>Property Damage Crash</td>\n      <td>2021-04-28T17:58:00.000</td>\n      <td>South</td>\n      <td>CLEAR</td>\n      <td>39.01532</td>\n      <td>-77.042505</td>\n    </tr>\n    <tr>\n      <th>4</th>\n      <td>MCP2899004S</td>\n      <td>Montgomery County Police</td>\n      <td>Property Damage Crash</td>\n      <td>2021-04-28T17:34:00.000</td>\n      <td>South</td>\n      <td>CLEAR</td>\n      <td>39.139095</td>\n      <td>-77.26846667</td>\n    </tr>\n    <tr>\n      <th>...</th>\n      <td>...</td>\n      <td>...</td>\n      <td>...</td>\n      <td>...</td>\n      <td>...</td>\n      <td>...</td>\n      <td>...</td>\n      <td>...</td>\n    </tr>\n    <tr>\n      <th>69553</th>\n      <td>MCP23000002</td>\n      <td>Montgomery County Police</td>\n      <td>Property Damage Crash</td>\n      <td>2015-01-01T02:00:00.000</td>\n      <td>North</td>\n      <td>CLEAR</td>\n      <td>39.148678</td>\n      <td>-77.093848</td>\n    </tr>\n    <tr>\n      <th>69554</th>\n      <td>MCP2674000D</td>\n      <td>Montgomery County Police</td>\n      <td>Property Damage Crash</td>\n      <td>2015-01-01T01:26:00.000</td>\n      <td>North</td>\n      <td>CLEAR</td>\n      <td>39.158059</td>\n      <td>-77.204349</td>\n    </tr>\n    <tr>\n      <th>69555</th>\n      <td>MCP2783000G</td>\n      <td>Montgomery County Police</td>\n      <td>Injury Crash</td>\n      <td>2015-01-01T01:14:00.000</td>\n      <td>East</td>\n      <td>CLEAR</td>\n      <td>39.09621667</td>\n      <td>-77.10980333</td>\n    </tr>\n    <tr>\n      <th>69556</th>\n      <td>MCP2686000D</td>\n      <td>Montgomery County Police</td>\n      <td>Property Damage Crash</td>\n      <td>2015-01-01T01:10:00.000</td>\n      <td>South</td>\n      <td>NaN</td>\n      <td>39.19661</td>\n      <td>-77.26554667</td>\n    </tr>\n    <tr>\n      <th>69557</th>\n      <td>MCP11520005</td>\n      <td>Montgomery County Police</td>\n      <td>Property Damage Crash</td>\n      <td>2015-01-01T00:30:00.000</td>\n      <td>North</td>\n      <td>CLEAR</td>\n      <td>39.02200107</td>\n      <td>-77.10267305</td>\n    </tr>\n  </tbody>\n</table>\n<p>69558 rows × 8 columns</p>\n</div>"
     },
     "metadata": {},
     "execution_count": 4
    }
   ],
   "source": [
    "#read in incidents dataset\n",
    "incidents = pd.read_csv(\"https://raw.githubusercontent.com/terrydiko/INST447Project/main/Incidents.csv\", encoding= 'utf-8', dtype=\"str\")\n",
    "incidents"
   ]
  },
  {
   "cell_type": "code",
   "execution_count": 5,
   "metadata": {},
   "outputs": [],
   "source": [
    "#merge the two datasets\n",
    "merge_data = incidents.merge(drivers, on='report_number', how='inner')\n",
    "merge_data[\"vehicle_year\"] = merge_data[\"vehicle_year\"].apply(lambda x : int(x))\n",
    "merge_data = merge_data.dropna()"
   ]
  },
  {
   "source": [
    "## At this point, we know what factors we want to analyze to answer the main question. Now, we begin that the data cleaning process. That starts with identifying the unique values of each factor, and then get rid of any null, blank, unknown, or erroneous values."
   ],
   "cell_type": "markdown",
   "metadata": {}
  },
  {
   "cell_type": "code",
   "execution_count": 6,
   "metadata": {},
   "outputs": [
    {
     "output_type": "stream",
     "name": "stdout",
     "text": [
      "Year Values: [0, 1, 2, 3, 4, 8, 13, 14, 15, 97, 99, 198, 200, 201, 202, 215, 1005, 1014, 1015, 1025, 1111, 1140, 1234, 1900, 1901, 1947, 1949, 1955, 1959, 1960, 1963, 1965, 1966, 1967, 1968, 1969, 1970, 1971, 1972, 1974, 1975, 1976, 1977, 1978, 1979, 1980, 1981, 1982, 1983, 1984, 1985, 1986, 1987, 1988, 1989, 1990, 1991, 1992, 1993, 1994, 1995, 1996, 1997, 1998, 1999, 2000, 2001, 2002, 2003, 2004, 2005, 2006, 2007, 2008, 2009, 2010, 2011, 2012, 2013, 2014, 2015, 2016, 2017, 2018, 2019, 2020, 2021, 2022, 2033, 2040, 2041, 2055, 2099, 2100, 2103, 2104, 2200, 2204, 2911, 2912, 2914, 2917, 2991, 2996, 2998, 3003, 3013, 3863, 5005, 8008, 8888, 9999]\n\n\nWeather  Values: ['BLOWING SAND, SOIL, DIRT', 'BLOWING SNOW', 'CLEAR', 'CLOUDY', 'FOGGY', 'OTHER', 'RAINING', 'SEVERE WINDS', 'SLEET', 'SNOW', 'UNKNOWN', 'WINTRY MIX']\n\n\nDirection Values: ['East', 'North', 'South', 'Unknown', 'West']\n\n\nSpeed Limit Values: ['0', '10', '15', '20', '25', '30', '35', '40', '45', '5', '50', '55', '60', '65', '70']\n\n\nDriver Fault Values: ['No', 'Unknown', 'Yes']\n\n\n"
     ]
    }
   ],
   "source": [
    "# Unique values for year, weather, direction, speed limit, and driver fault\n",
    "print('Year Values: ' + str(sorted(merge_data[\"vehicle_year\"].unique())))\n",
    "print(\"\\n\")\n",
    "print('Weather  Values: ' + str(sorted(merge_data[\"weather\"].unique())))\n",
    "print(\"\\n\")\n",
    "print('Direction Values: ' + str(sorted(merge_data[\"direction\"].unique())))\n",
    "print(\"\\n\")\n",
    "print('Speed Limit Values: ' + str(sorted(merge_data[\"speed_limit\"].unique())))\n",
    "print(\"\\n\")\n",
    "print('Driver Fault Values: ' + str(sorted(merge_data[\"driver_at_fault\"].unique())))\n",
    "print(\"\\n\")"
   ]
  },
  {
   "cell_type": "code",
   "execution_count": 7,
   "metadata": {},
   "outputs": [
    {
     "output_type": "execute_result",
     "data": {
      "text/plain": [
       "  report_number               agency_name       acrs_report_type  \\\n",
       "1   MCP3290000G  Montgomery County Police  Property Damage Crash   \n",
       "2   MCP3283000M  Montgomery County Police  Property Damage Crash   \n",
       "3   MCP2892009B  Montgomery County Police  Property Damage Crash   \n",
       "5   MCP2899004S  Montgomery County Police  Property Damage Crash   \n",
       "6   MCP2864003Y  Montgomery County Police  Property Damage Crash   \n",
       "\n",
       "           crash_date_time direction weather     latitude     longitude  \\\n",
       "1  2021-04-28T21:01:00.000     South   CLEAR    39.059336    -76.944363   \n",
       "2  2021-04-28T20:37:00.000      East   CLEAR      39.0471    -77.225175   \n",
       "3  2021-04-28T17:58:00.000     South   CLEAR     39.01532    -77.042505   \n",
       "5  2021-04-28T17:34:00.000     South   CLEAR    39.139095  -77.26846667   \n",
       "6  2021-04-28T16:26:00.000      West   CLEAR  39.10029167  -77.18490833   \n",
       "\n",
       "  driver_at_fault speed_limit  vehicle_year  \n",
       "1             Yes          40          2006  \n",
       "2             Yes          30          2018  \n",
       "3              No          35          2013  \n",
       "5             Yes          55          2015  \n",
       "6             Yes          40          2006  "
      ],
      "text/html": "<div>\n<style scoped>\n    .dataframe tbody tr th:only-of-type {\n        vertical-align: middle;\n    }\n\n    .dataframe tbody tr th {\n        vertical-align: top;\n    }\n\n    .dataframe thead th {\n        text-align: right;\n    }\n</style>\n<table border=\"1\" class=\"dataframe\">\n  <thead>\n    <tr style=\"text-align: right;\">\n      <th></th>\n      <th>report_number</th>\n      <th>agency_name</th>\n      <th>acrs_report_type</th>\n      <th>crash_date_time</th>\n      <th>direction</th>\n      <th>weather</th>\n      <th>latitude</th>\n      <th>longitude</th>\n      <th>driver_at_fault</th>\n      <th>speed_limit</th>\n      <th>vehicle_year</th>\n    </tr>\n  </thead>\n  <tbody>\n    <tr>\n      <th>1</th>\n      <td>MCP3290000G</td>\n      <td>Montgomery County Police</td>\n      <td>Property Damage Crash</td>\n      <td>2021-04-28T21:01:00.000</td>\n      <td>South</td>\n      <td>CLEAR</td>\n      <td>39.059336</td>\n      <td>-76.944363</td>\n      <td>Yes</td>\n      <td>40</td>\n      <td>2006</td>\n    </tr>\n    <tr>\n      <th>2</th>\n      <td>MCP3283000M</td>\n      <td>Montgomery County Police</td>\n      <td>Property Damage Crash</td>\n      <td>2021-04-28T20:37:00.000</td>\n      <td>East</td>\n      <td>CLEAR</td>\n      <td>39.0471</td>\n      <td>-77.225175</td>\n      <td>Yes</td>\n      <td>30</td>\n      <td>2018</td>\n    </tr>\n    <tr>\n      <th>3</th>\n      <td>MCP2892009B</td>\n      <td>Montgomery County Police</td>\n      <td>Property Damage Crash</td>\n      <td>2021-04-28T17:58:00.000</td>\n      <td>South</td>\n      <td>CLEAR</td>\n      <td>39.01532</td>\n      <td>-77.042505</td>\n      <td>No</td>\n      <td>35</td>\n      <td>2013</td>\n    </tr>\n    <tr>\n      <th>5</th>\n      <td>MCP2899004S</td>\n      <td>Montgomery County Police</td>\n      <td>Property Damage Crash</td>\n      <td>2021-04-28T17:34:00.000</td>\n      <td>South</td>\n      <td>CLEAR</td>\n      <td>39.139095</td>\n      <td>-77.26846667</td>\n      <td>Yes</td>\n      <td>55</td>\n      <td>2015</td>\n    </tr>\n    <tr>\n      <th>6</th>\n      <td>MCP2864003Y</td>\n      <td>Montgomery County Police</td>\n      <td>Property Damage Crash</td>\n      <td>2021-04-28T16:26:00.000</td>\n      <td>West</td>\n      <td>CLEAR</td>\n      <td>39.10029167</td>\n      <td>-77.18490833</td>\n      <td>Yes</td>\n      <td>40</td>\n      <td>2006</td>\n    </tr>\n  </tbody>\n</table>\n</div>"
     },
     "metadata": {},
     "execution_count": 7
    }
   ],
   "source": [
    "#cleaning merged data based on unique value results\n",
    "merge_data = merge_data.query(\"vehicle_year >= 1960 and vehicle_year <= 2021\")\n",
    "merge_data = merge_data.query(\"direction != 'Unknown'\")\n",
    "merge_data = merge_data.query(\"driver_at_fault != 'Unknown'\")\n",
    "merge_data = merge_data.query(\"weather not in ['OTHER','UNKNOWN']\")\n",
    "merge_data.head()"
   ]
  },
  {
   "source": [
    "## The merged dataset is now cleaned and ready for further analysis. We now move into creating sub dataframes for each factor, getting the count for each of the factor values."
   ],
   "cell_type": "markdown",
   "metadata": {}
  },
  {
   "cell_type": "code",
   "execution_count": 8,
   "metadata": {},
   "outputs": [
    {
     "output_type": "execute_result",
     "data": {
      "text/plain": [
       "    Hour  num_accidents\n",
       "17    17           8164\n",
       "16    16           7710\n",
       "15    15           7498\n",
       "18    18           7137\n",
       "8      8           6530"
      ],
      "text/html": "<div>\n<style scoped>\n    .dataframe tbody tr th:only-of-type {\n        vertical-align: middle;\n    }\n\n    .dataframe tbody tr th {\n        vertical-align: top;\n    }\n\n    .dataframe thead th {\n        text-align: right;\n    }\n</style>\n<table border=\"1\" class=\"dataframe\">\n  <thead>\n    <tr style=\"text-align: right;\">\n      <th></th>\n      <th>Hour</th>\n      <th>num_accidents</th>\n    </tr>\n  </thead>\n  <tbody>\n    <tr>\n      <th>17</th>\n      <td>17</td>\n      <td>8164</td>\n    </tr>\n    <tr>\n      <th>16</th>\n      <td>16</td>\n      <td>7710</td>\n    </tr>\n    <tr>\n      <th>15</th>\n      <td>15</td>\n      <td>7498</td>\n    </tr>\n    <tr>\n      <th>18</th>\n      <td>18</td>\n      <td>7137</td>\n    </tr>\n    <tr>\n      <th>8</th>\n      <td>8</td>\n      <td>6530</td>\n    </tr>\n  </tbody>\n</table>\n</div>"
     },
     "metadata": {},
     "execution_count": 8
    }
   ],
   "source": [
    "#strip time from Date/Time column\n",
    "merge_data[['Date', 'Time']] = merge_data['crash_date_time'].str.split('T', expand=True)\n",
    "merge_data = merge_data.drop(['crash_date_time'], axis=1)\n",
    "\n",
    "#calculate hour of day\n",
    "merge_data['Hour'] = pd.to_datetime(merge_data['Time']).dt.hour\n",
    "merge_data.head()\n",
    "\n",
    "#calculate accidents by hour\n",
    "hour = merge_data[['report_number', 'Hour']]\n",
    "hour = hour.groupby('Hour').count().reset_index()\n",
    "hour.columns = ['Hour', 'num_accidents']\n",
    "hour = hour.sort_values(by='num_accidents', ascending=False)\n",
    "hour.head()"
   ]
  },
  {
   "cell_type": "code",
   "execution_count": 9,
   "metadata": {},
   "outputs": [
    {
     "output_type": "execute_result",
     "data": {
      "text/plain": [
       "   vehicle_year  num_accidents\n",
       "51         2015           7124\n",
       "50         2014           7066\n",
       "49         2013           6747\n",
       "52         2016           6168\n",
       "48         2012           5845"
      ],
      "text/html": "<div>\n<style scoped>\n    .dataframe tbody tr th:only-of-type {\n        vertical-align: middle;\n    }\n\n    .dataframe tbody tr th {\n        vertical-align: top;\n    }\n\n    .dataframe thead th {\n        text-align: right;\n    }\n</style>\n<table border=\"1\" class=\"dataframe\">\n  <thead>\n    <tr style=\"text-align: right;\">\n      <th></th>\n      <th>vehicle_year</th>\n      <th>num_accidents</th>\n    </tr>\n  </thead>\n  <tbody>\n    <tr>\n      <th>51</th>\n      <td>2015</td>\n      <td>7124</td>\n    </tr>\n    <tr>\n      <th>50</th>\n      <td>2014</td>\n      <td>7066</td>\n    </tr>\n    <tr>\n      <th>49</th>\n      <td>2013</td>\n      <td>6747</td>\n    </tr>\n    <tr>\n      <th>52</th>\n      <td>2016</td>\n      <td>6168</td>\n    </tr>\n    <tr>\n      <th>48</th>\n      <td>2012</td>\n      <td>5845</td>\n    </tr>\n  </tbody>\n</table>\n</div>"
     },
     "metadata": {},
     "execution_count": 9
    }
   ],
   "source": [
    "# calculate accidents by year\n",
    "year = merge_data[[\"report_number\", \"vehicle_year\"]]\n",
    "year = year.groupby(\"vehicle_year\").count().reset_index()\n",
    "year.columns = [\"vehicle_year\", \"num_accidents\"]\n",
    "year = year.sort_values(by=\"vehicle_year\", ascending=False)\n",
    "year = year.head(20).sort_values(by=\"vehicle_year\")\n",
    "year[\"vehicle_year\"] = year[\"vehicle_year\"].apply(lambda x : str(x))\n",
    "year = year.sort_values(by='num_accidents', ascending=False)\n",
    "year.head()"
   ]
  },
  {
   "cell_type": "code",
   "execution_count": 10,
   "metadata": {},
   "outputs": [
    {
     "output_type": "execute_result",
     "data": {
      "text/plain": [
       "   speed_limit  num_accidents\n",
       "6           35          30371\n",
       "7           40          22824\n",
       "5           30          14773\n",
       "4           25          13648\n",
       "8           45           8486"
      ],
      "text/html": "<div>\n<style scoped>\n    .dataframe tbody tr th:only-of-type {\n        vertical-align: middle;\n    }\n\n    .dataframe tbody tr th {\n        vertical-align: top;\n    }\n\n    .dataframe thead th {\n        text-align: right;\n    }\n</style>\n<table border=\"1\" class=\"dataframe\">\n  <thead>\n    <tr style=\"text-align: right;\">\n      <th></th>\n      <th>speed_limit</th>\n      <th>num_accidents</th>\n    </tr>\n  </thead>\n  <tbody>\n    <tr>\n      <th>6</th>\n      <td>35</td>\n      <td>30371</td>\n    </tr>\n    <tr>\n      <th>7</th>\n      <td>40</td>\n      <td>22824</td>\n    </tr>\n    <tr>\n      <th>5</th>\n      <td>30</td>\n      <td>14773</td>\n    </tr>\n    <tr>\n      <th>4</th>\n      <td>25</td>\n      <td>13648</td>\n    </tr>\n    <tr>\n      <th>8</th>\n      <td>45</td>\n      <td>8486</td>\n    </tr>\n  </tbody>\n</table>\n</div>"
     },
     "metadata": {},
     "execution_count": 10
    }
   ],
   "source": [
    "#calculate accidents by speed limit\n",
    "speed = merge_data[[\"report_number\", \"speed_limit\"]]\n",
    "speed = speed.groupby(\"speed_limit\").count().reset_index()\n",
    "speed.columns = [\"speed_limit\", \"num_accidents\"]\n",
    "speed.speed_limit = speed.speed_limit.astype(int)\n",
    "speed = speed.sort_values('num_accidents', ascending=False)\n",
    "speed.head()"
   ]
  },
  {
   "cell_type": "code",
   "execution_count": 11,
   "metadata": {},
   "outputs": [
    {
     "output_type": "execute_result",
     "data": {
      "text/plain": [
       "   weather  num_accidents\n",
       "2    CLEAR          71163\n",
       "5  RAINING          13816\n",
       "3   CLOUDY          11510\n",
       "8     SNOW           1125\n",
       "4    FOGGY            452"
      ],
      "text/html": "<div>\n<style scoped>\n    .dataframe tbody tr th:only-of-type {\n        vertical-align: middle;\n    }\n\n    .dataframe tbody tr th {\n        vertical-align: top;\n    }\n\n    .dataframe thead th {\n        text-align: right;\n    }\n</style>\n<table border=\"1\" class=\"dataframe\">\n  <thead>\n    <tr style=\"text-align: right;\">\n      <th></th>\n      <th>weather</th>\n      <th>num_accidents</th>\n    </tr>\n  </thead>\n  <tbody>\n    <tr>\n      <th>2</th>\n      <td>CLEAR</td>\n      <td>71163</td>\n    </tr>\n    <tr>\n      <th>5</th>\n      <td>RAINING</td>\n      <td>13816</td>\n    </tr>\n    <tr>\n      <th>3</th>\n      <td>CLOUDY</td>\n      <td>11510</td>\n    </tr>\n    <tr>\n      <th>8</th>\n      <td>SNOW</td>\n      <td>1125</td>\n    </tr>\n    <tr>\n      <th>4</th>\n      <td>FOGGY</td>\n      <td>452</td>\n    </tr>\n  </tbody>\n</table>\n</div>"
     },
     "metadata": {},
     "execution_count": 11
    }
   ],
   "source": [
    "# calculate accidents by weather\n",
    "weather = merge_data[[\"report_number\", \"weather\"]]\n",
    "weather = weather.groupby(\"weather\").count().reset_index()\n",
    "weather.columns = [\"weather\", \"num_accidents\"]\n",
    "weather = weather.sort_values(by=\"num_accidents\", ascending=False)\n",
    "weather.head()"
   ]
  },
  {
   "cell_type": "code",
   "execution_count": 12,
   "metadata": {},
   "outputs": [
    {
     "output_type": "execute_result",
     "data": {
      "text/plain": [
       "  direction  num_accidents\n",
       "1     North          41759\n",
       "0      East          25069\n",
       "2     South          19479\n",
       "3      West          12451"
      ],
      "text/html": "<div>\n<style scoped>\n    .dataframe tbody tr th:only-of-type {\n        vertical-align: middle;\n    }\n\n    .dataframe tbody tr th {\n        vertical-align: top;\n    }\n\n    .dataframe thead th {\n        text-align: right;\n    }\n</style>\n<table border=\"1\" class=\"dataframe\">\n  <thead>\n    <tr style=\"text-align: right;\">\n      <th></th>\n      <th>direction</th>\n      <th>num_accidents</th>\n    </tr>\n  </thead>\n  <tbody>\n    <tr>\n      <th>1</th>\n      <td>North</td>\n      <td>41759</td>\n    </tr>\n    <tr>\n      <th>0</th>\n      <td>East</td>\n      <td>25069</td>\n    </tr>\n    <tr>\n      <th>2</th>\n      <td>South</td>\n      <td>19479</td>\n    </tr>\n    <tr>\n      <th>3</th>\n      <td>West</td>\n      <td>12451</td>\n    </tr>\n  </tbody>\n</table>\n</div>"
     },
     "metadata": {},
     "execution_count": 12
    }
   ],
   "source": [
    "# calculate accidents by direction \n",
    "direction = merge_data[[\"report_number\", \"direction\"]]\n",
    "direction = direction.groupby(\"direction\").count().reset_index()\n",
    "direction.columns = [\"direction\", \"num_accidents\"]\n",
    "direction = direction.sort_values(by=\"num_accidents\", ascending=False)\n",
    "direction.head()"
   ]
  },
  {
   "cell_type": "code",
   "execution_count": 13,
   "metadata": {},
   "outputs": [
    {
     "output_type": "execute_result",
     "data": {
      "text/plain": [
       "  fault  num_accidents\n",
       "1   Yes          51454\n",
       "0    No          47304"
      ],
      "text/html": "<div>\n<style scoped>\n    .dataframe tbody tr th:only-of-type {\n        vertical-align: middle;\n    }\n\n    .dataframe tbody tr th {\n        vertical-align: top;\n    }\n\n    .dataframe thead th {\n        text-align: right;\n    }\n</style>\n<table border=\"1\" class=\"dataframe\">\n  <thead>\n    <tr style=\"text-align: right;\">\n      <th></th>\n      <th>fault</th>\n      <th>num_accidents</th>\n    </tr>\n  </thead>\n  <tbody>\n    <tr>\n      <th>1</th>\n      <td>Yes</td>\n      <td>51454</td>\n    </tr>\n    <tr>\n      <th>0</th>\n      <td>No</td>\n      <td>47304</td>\n    </tr>\n  </tbody>\n</table>\n</div>"
     },
     "metadata": {},
     "execution_count": 13
    }
   ],
   "source": [
    "# calculate accidents by driver fault\n",
    "fault= merge_data[[\"report_number\", \"driver_at_fault\"]]\n",
    "fault = fault.groupby(\"driver_at_fault\").count().reset_index()\n",
    "fault.columns = [\"fault\", \"num_accidents\"]\n",
    "fault = fault.sort_values(by=\"num_accidents\", ascending=False)\n",
    "fault.head()"
   ]
  },
  {
   "source": [
    "Click here to view our [Data Analysis & Conclusions](https://inst447project-zamundawarriors.herokuapp.com/)"
   ],
   "cell_type": "markdown",
   "metadata": {}
  }
 ],
 "metadata": {
  "kernelspec": {
   "name": "python385jvsc74a57bd008db6ecd098049e967c1cdaceda8b9102a677ce0a57d8e46dd692f46d2089ba4",
   "display_name": "Python 3.8.5 64-bit ('base': conda)"
  },
  "language_info": {
   "codemirror_mode": {
    "name": "ipython",
    "version": 3
   },
   "file_extension": ".py",
   "mimetype": "text/x-python",
   "name": "python",
   "nbconvert_exporter": "python",
   "pygments_lexer": "ipython3",
   "version": "3.8.5"
  },
  "metadata": {
   "interpreter": {
    "hash": "2db524e06e9f5f4ffedc911c917cb75e12dbc923643829bf417064a77eb14d37"
   }
  }
 },
 "nbformat": 4,
 "nbformat_minor": 2
}
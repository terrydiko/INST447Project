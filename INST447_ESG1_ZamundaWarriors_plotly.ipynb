{
 "cells": [
  {
   "cell_type": "markdown",
   "metadata": {},
   "source": [
    "# Project : In Montomery County, MD, what factors have the biggest influence in car accidents?\n",
    "# Factors Analyzed: Hour of Accident, Vehicle Year, Speed Limit, Weather, Direction, Driver Fault \n",
    "\n",
    "### Team - Zamunda Warriors: Amari, Isaac, Nicolas, Terrence\n",
    "### Data provided by [Montgomery County MD](https://data.montgomerycountymd.gov/)"
   ]
  },
  {
   "cell_type": "code",
   "execution_count": 1,
   "metadata": {},
   "outputs": [],
   "source": [
    "import pip\n",
    "\n",
    "def import_or_install(package):\n",
    "    try:\n",
    "        return __import__(package)\n",
    "    except ImportError:\n",
    "        pip.main(['install', package]) \n",
    "        return __import__(package)\n",
    "\n",
    "os = import_or_install(\"os\")\n",
    "pd = import_or_install(\"pandas\")\n",
    "import_or_install(\"matplotlib\")\n",
    "plt = import_or_install(\"matplotlib.pyplot\")\n",
    "np = import_or_install(\"numpy\")\n",
    "dash = import_or_install(\"dash\")\n",
    "dcc = import_or_install(\"dash_core_components\")\n",
    "html = import_or_install(\"dash_html_components\")\n",
    "plotly = import_or_install(\"plotly\")\n",
    "go = plotly.graph_objects\n",
    "import_or_install(\"plotly.express\")\n",
    "px = plotly.express\n",
    "\n",
    "#read in driver dataset\n",
    "drivers = pd.read_csv(\"https://raw.githubusercontent.com/terrydiko/INST447Project/main/Drivers.csv\", encoding='utf-8', dtype=\"str\")\n",
    "drivers\n",
    "\n",
    "\n",
    "#read in incidents dataset\n",
    "incidents = pd.read_csv(\"https://raw.githubusercontent.com/terrydiko/INST447Project/main/Incidents.csv\", encoding= 'utf-8', dtype=\"str\")\n",
    "incidents\n",
    "\n",
    "\n",
    "#merge the two datasets\n",
    "merge_data = incidents.merge(drivers, on='report_number', how='inner')\n",
    "merge_data[\"vehicle_year\"] = merge_data[\"vehicle_year\"].apply(lambda x : int(x))\n",
    "merge_data = merge_data.dropna()"
   ]
  },
  {
   "cell_type": "markdown",
   "metadata": {},
   "source": [
    "## At this point, we know what factors we want to analyze to answer the main question. Now, we begin that the data cleaning process. That starts with identifying the unique values of each factor, and then get rid of any null, blank, unknown, or erroneous values."
   ]
  },
  {
   "cell_type": "code",
   "execution_count": 2,
   "metadata": {},
   "outputs": [
    {
     "output_type": "stream",
     "name": "stdout",
     "text": [
      "Year Values: [0, 1, 2, 3, 4, 8, 13, 14, 15, 97, 99, 198, 200, 201, 202, 215, 1005, 1014, 1015, 1025, 1111, 1140, 1234, 1900, 1901, 1947, 1949, 1955, 1959, 1960, 1963, 1965, 1966, 1967, 1968, 1969, 1970, 1971, 1972, 1974, 1975, 1976, 1977, 1978, 1979, 1980, 1981, 1982, 1983, 1984, 1985, 1986, 1987, 1988, 1989, 1990, 1991, 1992, 1993, 1994, 1995, 1996, 1997, 1998, 1999, 2000, 2001, 2002, 2003, 2004, 2005, 2006, 2007, 2008, 2009, 2010, 2011, 2012, 2013, 2014, 2015, 2016, 2017, 2018, 2019, 2020, 2021, 2022, 2033, 2040, 2041, 2055, 2099, 2100, 2103, 2104, 2200, 2204, 2911, 2912, 2914, 2917, 2991, 2996, 2998, 3003, 3013, 3863, 5005, 8008, 8888, 9999]\n\n\nWeather  Values: ['BLOWING SAND, SOIL, DIRT', 'BLOWING SNOW', 'CLEAR', 'CLOUDY', 'FOGGY', 'OTHER', 'RAINING', 'SEVERE WINDS', 'SLEET', 'SNOW', 'UNKNOWN', 'WINTRY MIX']\n\n\nDirection Values: ['East', 'North', 'South', 'Unknown', 'West']\n\n\nSpeed Limit Values: ['0', '10', '15', '20', '25', '30', '35', '40', '45', '5', '50', '55', '60', '65', '70']\n\n\nDriver Fault Values: ['No', 'Unknown', 'Yes']\n\n\n"
     ]
    },
    {
     "output_type": "execute_result",
     "data": {
      "text/plain": [
       "  report_number               agency_name       acrs_report_type  \\\n",
       "1   MCP3290000G  Montgomery County Police  Property Damage Crash   \n",
       "2   MCP3283000M  Montgomery County Police  Property Damage Crash   \n",
       "3   MCP2892009B  Montgomery County Police  Property Damage Crash   \n",
       "5   MCP2899004S  Montgomery County Police  Property Damage Crash   \n",
       "6   MCP2864003Y  Montgomery County Police  Property Damage Crash   \n",
       "\n",
       "           crash_date_time direction weather     latitude     longitude  \\\n",
       "1  2021-04-28T21:01:00.000     South   CLEAR    39.059336    -76.944363   \n",
       "2  2021-04-28T20:37:00.000      East   CLEAR      39.0471    -77.225175   \n",
       "3  2021-04-28T17:58:00.000     South   CLEAR     39.01532    -77.042505   \n",
       "5  2021-04-28T17:34:00.000     South   CLEAR    39.139095  -77.26846667   \n",
       "6  2021-04-28T16:26:00.000      West   CLEAR  39.10029167  -77.18490833   \n",
       "\n",
       "  driver_at_fault speed_limit  vehicle_year  \n",
       "1             Yes          40          2006  \n",
       "2             Yes          30          2018  \n",
       "3              No          35          2013  \n",
       "5             Yes          55          2015  \n",
       "6             Yes          40          2006  "
      ],
      "text/html": "<div>\n<style scoped>\n    .dataframe tbody tr th:only-of-type {\n        vertical-align: middle;\n    }\n\n    .dataframe tbody tr th {\n        vertical-align: top;\n    }\n\n    .dataframe thead th {\n        text-align: right;\n    }\n</style>\n<table border=\"1\" class=\"dataframe\">\n  <thead>\n    <tr style=\"text-align: right;\">\n      <th></th>\n      <th>report_number</th>\n      <th>agency_name</th>\n      <th>acrs_report_type</th>\n      <th>crash_date_time</th>\n      <th>direction</th>\n      <th>weather</th>\n      <th>latitude</th>\n      <th>longitude</th>\n      <th>driver_at_fault</th>\n      <th>speed_limit</th>\n      <th>vehicle_year</th>\n    </tr>\n  </thead>\n  <tbody>\n    <tr>\n      <th>1</th>\n      <td>MCP3290000G</td>\n      <td>Montgomery County Police</td>\n      <td>Property Damage Crash</td>\n      <td>2021-04-28T21:01:00.000</td>\n      <td>South</td>\n      <td>CLEAR</td>\n      <td>39.059336</td>\n      <td>-76.944363</td>\n      <td>Yes</td>\n      <td>40</td>\n      <td>2006</td>\n    </tr>\n    <tr>\n      <th>2</th>\n      <td>MCP3283000M</td>\n      <td>Montgomery County Police</td>\n      <td>Property Damage Crash</td>\n      <td>2021-04-28T20:37:00.000</td>\n      <td>East</td>\n      <td>CLEAR</td>\n      <td>39.0471</td>\n      <td>-77.225175</td>\n      <td>Yes</td>\n      <td>30</td>\n      <td>2018</td>\n    </tr>\n    <tr>\n      <th>3</th>\n      <td>MCP2892009B</td>\n      <td>Montgomery County Police</td>\n      <td>Property Damage Crash</td>\n      <td>2021-04-28T17:58:00.000</td>\n      <td>South</td>\n      <td>CLEAR</td>\n      <td>39.01532</td>\n      <td>-77.042505</td>\n      <td>No</td>\n      <td>35</td>\n      <td>2013</td>\n    </tr>\n    <tr>\n      <th>5</th>\n      <td>MCP2899004S</td>\n      <td>Montgomery County Police</td>\n      <td>Property Damage Crash</td>\n      <td>2021-04-28T17:34:00.000</td>\n      <td>South</td>\n      <td>CLEAR</td>\n      <td>39.139095</td>\n      <td>-77.26846667</td>\n      <td>Yes</td>\n      <td>55</td>\n      <td>2015</td>\n    </tr>\n    <tr>\n      <th>6</th>\n      <td>MCP2864003Y</td>\n      <td>Montgomery County Police</td>\n      <td>Property Damage Crash</td>\n      <td>2021-04-28T16:26:00.000</td>\n      <td>West</td>\n      <td>CLEAR</td>\n      <td>39.10029167</td>\n      <td>-77.18490833</td>\n      <td>Yes</td>\n      <td>40</td>\n      <td>2006</td>\n    </tr>\n  </tbody>\n</table>\n</div>"
     },
     "metadata": {},
     "execution_count": 2
    }
   ],
   "source": [
    "# Unique values for year, weather, direction, speed limit, and driver fault\n",
    "print('Year Values: ' + str(sorted(merge_data[\"vehicle_year\"].unique())))\n",
    "print(\"\\n\")\n",
    "print('Weather  Values: ' + str(sorted(merge_data[\"weather\"].unique())))\n",
    "print(\"\\n\")\n",
    "print('Direction Values: ' + str(sorted(merge_data[\"direction\"].unique())))\n",
    "print(\"\\n\")\n",
    "print('Speed Limit Values: ' + str(sorted(merge_data[\"speed_limit\"].unique())))\n",
    "print(\"\\n\")\n",
    "print('Driver Fault Values: ' + str(sorted(merge_data[\"driver_at_fault\"].unique())))\n",
    "print(\"\\n\")\n",
    "\n",
    "#cleaning merged data based on unique value results\n",
    "merge_data = merge_data.query(\"vehicle_year >= 1960 and vehicle_year <= 2021\")\n",
    "merge_data = merge_data.query(\"direction != 'Unknown'\")\n",
    "merge_data = merge_data.query(\"driver_at_fault != 'Unknown'\")\n",
    "merge_data = merge_data.query(\"weather not in ['OTHER','UNKNOWN']\")\n",
    "merge_data.head()"
   ]
  },
  {
   "cell_type": "markdown",
   "metadata": {},
   "source": [
    "## The merged dataset is now cleaned and ready for further analysis. We now move into creating sub dataframes for each factor, getting the count for each of the factor values."
   ]
  },
  {
   "cell_type": "code",
   "execution_count": 3,
   "metadata": {},
   "outputs": [
    {
     "output_type": "execute_result",
     "data": {
      "text/plain": [
       "  report_number               agency_name       acrs_report_type direction  \\\n",
       "1   MCP3290000G  Montgomery County Police  Property Damage Crash     South   \n",
       "2   MCP3283000M  Montgomery County Police  Property Damage Crash      East   \n",
       "3   MCP2892009B  Montgomery County Police  Property Damage Crash     South   \n",
       "5   MCP2899004S  Montgomery County Police  Property Damage Crash     South   \n",
       "6   MCP2864003Y  Montgomery County Police  Property Damage Crash      West   \n",
       "\n",
       "  weather     latitude     longitude driver_at_fault speed_limit  \\\n",
       "1   CLEAR    39.059336    -76.944363             Yes          40   \n",
       "2   CLEAR      39.0471    -77.225175             Yes          30   \n",
       "3   CLEAR     39.01532    -77.042505              No          35   \n",
       "5   CLEAR    39.139095  -77.26846667             Yes          55   \n",
       "6   CLEAR  39.10029167  -77.18490833             Yes          40   \n",
       "\n",
       "   vehicle_year        Date          Time  Hour  \n",
       "1          2006  2021-04-28  21:01:00.000    21  \n",
       "2          2018  2021-04-28  20:37:00.000    20  \n",
       "3          2013  2021-04-28  17:58:00.000    17  \n",
       "5          2015  2021-04-28  17:34:00.000    17  \n",
       "6          2006  2021-04-28  16:26:00.000    16  "
      ],
      "text/html": "<div>\n<style scoped>\n    .dataframe tbody tr th:only-of-type {\n        vertical-align: middle;\n    }\n\n    .dataframe tbody tr th {\n        vertical-align: top;\n    }\n\n    .dataframe thead th {\n        text-align: right;\n    }\n</style>\n<table border=\"1\" class=\"dataframe\">\n  <thead>\n    <tr style=\"text-align: right;\">\n      <th></th>\n      <th>report_number</th>\n      <th>agency_name</th>\n      <th>acrs_report_type</th>\n      <th>direction</th>\n      <th>weather</th>\n      <th>latitude</th>\n      <th>longitude</th>\n      <th>driver_at_fault</th>\n      <th>speed_limit</th>\n      <th>vehicle_year</th>\n      <th>Date</th>\n      <th>Time</th>\n      <th>Hour</th>\n    </tr>\n  </thead>\n  <tbody>\n    <tr>\n      <th>1</th>\n      <td>MCP3290000G</td>\n      <td>Montgomery County Police</td>\n      <td>Property Damage Crash</td>\n      <td>South</td>\n      <td>CLEAR</td>\n      <td>39.059336</td>\n      <td>-76.944363</td>\n      <td>Yes</td>\n      <td>40</td>\n      <td>2006</td>\n      <td>2021-04-28</td>\n      <td>21:01:00.000</td>\n      <td>21</td>\n    </tr>\n    <tr>\n      <th>2</th>\n      <td>MCP3283000M</td>\n      <td>Montgomery County Police</td>\n      <td>Property Damage Crash</td>\n      <td>East</td>\n      <td>CLEAR</td>\n      <td>39.0471</td>\n      <td>-77.225175</td>\n      <td>Yes</td>\n      <td>30</td>\n      <td>2018</td>\n      <td>2021-04-28</td>\n      <td>20:37:00.000</td>\n      <td>20</td>\n    </tr>\n    <tr>\n      <th>3</th>\n      <td>MCP2892009B</td>\n      <td>Montgomery County Police</td>\n      <td>Property Damage Crash</td>\n      <td>South</td>\n      <td>CLEAR</td>\n      <td>39.01532</td>\n      <td>-77.042505</td>\n      <td>No</td>\n      <td>35</td>\n      <td>2013</td>\n      <td>2021-04-28</td>\n      <td>17:58:00.000</td>\n      <td>17</td>\n    </tr>\n    <tr>\n      <th>5</th>\n      <td>MCP2899004S</td>\n      <td>Montgomery County Police</td>\n      <td>Property Damage Crash</td>\n      <td>South</td>\n      <td>CLEAR</td>\n      <td>39.139095</td>\n      <td>-77.26846667</td>\n      <td>Yes</td>\n      <td>55</td>\n      <td>2015</td>\n      <td>2021-04-28</td>\n      <td>17:34:00.000</td>\n      <td>17</td>\n    </tr>\n    <tr>\n      <th>6</th>\n      <td>MCP2864003Y</td>\n      <td>Montgomery County Police</td>\n      <td>Property Damage Crash</td>\n      <td>West</td>\n      <td>CLEAR</td>\n      <td>39.10029167</td>\n      <td>-77.18490833</td>\n      <td>Yes</td>\n      <td>40</td>\n      <td>2006</td>\n      <td>2021-04-28</td>\n      <td>16:26:00.000</td>\n      <td>16</td>\n    </tr>\n  </tbody>\n</table>\n</div>"
     },
     "metadata": {},
     "execution_count": 3
    }
   ],
   "source": [
    "#strip time from Date/Time column\n",
    "merge_data[['Date', 'Time']] = merge_data['crash_date_time'].str.split('T', expand=True)\n",
    "merge_data = merge_data.drop(['crash_date_time'], axis=1)\n",
    "\n",
    "#calculate hour of day\n",
    "merge_data['Hour'] = pd.to_datetime(merge_data['Time']).dt.hour\n",
    "merge_data.head()"
   ]
  },
  {
   "cell_type": "code",
   "execution_count": 4,
   "metadata": {},
   "outputs": [
    {
     "output_type": "execute_result",
     "data": {
      "text/plain": [
       "    Hour  Number of Accidents\n",
       "17    17                 8164\n",
       "16    16                 7710\n",
       "15    15                 7498\n",
       "18    18                 7137\n",
       "8      8                 6530"
      ],
      "text/html": "<div>\n<style scoped>\n    .dataframe tbody tr th:only-of-type {\n        vertical-align: middle;\n    }\n\n    .dataframe tbody tr th {\n        vertical-align: top;\n    }\n\n    .dataframe thead th {\n        text-align: right;\n    }\n</style>\n<table border=\"1\" class=\"dataframe\">\n  <thead>\n    <tr style=\"text-align: right;\">\n      <th></th>\n      <th>Hour</th>\n      <th>Number of Accidents</th>\n    </tr>\n  </thead>\n  <tbody>\n    <tr>\n      <th>17</th>\n      <td>17</td>\n      <td>8164</td>\n    </tr>\n    <tr>\n      <th>16</th>\n      <td>16</td>\n      <td>7710</td>\n    </tr>\n    <tr>\n      <th>15</th>\n      <td>15</td>\n      <td>7498</td>\n    </tr>\n    <tr>\n      <th>18</th>\n      <td>18</td>\n      <td>7137</td>\n    </tr>\n    <tr>\n      <th>8</th>\n      <td>8</td>\n      <td>6530</td>\n    </tr>\n  </tbody>\n</table>\n</div>"
     },
     "metadata": {},
     "execution_count": 4
    }
   ],
   "source": [
    "#calculate accidents by hour\n",
    "hour = merge_data[['report_number', 'Hour']]\n",
    "hour = hour.groupby('Hour').count().reset_index()\n",
    "hour.columns = ['Hour', 'Number of Accidents']\n",
    "hour = hour.sort_values(by='Number of Accidents', ascending=False)\n",
    "\n",
    "fig_hour = px.bar(hour, x='Hour', y='Number of Accidents', color='Hour', template=\"presentation\", title=\"Number of Accidents by Hour\", color_continuous_scale=px.colors.sequential.Sunsetdark[1:])\n",
    "\n",
    "hour.head()"
   ]
  },
  {
   "cell_type": "code",
   "execution_count": 5,
   "metadata": {},
   "outputs": [],
   "source": [
    "year = merge_data[[\"report_number\", \"vehicle_year\"]]\n",
    "year = year.groupby(\"vehicle_year\").count().reset_index()\n",
    "year.columns = [\"Vehicle Year\", \"Number of Accidents\"]\n",
    "year = year.sort_values(by=\"Vehicle Year\", ascending=False)\n",
    "year = year.head(20).sort_values(by=\"Vehicle Year\")\n",
    "year[\"Vehicle Year\"] = year[\"Vehicle Year\"].apply(lambda x : int(x))\n",
    "year = year.sort_values(by='Number of Accidents', ascending=False)\n",
    "year.head()\n",
    "\n",
    "fig_year = px.bar(year, x='Vehicle Year', y='Number of Accidents', color='Vehicle Year', template=\"presentation\", title=\"Number of Accidents by Vehicle Year\", color_continuous_scale=px.colors.sequential.tempo[2:len(px.colors.sequential.tempo)-1])"
   ]
  },
  {
   "cell_type": "code",
   "execution_count": 6,
   "metadata": {},
   "outputs": [],
   "source": [
    "#calculate accidents by speed limit\n",
    "speed = merge_data[[\"report_number\", \"speed_limit\"]]\n",
    "speed = speed.groupby(\"speed_limit\").count().reset_index()\n",
    "speed.speed_limit = speed.speed_limit.astype(int)\n",
    "speed.columns = [\"Speed Limit\", \"Number of Accidents\"]\n",
    "speed = speed.sort_values('Number of Accidents', ascending=False)\n",
    "speed.head()\n",
    "\n",
    "fig_speed = px.bar(speed, x='Speed Limit', y='Number of Accidents', color='Speed Limit', template=\"presentation\", title=\"Number of Accidents by Speed Limit\", color_continuous_scale=px.colors.sequential.speed[2:len(px.colors.sequential.speed)-1])"
   ]
  },
  {
   "cell_type": "code",
   "execution_count": 7,
   "metadata": {},
   "outputs": [],
   "source": [
    "# calculate accidents by weather\n",
    "weather = merge_data[[\"report_number\", \"weather\"]]\n",
    "weather = weather.groupby(\"weather\").count().reset_index()\n",
    "weather.columns = [\"weather\", \"num_accidents\"]\n",
    "weather = weather.sort_values(by=\"num_accidents\", ascending=False)\n",
    "weather.head()\n",
    "\n",
    "fig_weather = px.pie(weather, values='num_accidents', names='weather', title=\"Number of Accidents by Weather\", template='presentation', color='weather', color_discrete_sequence=px.colors.sequential.Turbo[2:], height=500)"
   ]
  },
  {
   "cell_type": "code",
   "execution_count": 8,
   "metadata": {},
   "outputs": [],
   "source": [
    "# calculate accidents by direction \n",
    "direction = merge_data[[\"report_number\", \"direction\"]]\n",
    "direction = direction.groupby(\"direction\").count().reset_index()\n",
    "direction.columns = [\"direction\", \"num_accidents\"]\n",
    "direction = direction.sort_values(by=\"num_accidents\", ascending=False)\n",
    "direction.head()\n",
    "\n",
    "fig_direction = px.pie(direction, values='num_accidents', names='direction', title=\"Number of Accidents by Direction\", template='presentation', color='direction', color_discrete_map={\"North\": \"cornflowerblue\", \"East\":\"gold\", \"South\":\"limegreen\", \"West\":\"orangered\"})"
   ]
  },
  {
   "cell_type": "code",
   "execution_count": 9,
   "metadata": {},
   "outputs": [],
   "source": [
    "# calculate accidents by driver fault\n",
    "fault= merge_data[[\"report_number\", \"driver_at_fault\"]]\n",
    "fault = fault.groupby(\"driver_at_fault\").count().reset_index()\n",
    "fault.columns = [\"fault\", \"num_accidents\"]\n",
    "fault = fault.sort_values(by=\"num_accidents\", ascending=False)\n",
    "fault.head()\n",
    "\n",
    "fig_fault = px.pie(fault, values='num_accidents', names='fault', title=\"Number of Accidents by Driver Fault\", template='presentation', color='fault', color_discrete_map={\"No\": \"red\", \"Yes\":\"green\"})"
   ]
  },
  {
   "cell_type": "code",
   "execution_count": 10,
   "metadata": {
    "scrolled": false
   },
   "outputs": [
    {
     "output_type": "stream",
     "name": "stdout",
     "text": [
      "Dash is running on http://127.0.0.1:8050/\n",
      "\n",
      " * Serving Flask app \"__main__\" (lazy loading)\n",
      " * Environment: production\n",
      "   WARNING: This is a development server. Do not use it in a production deployment.\n",
      "   Use a production WSGI server instead.\n",
      " * Debug mode: off\n",
      " * Running on http://127.0.0.1:8050/ (Press CTRL+C to quit)\n"
     ]
    }
   ],
   "source": [
    "external_stylesheets = ['https://codepen.io/chriddyp/pen/bWLwgP.css']\n",
    "\n",
    "app = dash.Dash(__name__, external_stylesheets=external_stylesheets)\n",
    "app.title = 'INST 447 Project - Team Zamunda Warriors'\n",
    "app.layout = html.Div([\n",
    "        html.Label(\"PROJECT: In Montgomery County, MD, what factors have the biggest influence in car accidents?\", style={\"text-align\": \"center\", \"font-weight\": \"bold\", \"font-size\": \"2em\"}),\n",
    "        html.Label(\"FACTORS: Hour of Accident, Vehicle Year, Speed Limit, Weather, Direction, Driver Fault\", style={\"text-align\": \"center\", \"font-weight\": \"bold\", \"font-size\": \"2em\"}),\n",
    "        html.Div([\n",
    "            html.Label(\"Team - Zamunda Warriors: Amari, Isaac, Nicolas, Terrence\", style={\"text-align\": \"center\", \"font-weight\": \"bold\", \"font-size\": \"1.17em\"}),\n",
    "            html.Label([\n",
    "                \"Data Provided by \",\n",
    "                dcc.Link(\"Montgomery County MD\", href=\"https://data.montgomerycountymd.gov/\")\n",
    "            ], style={\"text-align\": \"center\", \"font-weight\": \"bold\", \"font-size\": \"1.17em\"})\n",
    "        ]),\n",
    "        html.Div([\n",
    "            html.Label(\n",
    "            \"Data Analysis\"\n",
    "            , style={\"font-weight\": \"bold\", \"font-size\": \"1.5em\"}),\n",
    "            dcc.Graph(figure=fig_hour),\n",
    "            html.P([\n",
    "                html.Span(\"Accidents by Hour: \", style={\"font-weight\": \"bold\"}),\n",
    "                \"The number of accidents by hour provides an interesting dynamic. As shown by the graph, the top 3 hours are 5pm, 4pm, and 3pm. Then, 8am comes in as the 4th highest count of all the hours. The count then declines with a mix of morning and early evening hours. We assume that this is due to more traffic on the road. The morning rush of people going to work and evening rush hour of people heading home are why there is a higher count of accidents during the morning and late afternoon.\"\n",
    "            ], style={\"text-align\": \"justify\"}),\n",
    "            dcc.Graph(figure=fig_year),\n",
    "            html.P([\n",
    "                html.Span(\"Accidents by Vehicle Year: \", style={\"font-weight\": \"bold\"}),\n",
    "                \"This graph focuses on vehicle years between 2002-2021. Our initial thought was that older vehicles are more prone to accidents due to newer vehicles having more safety features. However, that was not the case. The graph shows that vehicles of the 2015 year lead the amount of vehicles involved in accidents. In fact, the top 5 years were all in the 2010s. The count per year has a steady decline for the most part. We also can consider the fact that not as many older vehicles may be on the road as older vehicles.\"\n",
    "            ], style={\"text-align\": \"justify\"}),\n",
    "            dcc.Graph(figure=fig_speed),\n",
    "            html.P([\n",
    "                html.Span(\"Accidents by Speed Limit: \", style={\"font-weight\": \"bold\"}),\n",
    "                \"This was one of the most intruiging graphs because speed is often a factor in accidents. This graph shows that roads with a speed limit of 35mph lead the count of accidents. We hypothesize that this is due to people speeding on roads with this limit and not following the rules. If there are drivers doing the limit, and there is a driver driving recklessly, an accident can be caused due the increase in speed. Our hypothesis can be confirmed by looking at the end of the graph. Roads with 70mph have the lowest amount of accident counts. This supports our hypothesis because in the 70mph roads, everyone is going at a higher rate of speed consistently, decreasing the chance of accident. However, for the roads with a lower limit, some drivers may be impatient and decide to go above posted speed, which can cause a crash with drivers following the posted speed.\"\n",
    "            ], style={\"text-align\": \"justify\"}),\n",
    "            dcc.Graph(figure=fig_weather),\n",
    "            html.P([\n",
    "                html.Span(\"Accidents by Weather: \", style={\"font-weight\": \"bold\"}),\n",
    "                \"This graph was surprising because we assumed that more messier weather such as rain and snow would have the highest counts of accidents. However, clear weather, meaning when it's sunny, leads all weather in the count of accidents. This shows that weather is not much of a big influence on crashes as it may seem to be. Even cloudy comes in before snow, so weather may be on the low end of influence.\"\n",
    "            ], style={\"text-align\": \"justify\"}),\n",
    "            dcc.Graph(figure=fig_direction),\n",
    "            html.P([\n",
    "                html.Span(\"Accidents by Direction: \", style={\"font-weight\": \"bold\"}),\n",
    "                \"We considered analyzing this factor to see if a driver's direction could be an influence on accidents. North lead the count of accidents by a decent margin, being followed by East, then South and West. We are not sure what factor is leading to driver's traveling North having more accidents, but the analysis is intruiging nonetheless.\"\n",
    "            ], style={\"text-align\": \"justify\"}),\n",
    "            dcc.Graph(figure=fig_fault),\n",
    "            html.P([\n",
    "                html.Span(\"Accidents by Driver Fault: \", style={\"font-weight\": \"bold\"}),\n",
    "                \"Laslty, we analyzed the count of accidents based on whether the driver was deemed at fault or not. Surprisingly, the number of drivers that were not at fault is only about 4000 less accidents than the drivers that were at fault. Now, this analysis is a bit tricky because you have to take into consideration a driver being faulted for hitting another driver, who is not faulted. Therefore, the analysis is not that surprising because there could be another driver on the end of a driver at fault accident, which causes an increase in the number 'No'.\"\n",
    "            ], style={\"text-align\": \"justify\"}),\n",
    "            html.Br(),\n",
    "            html.Label(\n",
    "                \"Conclusions\"\n",
    "            , style={\"font-weight\": \"bold\", \"font-size\": \"1.5em\"}),\n",
    "            html.Ul([\n",
    "                html.Li(\n",
    "                    \"Our final analysis is that accidents can be caused by various factors. We believe that the strongest factors are the hour of day, speed limit of the road, and direction of travel. The hour of day can depit the level of traffic. An increase in traffice can lead to more accidents. Lower speed limits can be ignored by drivers at times. If an area has a low rate of speed, the driver may drive faster to get through the area quicker. However, their speed now becomes an outlier to the drivers that are doing the posted speed, which can cause an increase in accidents. Lastly, direction can play a part in the number of accidents if many people are traveling in the same direction at once. Also, there are even cases of people crossing the opposite side of the road, causing head on collisions.\"\n",
    "                , style={\"text-align\": \"justify\"}),\n",
    "                html.Li(\n",
    "                    \"Nonetheless, we must remember that this data is only being sourced from Montgomery County, MD, a small subset of crash data worldwide. Further analysis and more data is needed to effectively conclude on what factors, if any, are big influences on accidents, or are certain factors combined a big influence on crashes.\"\n",
    "                , style={\"text-align\": \"justify\"}),\n",
    "            ]),\n",
    "            html.Br(),\n",
    "        ], style={\"padding-left\": \"90px\", \"padding-right\": \"90px\"})\n",
    "    ], style={\"padding-left\": \"10px\", \"padding-right\": \"10px\"}\n",
    ")\n",
    "\n",
    "if __name__ == '__main__':\n",
    "    app.run_server(debug=False, use_reloader=False)"
   ]
  }
 ],
 "metadata": {
  "kernelspec": {
   "name": "python385jvsc74a57bd008db6ecd098049e967c1cdaceda8b9102a677ce0a57d8e46dd692f46d2089ba4",
   "display_name": "Python 3.8.5 64-bit ('base': conda)"
  },
  "language_info": {
   "codemirror_mode": {
    "name": "ipython",
    "version": 3
   },
   "file_extension": ".py",
   "mimetype": "text/x-python",
   "name": "python",
   "nbconvert_exporter": "python",
   "pygments_lexer": "ipython3",
   "version": "3.8.5"
  },
  "metadata": {
   "interpreter": {
    "hash": "2db524e06e9f5f4ffedc911c917cb75e12dbc923643829bf417064a77eb14d37"
   }
  }
 },
 "nbformat": 4,
 "nbformat_minor": 2
}